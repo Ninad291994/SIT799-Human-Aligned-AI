{
 "cells": [
  {
   "cell_type": "markdown",
   "metadata": {},
   "source": [
    "GitHub:"
   ]
  },
  {
   "cell_type": "markdown",
   "metadata": {},
   "source": [
    "Welcome to your assignment this week! \n",
    "\n",
    "To better understand bias and discrimination in AI, in this assignment, we will look at a Natural Language Processing use case. \n",
    "\n",
    "Natural Language Pocessing (NLP) is a branch of Artificial Intelligence (AI) that helps computers to understand, to interpret and to manipulate natural (i.e. human) language.\n",
    "Imagine NLP-powered machines as black boxes that are capable of understanding and evaluating the context of the input documents (i.e. collection of words), outputting meaningful results that depend on the task the machine is designed for.\n",
    "\n",
    "\n",
    "![](images/1_3zMvUnPzYZF9CSHdj6hT5A.png \"the title\")\n",
    "\n",
    "\n",
    "\n",
    "<caption><center> Documents are fed into magic NLP model capable to get, for instance, the sentiment of the original content</center></caption>\n",
    "\n",
    "\n",
    "\n",
    "Just like any other machine learning algorithm, biased data results in biased outcomes. And just like any other algorithm, results debiasing is painfully annoying, to the point that it might be simpler to unbias the society itself.\n",
    "\n",
    "# The big deal: word embeddings\n",
    "\n",
    "Words must be represented as **numeric vectors** in order to be fed into machine learning algorithms. One of the most powerful (and popular) ways to do it is through **Word Embeddings**. In word embedding models, each word in a given language is assigned to a high-dimensional vector, such that **the geometry of the vectors captures relations between the words**. \n",
    "\n",
    "\n",
    "Because word embeddings are very computionally expensive to train, most ML practitioners will load a pre-trained set of embeddings. \n",
    "\n",
    "**After this assignment you will be able to:**\n",
    "\n",
    "- Load pre-trained word vectors, and measure similarity using cosine similarity\n",
    "- Use word embeddings to solve word analogy problems such as Man is to Woman as King is to ______. \n",
    "- Modify word embeddings to reduce their gender bias \n",
    "\n",
    "Let's get started! Run the following cell to install all the packages you will need."
   ]
  },
  {
   "cell_type": "code",
   "execution_count": 1,
   "metadata": {},
   "outputs": [],
   "source": [
    "#!pip install numpy\n",
    "#!pip install keras\n",
    "#!pip install tensorflow"
   ]
  },
  {
   "cell_type": "markdown",
   "metadata": {},
   "source": [
    "Run the following cell to load the packages you will need."
   ]
  },
  {
   "cell_type": "code",
   "execution_count": 2,
   "metadata": {},
   "outputs": [
    {
     "name": "stderr",
     "output_type": "stream",
     "text": [
      "Using TensorFlow backend.\n",
      "C:\\Users\\61431\\anaconda3\\lib\\site-packages\\tensorflow\\python\\framework\\dtypes.py:516: FutureWarning: Passing (type, 1) or '1type' as a synonym of type is deprecated; in a future version of numpy, it will be understood as (type, (1,)) / '(1,)type'.\n",
      "  _np_qint8 = np.dtype([(\"qint8\", np.int8, 1)])\n",
      "C:\\Users\\61431\\anaconda3\\lib\\site-packages\\tensorflow\\python\\framework\\dtypes.py:517: FutureWarning: Passing (type, 1) or '1type' as a synonym of type is deprecated; in a future version of numpy, it will be understood as (type, (1,)) / '(1,)type'.\n",
      "  _np_quint8 = np.dtype([(\"quint8\", np.uint8, 1)])\n",
      "C:\\Users\\61431\\anaconda3\\lib\\site-packages\\tensorflow\\python\\framework\\dtypes.py:518: FutureWarning: Passing (type, 1) or '1type' as a synonym of type is deprecated; in a future version of numpy, it will be understood as (type, (1,)) / '(1,)type'.\n",
      "  _np_qint16 = np.dtype([(\"qint16\", np.int16, 1)])\n",
      "C:\\Users\\61431\\anaconda3\\lib\\site-packages\\tensorflow\\python\\framework\\dtypes.py:519: FutureWarning: Passing (type, 1) or '1type' as a synonym of type is deprecated; in a future version of numpy, it will be understood as (type, (1,)) / '(1,)type'.\n",
      "  _np_quint16 = np.dtype([(\"quint16\", np.uint16, 1)])\n",
      "C:\\Users\\61431\\anaconda3\\lib\\site-packages\\tensorflow\\python\\framework\\dtypes.py:520: FutureWarning: Passing (type, 1) or '1type' as a synonym of type is deprecated; in a future version of numpy, it will be understood as (type, (1,)) / '(1,)type'.\n",
      "  _np_qint32 = np.dtype([(\"qint32\", np.int32, 1)])\n",
      "C:\\Users\\61431\\anaconda3\\lib\\site-packages\\tensorflow\\python\\framework\\dtypes.py:525: FutureWarning: Passing (type, 1) or '1type' as a synonym of type is deprecated; in a future version of numpy, it will be understood as (type, (1,)) / '(1,)type'.\n",
      "  np_resource = np.dtype([(\"resource\", np.ubyte, 1)])\n",
      "C:\\Users\\61431\\anaconda3\\lib\\site-packages\\tensorboard\\compat\\tensorflow_stub\\dtypes.py:541: FutureWarning: Passing (type, 1) or '1type' as a synonym of type is deprecated; in a future version of numpy, it will be understood as (type, (1,)) / '(1,)type'.\n",
      "  _np_qint8 = np.dtype([(\"qint8\", np.int8, 1)])\n",
      "C:\\Users\\61431\\anaconda3\\lib\\site-packages\\tensorboard\\compat\\tensorflow_stub\\dtypes.py:542: FutureWarning: Passing (type, 1) or '1type' as a synonym of type is deprecated; in a future version of numpy, it will be understood as (type, (1,)) / '(1,)type'.\n",
      "  _np_quint8 = np.dtype([(\"quint8\", np.uint8, 1)])\n",
      "C:\\Users\\61431\\anaconda3\\lib\\site-packages\\tensorboard\\compat\\tensorflow_stub\\dtypes.py:543: FutureWarning: Passing (type, 1) or '1type' as a synonym of type is deprecated; in a future version of numpy, it will be understood as (type, (1,)) / '(1,)type'.\n",
      "  _np_qint16 = np.dtype([(\"qint16\", np.int16, 1)])\n",
      "C:\\Users\\61431\\anaconda3\\lib\\site-packages\\tensorboard\\compat\\tensorflow_stub\\dtypes.py:544: FutureWarning: Passing (type, 1) or '1type' as a synonym of type is deprecated; in a future version of numpy, it will be understood as (type, (1,)) / '(1,)type'.\n",
      "  _np_quint16 = np.dtype([(\"quint16\", np.uint16, 1)])\n",
      "C:\\Users\\61431\\anaconda3\\lib\\site-packages\\tensorboard\\compat\\tensorflow_stub\\dtypes.py:545: FutureWarning: Passing (type, 1) or '1type' as a synonym of type is deprecated; in a future version of numpy, it will be understood as (type, (1,)) / '(1,)type'.\n",
      "  _np_qint32 = np.dtype([(\"qint32\", np.int32, 1)])\n",
      "C:\\Users\\61431\\anaconda3\\lib\\site-packages\\tensorboard\\compat\\tensorflow_stub\\dtypes.py:550: FutureWarning: Passing (type, 1) or '1type' as a synonym of type is deprecated; in a future version of numpy, it will be understood as (type, (1,)) / '(1,)type'.\n",
      "  np_resource = np.dtype([(\"resource\", np.ubyte, 1)])\n"
     ]
    }
   ],
   "source": [
    "import numpy as np\n",
    "import importlib\n",
    "import pandas as pd\n",
    "from IPython.display import display, Markdown\n",
    "from w2v_utils import *"
   ]
  },
  {
   "cell_type": "markdown",
   "metadata": {},
   "source": [
    "Next, lets load the word vectors. For this assignment, we will use 50-dimensional GloVe vectors to represent words. Run the following cell to load the `word_to_vec_map`. "
   ]
  },
  {
   "cell_type": "code",
   "execution_count": 3,
   "metadata": {},
   "outputs": [],
   "source": [
    "words, word_to_vec_map = read_glove_vecs('data/glove.6B.50d.txt')"
   ]
  },
  {
   "cell_type": "markdown",
   "metadata": {},
   "source": [
    "You've loaded:\n",
    "- `words`: set of words in the vocabulary.\n",
    "- `word_to_vec_map`: dictionary mapping words to their GloVe vector representation.\n",
    "\n"
   ]
  },
  {
   "cell_type": "code",
   "execution_count": 4,
   "metadata": {},
   "outputs": [
    {
     "name": "stdout",
     "output_type": "stream",
     "text": [
      "Example of words:  ['sikeston', 'jochimsen', 'endothelial', '51.85', 'wyke', 'banpais', 'sts-135', 'recollection', '12.44', 'ineffectual']\n",
      "Vector for word 'person' =  [ 0.61734    0.40035    0.067786  -0.34263    2.0647     0.60844\n",
      "  0.32558    0.3869     0.36906    0.16553    0.0065053 -0.075674\n",
      "  0.57099    0.17314    1.0142    -0.49581   -0.38152    0.49255\n",
      " -0.16737   -0.33948   -0.44405    0.77543    0.20935    0.6007\n",
      "  0.86649   -1.8923    -0.37901   -0.28044    0.64214   -0.23549\n",
      "  2.9358    -0.086004  -0.14327   -0.50161    0.25291   -0.065446\n",
      "  0.60768    0.13984    0.018135  -0.34877    0.039985   0.07943\n",
      "  0.39318    1.0562    -0.23624   -0.4194    -0.35332   -0.15234\n",
      "  0.62158    0.79257  ]\n"
     ]
    }
   ],
   "source": [
    "print(\"Example of words: \",list(words)[:10])\n",
    "print(\"Vector for word 'person' = \", word_to_vec_map.get('person'))"
   ]
  },
  {
   "cell_type": "markdown",
   "metadata": {},
   "source": [
    "GloVe vectors provide much more useful information about the meaning of individual words. Lets now see how you can use GloVe vectors to decide how similar two words are. \n"
   ]
  },
  {
   "cell_type": "markdown",
   "metadata": {},
   "source": [
    "# Cosine similarity\n",
    "\n",
    "To measure how similar two words are, we need a way to measure the degree of similarity between two embedding vectors for the two words. Given two vectors $u$ and $v$, cosine similarity is defined as follows: \n",
    "\n",
    "\\begin{equation}\n",
    "\\text{CosineSimilarity(u, v)} = \\frac {u . v} {||u||_2 ||v||_2} = cos(\\theta) \\tag{1}\n",
    "\\end{equation}\n",
    "\n",
    "where $u.v$ is the dot product (or inner product) of two vectors, $||u||_2$ is the norm (or length) of the vector $u$, and $\\theta$ is the angle between $u$ and $v$. This similarity depends on the angle between $u$ and $v$. If $u$ and $v$ are very similar, their cosine similarity will be close to 1; if they are dissimilar, the cosine similarity will take a smaller value. \n",
    "\n",
    "\n",
    "![](images/cosine_sim.png)\n",
    "\n",
    "<caption><center> <b>Figure 1</b>: The cosine of the angle between two vectors is a measure of how similar they are</center></caption>\n",
    "\n"
   ]
  },
  {
   "cell_type": "markdown",
   "metadata": {},
   "source": [
    "***\n",
    "\n",
    "**Task 1**: Implement the function `cosine_similarity()` to evaluate similarity between word vectors.\n",
    "\n",
    "**Reminder**: The norm of $u$ is defined as $||u||_2 = \\sqrt{\\sum_{i=1}^{n} u_i^2}$"
   ]
  },
  {
   "cell_type": "code",
   "execution_count": 5,
   "metadata": {},
   "outputs": [],
   "source": [
    "## Task 1\n",
    "# cosine_similarity\n",
    "\n",
    "def cosine_similarity(u, v):\n",
    "    \"\"\"\n",
    "    Cosine similarity reflects the degree of similariy between u and v\n",
    "        \n",
    "    Arguments:\n",
    "        u -- a word vector of shape (n,)          \n",
    "        v -- a word vector of shape (n,)\n",
    "\n",
    "    Returns:\n",
    "        cosine_similarity -- the cosine similarity between u and v defined by the formula above.\n",
    "    \"\"\"\n",
    "    dot_product_uv = np.dot(u,v)               # Dot product of vectors u and v\n",
    "    \n",
    "    sq_u = np.square(u)                        # Taking square of each element in vector u\n",
    "    sq_v = np.square(v)                        # Taking square of each element in vector v\n",
    "    \n",
    "    length_of_u = np.sqrt(np.sum(sq_u))        # Finding norm of vector u\n",
    "    length_of_v= np.sqrt(np.sum(sq_v))         # Finding norm of vector v\n",
    "    \n",
    "    cosineSimilarity = dot_product_uv / (length_of_u * length_of_v)\n",
    "    \n",
    "    return cosineSimilarity"
   ]
  },
  {
   "cell_type": "markdown",
   "metadata": {},
   "source": [
    "***\n",
    "\n",
    "**Task 2**: Implement `most_similar_word` which returns the most similar word to a word."
   ]
  },
  {
   "cell_type": "code",
   "execution_count": 6,
   "metadata": {},
   "outputs": [],
   "source": [
    "## Task 2\n",
    "# GRADED FUNCTION: most_similar_word\n",
    "\n",
    "def most_similar_word(word, word_to_vec_map):\n",
    "    \"\"\"\n",
    "    Most similar word return the most similar word to the word u.\n",
    "        \n",
    "    Arguments:\n",
    "        word -- a word, string        \n",
    "        word_to_vec_map -- dictionary that maps words to their corresponding vectors. \n",
    "    \n",
    "    Returns:\n",
    "    best_word --  the most similar word to u as measured by cosine similarity\n",
    "    \"\"\"\n",
    "    # Word_to_vec_map is a dictionary where word string is a key and its vector is a vlaue. Lets iterate it and send it\n",
    "    # to cosine_similarity() function to find most similar word to input 'word'\n",
    "    \n",
    "    u = word_to_vec_map.get(word)                           # get vector of 'word' from dictionary word_to_vec_map\n",
    "    most_similar_word = ''\n",
    "    max_cosineSimilarity_uv = 0\n",
    "    for w in words:\n",
    "        if w != word:                                       # So that exact same word are not sent for finding similarity\n",
    "            v = word_to_vec_map.get(w)                      # get vector of word w from dictionary word_to_vec_map\n",
    "            cosineSimilarity_uv = cosine_similarity(u,v)\n",
    "            if cosineSimilarity_uv > max_cosineSimilarity_uv:\n",
    "                max_cosineSimilarity_uv = cosineSimilarity_uv\n",
    "                most_similar_word = w\n",
    "    \n",
    "    return most_similar_word\n",
    "                \n",
    "\n",
    "\n"
   ]
  },
  {
   "cell_type": "markdown",
   "metadata": {},
   "source": [
    "<div style=\"background-color:#B5C689\"  class=\"alert alert-block alert-info\">\n",
    "<p style=\"color:#0C374D; fontsize:80px\">\n",
    "Some custom functions before moving ahead\n",
    "</p>\n",
    "</div>"
   ]
  },
  {
   "cell_type": "code",
   "execution_count": 7,
   "metadata": {},
   "outputs": [],
   "source": [
    "# Custom function to check if words exists in dictionary before further calculation to handle not found error\n",
    "def checkIfWordExistsInDictionary(w):                                          \n",
    "    if w not in word_to_vec_map.keys():\n",
    "        return False\n",
    "    else:\n",
    "        return True\n",
    "\n",
    "# Defining custom print function (wrapper for ipython display)\n",
    "def printp(string):\n",
    "    colorstr = \"<p style='color:{};font-weight:{};font-family:{}'>{}</p>\".format('firebrick','bold','verdana', string)\n",
    "    display(Markdown(colorstr))\n",
    "\n",
    "def printg(string):\n",
    "    colorstr = \"<p style='color:{};font-weight:{};font-family:{}'>{}</p>\".format('green','bold','monaco', string)\n",
    "    display(Markdown(colorstr))"
   ]
  },
  {
   "cell_type": "markdown",
   "metadata": {},
   "source": [
    "Answer the questions below:"
   ]
  },
  {
   "cell_type": "markdown",
   "metadata": {},
   "source": [
    "**TASK 3: Write a code the answer the following questions:**\n",
    "\n",
    "***"
   ]
  },
  {
   "cell_type": "markdown",
   "metadata": {},
   "source": [
    "What is the similarity between the words brother and friend?"
   ]
  },
  {
   "cell_type": "code",
   "execution_count": 8,
   "metadata": {},
   "outputs": [
    {
     "data": {
      "text/markdown": [
       "<p style='color:firebrick;font-weight:bold;font-family:verdana'>similarity between the words brother and friend is 0.871318</p>"
      ],
      "text/plain": [
       "<IPython.core.display.Markdown object>"
      ]
     },
     "metadata": {},
     "output_type": "display_data"
    }
   ],
   "source": [
    "if checkIfWordExistsInDictionary('brother') and checkIfWordExistsInDictionary('friend'):\n",
    "    u = word_to_vec_map.get('brother') \n",
    "    v = word_to_vec_map.get('friend')\n",
    "    cosineSimilarity = cosine_similarity(u, v)\n",
    "    printp('similarity between the words brother and friend is %f'%cosineSimilarity)\n",
    "else:\n",
    "    printp('One or all the words do not exists in the mapping dictionary. Check if the words are correctly spelled !!!')"
   ]
  },
  {
   "cell_type": "markdown",
   "metadata": {},
   "source": [
    "What is the similarity between the words computer and kid?"
   ]
  },
  {
   "cell_type": "code",
   "execution_count": 9,
   "metadata": {},
   "outputs": [
    {
     "data": {
      "text/markdown": [
       "<p style='color:firebrick;font-weight:bold;font-family:verdana'>similarity between the words computer and kid is 0.438002</p>"
      ],
      "text/plain": [
       "<IPython.core.display.Markdown object>"
      ]
     },
     "metadata": {},
     "output_type": "display_data"
    }
   ],
   "source": [
    "if checkIfWordExistsInDictionary('computer') and checkIfWordExistsInDictionary('kid'):\n",
    "    u = word_to_vec_map.get('computer') \n",
    "    v = word_to_vec_map.get('kid')\n",
    "    cosineSimilarity = cosine_similarity(u, v)\n",
    "    printp('similarity between the words computer and kid is %f'%cosineSimilarity)\n",
    "else:\n",
    "    printp('One or all the words do not exists in the mapping dictionary. Check if the words are correctly spelled')"
   ]
  },
  {
   "cell_type": "markdown",
   "metadata": {},
   "source": [
    "What is the similarity between the words V1=(france - paris) and V2=(rome - italy)?"
   ]
  },
  {
   "cell_type": "code",
   "execution_count": 10,
   "metadata": {},
   "outputs": [
    {
     "data": {
      "text/markdown": [
       "<p style='color:firebrick;font-weight:bold;font-family:verdana'>similarity between the vectors V1 and V2 is = -0.675148</p>"
      ],
      "text/plain": [
       "<IPython.core.display.Markdown object>"
      ]
     },
     "metadata": {},
     "output_type": "display_data"
    }
   ],
   "source": [
    "if checkIfWordExistsInDictionary('france') and checkIfWordExistsInDictionary('paris') and \\\n",
    "    checkIfWordExistsInDictionary('rome') and checkIfWordExistsInDictionary('italy'):\n",
    "    u1 = word_to_vec_map.get('france') \n",
    "    u2 = word_to_vec_map.get('paris') \n",
    "    u3 = word_to_vec_map.get('rome')\n",
    "    u4 = word_to_vec_map.get('italy') \n",
    "    \n",
    "    v1 = np.subtract(u1, u2)\n",
    "    v2 = np.subtract(u3, u4)\n",
    "    \n",
    "    cosineSimilarity = cosine_similarity(v1, v2)\n",
    "    printp('similarity between the vectors V1 and V2 is = %f'%cosineSimilarity)\n",
    "else:\n",
    "    printp('One or all the words do not exists in the mapping dictionary. Check if the words are correctly spelled')"
   ]
  },
  {
   "cell_type": "markdown",
   "metadata": {},
   "source": [
    "What is the most similar word to computer?\n"
   ]
  },
  {
   "cell_type": "code",
   "execution_count": 11,
   "metadata": {},
   "outputs": [
    {
     "data": {
      "text/markdown": [
       "<p style='color:firebrick;font-weight:bold;font-family:verdana'>The most similar word to computer is - computers</p>"
      ],
      "text/plain": [
       "<IPython.core.display.Markdown object>"
      ]
     },
     "metadata": {},
     "output_type": "display_data"
    }
   ],
   "source": [
    "if checkIfWordExistsInDictionary('computer'):\n",
    "    w = 'computer'\n",
    "    the_most_similar_word = most_similar_word(w, word_to_vec_map)\n",
    "    printp('The most similar word to computer is - %s'%the_most_similar_word)\n",
    "else:\n",
    "    printp('One or all the words do not exists in the mapping dictionary. Check if the words are correctly spelled')"
   ]
  },
  {
   "cell_type": "markdown",
   "metadata": {},
   "source": [
    "What is the most similar word to australia?"
   ]
  },
  {
   "cell_type": "code",
   "execution_count": 12,
   "metadata": {},
   "outputs": [
    {
     "data": {
      "text/markdown": [
       "<p style='color:firebrick;font-weight:bold;font-family:verdana'>The most similar word to australia is - zealand</p>"
      ],
      "text/plain": [
       "<IPython.core.display.Markdown object>"
      ]
     },
     "metadata": {},
     "output_type": "display_data"
    }
   ],
   "source": [
    "if checkIfWordExistsInDictionary('australia'):\n",
    "    u = 'australia'\n",
    "    the_most_similar_word = most_similar_word(u, word_to_vec_map)\n",
    "    printp('The most similar word to australia is - %s'%the_most_similar_word)\n",
    "else:\n",
    "    printp('One or all the words do not exists in the mapping dictionary. Check if the words are correctly spelled')"
   ]
  },
  {
   "cell_type": "markdown",
   "metadata": {},
   "source": [
    "What is the most similar word to python?\n"
   ]
  },
  {
   "cell_type": "code",
   "execution_count": 13,
   "metadata": {},
   "outputs": [
    {
     "data": {
      "text/markdown": [
       "<p style='color:firebrick;font-weight:bold;font-family:verdana'>The most similar word to python is - reticulated</p>"
      ],
      "text/plain": [
       "<IPython.core.display.Markdown object>"
      ]
     },
     "metadata": {},
     "output_type": "display_data"
    }
   ],
   "source": [
    "if checkIfWordExistsInDictionary('python'):\n",
    "    w = 'python'\n",
    "    the_most_similar_word = most_similar_word(w, word_to_vec_map)\n",
    "    printp('The most similar word to python is - %s'%the_most_similar_word)\n",
    "else:\n",
    "    printp('One or all the words do not exists in the mapping dictionary. Check if the words are correctly spelled')"
   ]
  },
  {
   "cell_type": "markdown",
   "metadata": {},
   "source": [
    "***"
   ]
  },
  {
   "cell_type": "markdown",
   "metadata": {},
   "source": [
    "Playing around the cosine similarity of other inputs will give you a better sense of how word vectors behave. "
   ]
  },
  {
   "cell_type": "markdown",
   "metadata": {},
   "source": [
    "#  Word analogy task\n",
    "\n",
    "In the word analogy task, we complete the sentence <font color='brown'>\"*a* is to *b* as *c* is to **____**\"</font>. An example is <font color='brown'> '*man* is to *woman* as *king* is to *queen*' </font>. In detail, we are trying to find a word *d*, such that the associated word vectors $e_a, e_b, e_c, e_d$ are related in the following manner: $e_b - e_a \\approx e_d - e_c$. We will measure the similarity between $e_b - e_a$ and $e_d - e_c$ using cosine similarity. \n",
    "\n",
    "\n",
    "**Task 4**: Complete the code below to be able to perform word analogies!\n",
    "\n",
    "***"
   ]
  },
  {
   "cell_type": "code",
   "execution_count": 14,
   "metadata": {},
   "outputs": [],
   "source": [
    "## Task 4\n",
    "# GRADED FUNCTION: complete_analogy\n",
    "\n",
    "def complete_analogy(word_a, word_b, word_c, word_to_vec_map):\n",
    "    \"\"\"\n",
    "    Performs the word analogy task as explained above: a is to b as c is to ____. \n",
    "    \n",
    "    Arguments:\n",
    "    word_a -- a word, string\n",
    "    word_b -- a word, string\n",
    "    word_c -- a word, string\n",
    "    word_to_vec_map -- dictionary that maps words to their corresponding vectors. \n",
    "    \n",
    "    Returns:\n",
    "    best_word --  the word such that v_b - v_a is close to v_best_word - v_c, as measured by cosine similarity\n",
    "    \"\"\"\n",
    "    w_a = word_to_vec_map.get(word_a)                           # get vector of 'word_a' from dictionary word_to_vec_map\n",
    "    w_b = word_to_vec_map.get(word_b)                           # get vector of 'word_b' from dictionary word_to_vec_map\n",
    "    w_c = word_to_vec_map.get(word_c)                           # get vector of 'word_c' from dictionary word_to_vec_map\n",
    "             \n",
    "    most_similar_word_analogy = ''\n",
    "    max_cosineSimilarity_uv = 0\n",
    "    \n",
    "    for w in words:\n",
    "        if w != word_a and w != word_b and w != word_c:     # So that exact same word are not sent for finding similarity\n",
    "            w_d = word_to_vec_map.get(w)                    # get vector of word w from dictionary word_to_vec_map\n",
    "            v = np.subtract(w_c, w_d)\n",
    "            u = np.subtract(w_a, w_b)\n",
    "            cosineSimilarity_uv = cosine_similarity(u,v)\n",
    "            if cosineSimilarity_uv > max_cosineSimilarity_uv:\n",
    "                max_cosineSimilarity_uv = cosineSimilarity_uv\n",
    "                most_similar_word_analogy = w\n",
    "\n",
    "    return most_similar_word_analogy\n"
   ]
  },
  {
   "cell_type": "markdown",
   "metadata": {},
   "source": [
    "Run the cell below to test your code, this may take 1-2 minutes."
   ]
  },
  {
   "cell_type": "code",
   "execution_count": 15,
   "metadata": {},
   "outputs": [
    {
     "name": "stdout",
     "output_type": "stream",
     "text": [
      "italy -> italian :: spain -> spanish\n",
      "india -> delhi :: japan -> tokyo\n",
      "man -> woman :: boy -> girl\n",
      "small -> smaller :: large -> larger\n",
      "cardiologist -> heart :: dermatologist -> skin\n"
     ]
    }
   ],
   "source": [
    "triads_to_try = [('italy', 'italian', 'spain'), ('india', 'delhi', 'japan'), ('man', 'woman', 'boy'), \\\n",
    "                 ('small', 'smaller', 'large'), ('cardiologist','heart','dermatologist')]\n",
    "for triad in triads_to_try:\n",
    "    if checkIfWordExistsInDictionary(triad[0]) and checkIfWordExistsInDictionary(triad[1]) and checkIfWordExistsInDictionary(triad[2]):\n",
    "        print('{} -> {} :: {} -> {}'.format( *triad, complete_analogy(triad[0],triad[1], triad[2], word_to_vec_map)))\n",
    "    else:\n",
    "        printp('One or all the words do not exists in the mapping dictionary. Check if the words are correctly spelled')"
   ]
  },
  {
   "cell_type": "markdown",
   "metadata": {},
   "source": [
    "<div style=\"background-color:#B5C689\"  class=\"alert alert-block alert-info\">\n",
    "<p style=\"color:#0C374D; fontsize:80px\">\n",
    "Below are some challenging analogy triads for which our function fails\n",
    "</p>\n",
    "</div>"
   ]
  },
  {
   "cell_type": "code",
   "execution_count": 16,
   "metadata": {},
   "outputs": [
    {
     "data": {
      "text/markdown": [
       "<p style='color:firebrick;font-weight:bold;font-family:verdana'>One or all the words in child, human, poult do not exists in the mapping dictionary. Check if the words are correctly spelled</p>"
      ],
      "text/plain": [
       "<IPython.core.display.Markdown object>"
      ]
     },
     "metadata": {},
     "output_type": "display_data"
    },
    {
     "name": "stdout",
     "output_type": "stream",
     "text": [
      "muddled -> confused :: addled -> young\n",
      "polio -> virus :: tuberculosis -> viruses\n",
      "cardiologist -> heart :: chiropractor -> broken\n"
     ]
    }
   ],
   "source": [
    "challenging_triads = [('child', 'human', 'poult'), ('muddled', 'confused', 'addled'), ('polio','virus','tuberculosis'), \\\n",
    "                      ('cardiologist','heart','chiropractor')]\n",
    "\n",
    "for t in challenging_triads:\n",
    "    if checkIfWordExistsInDictionary(t[0]) and checkIfWordExistsInDictionary(t[1]) and checkIfWordExistsInDictionary(t[2]):\n",
    "        print ('{} -> {} :: {} -> {}'.format( *t, complete_analogy(t[0],t[1], t[2], word_to_vec_map)))\n",
    "    else:\n",
    "        printp('One or all the words in %s, %s, %s do not exists in the mapping dictionary. Check if the words are correctly spelled'%(t[0],t[1],t[2]))"
   ]
  },
  {
   "cell_type": "markdown",
   "metadata": {},
   "source": [
    "Once you get the correct expected output, please feel free to modify the input cells above to test your own analogies. Try to find some other analogy pairs that do work, but also find some where the algorithm doesn't give the right answer: For example, you can try small->smaller as big->?.  "
   ]
  },
  {
   "cell_type": "markdown",
   "metadata": {},
   "source": [
    "# Debiasing word vectors"
   ]
  },
  {
   "cell_type": "markdown",
   "metadata": {},
   "source": [
    "In the following exercise, you will examine gender biases that can be reflected in a word embedding, and explore algorithms for reducing the bias. In addition to learning about the topic of debiasing, this exercise will also help hone your intuition about what word vectors are doing. This section involves a bit of linear algebra, though you can probably complete it even without being expert in linear algebra, and we encourage you to give it a shot. \n",
    "\n",
    "Lets first see how the GloVe word embeddings relate to gender. You will first compute a vector $g = e_{woman}-e_{man}$, where $e_{woman}$ represents the word vector corresponding to the word *woman*, and $e_{man}$ corresponds to the word vector corresponding to the word *man*. The resulting vector $g$ roughly encodes the concept of \"gender\". (You might get a more accurate representation if you compute $g_1 = e_{mother}-e_{father}$, $g_2 = e_{girl}-e_{boy}$, etc. and average over them. But just using $e_{woman}-e_{man}$ will give good enough results for now.) \n"
   ]
  },
  {
   "cell_type": "markdown",
   "metadata": {},
   "source": [
    "**Task 5:** Compute the bias vector using woman - man\n",
    "\n",
    "***"
   ]
  },
  {
   "cell_type": "code",
   "execution_count": 17,
   "metadata": {},
   "outputs": [
    {
     "data": {
      "text/markdown": [
       "<p style='color:firebrick;font-weight:bold;font-family:verdana'>Below is the resultant bias vector of vector woman and vector man </p>"
      ],
      "text/plain": [
       "<IPython.core.display.Markdown object>"
      ]
     },
     "metadata": {},
     "output_type": "display_data"
    },
    {
     "name": "stdout",
     "output_type": "stream",
     "text": [
      "[-0.087144    0.2182     -0.40986    -0.03922    -0.1032      0.94165\n",
      " -0.06042     0.32988     0.46144    -0.35962     0.31102    -0.86824\n",
      "  0.96006     0.01073     0.24337     0.08193    -1.02722    -0.21122\n",
      "  0.695044   -0.00222     0.29106     0.5053     -0.099454    0.40445\n",
      "  0.30181     0.1355     -0.0606     -0.07131    -0.19245    -0.06115\n",
      " -0.3204      0.07165    -0.13337    -0.25068714 -0.14293    -0.224957\n",
      " -0.149       0.048882    0.12191    -0.27362    -0.165476   -0.20426\n",
      "  0.54376    -0.271425   -0.10245    -0.32108     0.2516     -0.33455\n",
      " -0.04371     0.01258   ]\n"
     ]
    }
   ],
   "source": [
    "u = []\n",
    "v = []\n",
    "g = []\n",
    "\n",
    "w1 = 'woman'\n",
    "w2 = 'man'\n",
    "u = word_to_vec_map.get(w1) \n",
    "v = word_to_vec_map.get(w2) \n",
    "g = np.subtract(u, v)\n",
    "\n",
    "printp('Below is the resultant bias vector of vector woman and vector man ')\n",
    "print(g)"
   ]
  },
  {
   "cell_type": "markdown",
   "metadata": {},
   "source": [
    "***"
   ]
  },
  {
   "cell_type": "markdown",
   "metadata": {},
   "source": [
    "Now, you will consider the cosine similarity of different words with $g$. Consider what a positive value of similarity means vs a negative cosine similarity. "
   ]
  },
  {
   "cell_type": "markdown",
   "metadata": {
    "scrolled": false
   },
   "source": [
    "**Task 6: Compute and print the similarity between g and the words in name_list**\n",
    "\n",
    "***\n",
    "    "
   ]
  },
  {
   "cell_type": "code",
   "execution_count": 18,
   "metadata": {
    "scrolled": true
   },
   "outputs": [
    {
     "data": {
      "text/markdown": [
       "<p style='color:firebrick;font-weight:bold;font-family:verdana'>List of names and their similarities with constructed vector g:</p>"
      ],
      "text/plain": [
       "<IPython.core.display.Markdown object>"
      ]
     },
     "metadata": {},
     "output_type": "display_data"
    },
    {
     "data": {
      "text/html": [
       "<div>\n",
       "<style scoped>\n",
       "    .dataframe tbody tr th:only-of-type {\n",
       "        vertical-align: middle;\n",
       "    }\n",
       "\n",
       "    .dataframe tbody tr th {\n",
       "        vertical-align: top;\n",
       "    }\n",
       "\n",
       "    .dataframe thead th {\n",
       "        text-align: right;\n",
       "    }\n",
       "</style>\n",
       "<table border=\"1\" class=\"dataframe\">\n",
       "  <thead>\n",
       "    <tr style=\"text-align: right;\">\n",
       "      <th></th>\n",
       "      <th>Word</th>\n",
       "      <th>Cosine_similarity_with_g</th>\n",
       "    </tr>\n",
       "  </thead>\n",
       "  <tbody>\n",
       "    <tr>\n",
       "      <th>0</th>\n",
       "      <td>john</td>\n",
       "      <td>-0.231634</td>\n",
       "    </tr>\n",
       "    <tr>\n",
       "      <th>1</th>\n",
       "      <td>marie</td>\n",
       "      <td>0.315598</td>\n",
       "    </tr>\n",
       "    <tr>\n",
       "      <th>2</th>\n",
       "      <td>sophie</td>\n",
       "      <td>0.318688</td>\n",
       "    </tr>\n",
       "    <tr>\n",
       "      <th>3</th>\n",
       "      <td>ronaldo</td>\n",
       "      <td>-0.312448</td>\n",
       "    </tr>\n",
       "    <tr>\n",
       "      <th>4</th>\n",
       "      <td>priya</td>\n",
       "      <td>0.176320</td>\n",
       "    </tr>\n",
       "    <tr>\n",
       "      <th>5</th>\n",
       "      <td>rahul</td>\n",
       "      <td>-0.169155</td>\n",
       "    </tr>\n",
       "    <tr>\n",
       "      <th>6</th>\n",
       "      <td>danielle</td>\n",
       "      <td>0.243933</td>\n",
       "    </tr>\n",
       "    <tr>\n",
       "      <th>7</th>\n",
       "      <td>reza</td>\n",
       "      <td>-0.079304</td>\n",
       "    </tr>\n",
       "    <tr>\n",
       "      <th>8</th>\n",
       "      <td>katy</td>\n",
       "      <td>0.283107</td>\n",
       "    </tr>\n",
       "    <tr>\n",
       "      <th>9</th>\n",
       "      <td>yasmin</td>\n",
       "      <td>0.233139</td>\n",
       "    </tr>\n",
       "  </tbody>\n",
       "</table>\n",
       "</div>"
      ],
      "text/plain": [
       "       Word  Cosine_similarity_with_g\n",
       "0      john                 -0.231634\n",
       "1     marie                  0.315598\n",
       "2    sophie                  0.318688\n",
       "3   ronaldo                 -0.312448\n",
       "4     priya                  0.176320\n",
       "5     rahul                 -0.169155\n",
       "6  danielle                  0.243933\n",
       "7      reza                 -0.079304\n",
       "8      katy                  0.283107\n",
       "9    yasmin                  0.233139"
      ]
     },
     "metadata": {},
     "output_type": "display_data"
    }
   ],
   "source": [
    "df = pd.DataFrame(columns = ['Word','Cosine_similarity_with_g'])\n",
    "\n",
    "name_list = ['john', 'marie', 'sophie', 'ronaldo', 'priya', 'rahul', 'danielle', 'reza', 'katy', 'yasmin']\n",
    "\n",
    "for n in name_list:\n",
    "    if checkIfWordExistsInDictionary(n):\n",
    "        u1 = word_to_vec_map.get(n) \n",
    "        cosine_similarity_score= cosine_similarity(u1, g)\n",
    "        df = df.append({'Word':n, 'Cosine_similarity_with_g':cosine_similarity_score}, ignore_index=True)\n",
    "    else:\n",
    "        printp('One or all the words in %s do not exists in the mapping dictionary. Check if the words are correctly spelled'%n)\n",
    "printp('List of names and their similarities with constructed vector g:')\n",
    "display(df)"
   ]
  },
  {
   "cell_type": "markdown",
   "metadata": {},
   "source": [
    "<div style=\"background-color:#B5C689\"  class=\"alert alert-block alert-info\">\n",
    "<p style=\"color:#0C374D; fontsize:80px\">\n",
    "Lets change subtraction sequence and try ... <br>\n",
    "g = man - woman\n",
    "</p>\n",
    "</div>"
   ]
  },
  {
   "cell_type": "code",
   "execution_count": 19,
   "metadata": {},
   "outputs": [
    {
     "data": {
      "text/markdown": [
       "<p style='color:firebrick;font-weight:bold;font-family:verdana'>Below is the resultant bias vector of vector man and vector woman </p>"
      ],
      "text/plain": [
       "<IPython.core.display.Markdown object>"
      ]
     },
     "metadata": {},
     "output_type": "display_data"
    },
    {
     "name": "stdout",
     "output_type": "stream",
     "text": [
      "[ 0.087144   -0.2182      0.40986     0.03922     0.1032     -0.94165\n",
      "  0.06042    -0.32988    -0.46144     0.35962    -0.31102     0.86824\n",
      " -0.96006    -0.01073    -0.24337    -0.08193     1.02722     0.21122\n",
      " -0.695044    0.00222    -0.29106    -0.5053      0.099454   -0.40445\n",
      " -0.30181    -0.1355      0.0606      0.07131     0.19245     0.06115\n",
      "  0.3204     -0.07165     0.13337     0.25068714  0.14293     0.224957\n",
      "  0.149      -0.048882   -0.12191     0.27362     0.165476    0.20426\n",
      " -0.54376     0.271425    0.10245     0.32108    -0.2516      0.33455\n",
      "  0.04371    -0.01258   ]\n",
      "\n",
      "\n",
      "\n"
     ]
    },
    {
     "data": {
      "text/markdown": [
       "<p style='color:firebrick;font-weight:bold;font-family:verdana'>List of names and their similarities with constructed vector g:</p>"
      ],
      "text/plain": [
       "<IPython.core.display.Markdown object>"
      ]
     },
     "metadata": {},
     "output_type": "display_data"
    },
    {
     "data": {
      "text/html": [
       "<div>\n",
       "<style scoped>\n",
       "    .dataframe tbody tr th:only-of-type {\n",
       "        vertical-align: middle;\n",
       "    }\n",
       "\n",
       "    .dataframe tbody tr th {\n",
       "        vertical-align: top;\n",
       "    }\n",
       "\n",
       "    .dataframe thead th {\n",
       "        text-align: right;\n",
       "    }\n",
       "</style>\n",
       "<table border=\"1\" class=\"dataframe\">\n",
       "  <thead>\n",
       "    <tr style=\"text-align: right;\">\n",
       "      <th></th>\n",
       "      <th>Word</th>\n",
       "      <th>Cosine_similarity_with_g</th>\n",
       "    </tr>\n",
       "  </thead>\n",
       "  <tbody>\n",
       "    <tr>\n",
       "      <th>0</th>\n",
       "      <td>john</td>\n",
       "      <td>0.231634</td>\n",
       "    </tr>\n",
       "    <tr>\n",
       "      <th>1</th>\n",
       "      <td>marie</td>\n",
       "      <td>-0.315598</td>\n",
       "    </tr>\n",
       "    <tr>\n",
       "      <th>2</th>\n",
       "      <td>sophie</td>\n",
       "      <td>-0.318688</td>\n",
       "    </tr>\n",
       "    <tr>\n",
       "      <th>3</th>\n",
       "      <td>ronaldo</td>\n",
       "      <td>0.312448</td>\n",
       "    </tr>\n",
       "    <tr>\n",
       "      <th>4</th>\n",
       "      <td>priya</td>\n",
       "      <td>-0.176320</td>\n",
       "    </tr>\n",
       "    <tr>\n",
       "      <th>5</th>\n",
       "      <td>rahul</td>\n",
       "      <td>0.169155</td>\n",
       "    </tr>\n",
       "    <tr>\n",
       "      <th>6</th>\n",
       "      <td>danielle</td>\n",
       "      <td>-0.243933</td>\n",
       "    </tr>\n",
       "    <tr>\n",
       "      <th>7</th>\n",
       "      <td>reza</td>\n",
       "      <td>0.079304</td>\n",
       "    </tr>\n",
       "    <tr>\n",
       "      <th>8</th>\n",
       "      <td>katy</td>\n",
       "      <td>-0.283107</td>\n",
       "    </tr>\n",
       "    <tr>\n",
       "      <th>9</th>\n",
       "      <td>yasmin</td>\n",
       "      <td>-0.233139</td>\n",
       "    </tr>\n",
       "  </tbody>\n",
       "</table>\n",
       "</div>"
      ],
      "text/plain": [
       "       Word  Cosine_similarity_with_g\n",
       "0      john                  0.231634\n",
       "1     marie                 -0.315598\n",
       "2    sophie                 -0.318688\n",
       "3   ronaldo                  0.312448\n",
       "4     priya                 -0.176320\n",
       "5     rahul                  0.169155\n",
       "6  danielle                 -0.243933\n",
       "7      reza                  0.079304\n",
       "8      katy                 -0.283107\n",
       "9    yasmin                 -0.233139"
      ]
     },
     "metadata": {},
     "output_type": "display_data"
    }
   ],
   "source": [
    "u = []\n",
    "v = []\n",
    "g = []\n",
    "\n",
    "w1 = 'woman'\n",
    "w2 = 'man'\n",
    "\n",
    "u = word_to_vec_map.get(w1) \n",
    "v = word_to_vec_map.get(w2) \n",
    "g = np.subtract(v, u)\n",
    "\n",
    "printp('Below is the resultant bias vector of vector man and vector woman ')\n",
    "print(g)\n",
    "\n",
    "df = pd.DataFrame(columns = ['Word','Cosine_similarity_with_g'])\n",
    "\n",
    "name_list = ['john', 'marie', 'sophie', 'ronaldo', 'priya', 'rahul', 'danielle', 'reza', 'katy', 'yasmin']\n",
    "\n",
    "for n in name_list:\n",
    "    if checkIfWordExistsInDictionary(n):\n",
    "        u1 = word_to_vec_map.get(n) \n",
    "        cosine_similarity_score= cosine_similarity(u1, g)\n",
    "        df = df.append({'Word':n, 'Cosine_similarity_with_g':cosine_similarity_score}, ignore_index=True)\n",
    "    else:\n",
    "        printp('One or all the words in %s do not exists in the mapping dictionary. Check if the words are correctly spelled'%n)\n",
    "print('\\n\\n')\n",
    "printp('List of names and their similarities with constructed vector g:')\n",
    "display(df)"
   ]
  },
  {
   "cell_type": "markdown",
   "metadata": {},
   "source": [
    "***"
   ]
  },
  {
   "cell_type": "markdown",
   "metadata": {},
   "source": [
    "**TASK 7: What do you abserve?**"
   ]
  },
  {
   "cell_type": "markdown",
   "metadata": {},
   "source": [
    "<div style=\"background-color:#B5C689\"  class=\"alert alert-block alert-info\">\n",
    "<p style=\"color:#0C374D; fontsize:80px\">\n",
    "Observation - <br>\n",
    "Vector subtraction gives us resultant vector which depicts the difference between the two vectors. For example we substract\n",
    "word embedded vectors of france and paris. The difference vectors of france and paris is in same space which represents 'is \n",
    "capital of' relation. Similarly, when you subtract vectors of woman - man, you get resultant vector g which represents 'is gender' relation. <br>\n",
    "Here, <br>\n",
    "1. Male names got positive score and female names got negative score.\n",
    "2. When we do g = woman - man, and calculate cosine similarity between g and words in name_list, the similarity will be negative for male names and positive for female names. <br>\n",
    "3. When we do g = man - woman, and calculate cosine similarity between g and words in name_list, the similarity will be positve\n",
    "for male names and negative for female names. The similarity sign changes here because we altered subtraction sequence and so\n",
    "resultant vector changed the direction.<br>\n",
    "\n",
    "Thus, we can conclude that these words carry gender bias.<br>\n",
    "</p>\n",
    "</div>"
   ]
  },
  {
   "cell_type": "markdown",
   "metadata": {},
   "source": [
    "<br>"
   ]
  },
  {
   "cell_type": "markdown",
   "metadata": {},
   "source": [
    "**Task 8: Compute and print the similarity between g and the words in word_list:**\n",
    "\n",
    "***"
   ]
  },
  {
   "cell_type": "code",
   "execution_count": 20,
   "metadata": {},
   "outputs": [
    {
     "data": {
      "text/markdown": [
       "<p style='color:firebrick;font-weight:bold;font-family:verdana'>Other words and their similarities with constructed vector g:</p>"
      ],
      "text/plain": [
       "<IPython.core.display.Markdown object>"
      ]
     },
     "metadata": {},
     "output_type": "display_data"
    },
    {
     "data": {
      "text/html": [
       "<div>\n",
       "<style scoped>\n",
       "    .dataframe tbody tr th:only-of-type {\n",
       "        vertical-align: middle;\n",
       "    }\n",
       "\n",
       "    .dataframe tbody tr th {\n",
       "        vertical-align: top;\n",
       "    }\n",
       "\n",
       "    .dataframe thead th {\n",
       "        text-align: right;\n",
       "    }\n",
       "</style>\n",
       "<table border=\"1\" class=\"dataframe\">\n",
       "  <thead>\n",
       "    <tr style=\"text-align: right;\">\n",
       "      <th></th>\n",
       "      <th>Word</th>\n",
       "      <th>Cosine_similarity_with_g</th>\n",
       "    </tr>\n",
       "  </thead>\n",
       "  <tbody>\n",
       "    <tr>\n",
       "      <th>0</th>\n",
       "      <td>lipstick</td>\n",
       "      <td>0.276919</td>\n",
       "    </tr>\n",
       "    <tr>\n",
       "      <th>1</th>\n",
       "      <td>guns</td>\n",
       "      <td>-0.188849</td>\n",
       "    </tr>\n",
       "    <tr>\n",
       "      <th>2</th>\n",
       "      <td>science</td>\n",
       "      <td>-0.060829</td>\n",
       "    </tr>\n",
       "    <tr>\n",
       "      <th>3</th>\n",
       "      <td>arts</td>\n",
       "      <td>0.008189</td>\n",
       "    </tr>\n",
       "    <tr>\n",
       "      <th>4</th>\n",
       "      <td>literature</td>\n",
       "      <td>0.064725</td>\n",
       "    </tr>\n",
       "    <tr>\n",
       "      <th>5</th>\n",
       "      <td>warrior</td>\n",
       "      <td>-0.209202</td>\n",
       "    </tr>\n",
       "    <tr>\n",
       "      <th>6</th>\n",
       "      <td>doctor</td>\n",
       "      <td>0.118953</td>\n",
       "    </tr>\n",
       "    <tr>\n",
       "      <th>7</th>\n",
       "      <td>tree</td>\n",
       "      <td>-0.070894</td>\n",
       "    </tr>\n",
       "    <tr>\n",
       "      <th>8</th>\n",
       "      <td>receptionist</td>\n",
       "      <td>0.330779</td>\n",
       "    </tr>\n",
       "    <tr>\n",
       "      <th>9</th>\n",
       "      <td>technology</td>\n",
       "      <td>-0.131937</td>\n",
       "    </tr>\n",
       "    <tr>\n",
       "      <th>10</th>\n",
       "      <td>fashion</td>\n",
       "      <td>0.035639</td>\n",
       "    </tr>\n",
       "    <tr>\n",
       "      <th>11</th>\n",
       "      <td>teacher</td>\n",
       "      <td>0.179209</td>\n",
       "    </tr>\n",
       "    <tr>\n",
       "      <th>12</th>\n",
       "      <td>engineer</td>\n",
       "      <td>-0.080393</td>\n",
       "    </tr>\n",
       "    <tr>\n",
       "      <th>13</th>\n",
       "      <td>pilot</td>\n",
       "      <td>0.001076</td>\n",
       "    </tr>\n",
       "    <tr>\n",
       "      <th>14</th>\n",
       "      <td>computer</td>\n",
       "      <td>-0.103304</td>\n",
       "    </tr>\n",
       "    <tr>\n",
       "      <th>15</th>\n",
       "      <td>singer</td>\n",
       "      <td>0.185005</td>\n",
       "    </tr>\n",
       "  </tbody>\n",
       "</table>\n",
       "</div>"
      ],
      "text/plain": [
       "            Word  Cosine_similarity_with_g\n",
       "0       lipstick                  0.276919\n",
       "1           guns                 -0.188849\n",
       "2        science                 -0.060829\n",
       "3           arts                  0.008189\n",
       "4     literature                  0.064725\n",
       "5        warrior                 -0.209202\n",
       "6         doctor                  0.118953\n",
       "7           tree                 -0.070894\n",
       "8   receptionist                  0.330779\n",
       "9     technology                 -0.131937\n",
       "10       fashion                  0.035639\n",
       "11       teacher                  0.179209\n",
       "12      engineer                 -0.080393\n",
       "13         pilot                  0.001076\n",
       "14      computer                 -0.103304\n",
       "15        singer                  0.185005"
      ]
     },
     "metadata": {},
     "output_type": "display_data"
    }
   ],
   "source": [
    "# Lets recompute and use 1st g, which is woman - man, from Task 6\n",
    "g = np.subtract(word_to_vec_map.get('woman') , word_to_vec_map.get('man'))\n",
    "\n",
    "df = pd.DataFrame(columns = ['Word','Cosine_similarity_with_g'])\n",
    "\n",
    "word_list = ['lipstick', 'guns', 'science', 'arts', 'literature', 'warrior','doctor', 'tree', 'receptionist', \n",
    "             'technology',  'fashion', 'teacher', 'engineer', 'pilot', 'computer', 'singer']\n",
    "\n",
    "\n",
    "for n in word_list:\n",
    "    if checkIfWordExistsInDictionary(n):\n",
    "        u2 = word_to_vec_map.get(n) \n",
    "        cosine_similarity_score= cosine_similarity(u2, g)\n",
    "        df = df.append({'Word':n, 'Cosine_similarity_with_g':cosine_similarity_score}, ignore_index=True)\n",
    "    else:\n",
    "        printp('One or all the words in %s do not exists in the mapping dictionary. Check if the words are correctly spelled'%n)\n",
    "printp('Other words and their similarities with constructed vector g:')\n",
    "display(df)"
   ]
  },
  {
   "cell_type": "markdown",
   "metadata": {},
   "source": [
    "***"
   ]
  },
  {
   "cell_type": "markdown",
   "metadata": {},
   "source": [
    "**TASK 9: What do you abserve?**"
   ]
  },
  {
   "cell_type": "markdown",
   "metadata": {},
   "source": [
    "<div style=\"background-color:#B5C689\"  class=\"alert alert-block alert-info\">\n",
    "<p style=\"color:#0C374D; fontsize:80px\">\n",
    "Observation - <br>\n",
    "We can see from above results that some words have positive cosine similarity and others have negative cosine similarity. This\n",
    "is becuase to compute this similarity we used bias vector g representing space 'is gender'. The resultant output says that\n",
    "guns is more similar/closer to man whereas receptionist is more similar/closer to woman. <br>\n",
    "\n",
    "Thus, we can conclude that these words carry gender specific bias.<br>\n",
    "</p>\n",
    "</div>"
   ]
  },
  {
   "cell_type": "markdown",
   "metadata": {},
   "source": [
    "<br>"
   ]
  },
  {
   "cell_type": "markdown",
   "metadata": {},
   "source": [
    "\n",
    "We'll see below how to reduce the bias of these vectors, using an algorithm due to [Boliukbasi et al., 2016](https://arxiv.org/abs/1607.06520). Note that some word pairs such as \"actor\"/\"actress\" or \"grandmother\"/\"grandfather\" should remain gender specific, while other words such as \"receptionist\" or \"technology\" should be neutralized, i.e. not be gender-related. You will have to treat these two type of words differently when debiasing.\n",
    "\n",
    "# Neutralize bias for non-gender specific words \n",
    "\n",
    "The figure below should help you visualize what neutralizing does. If you're using a 50-dimensional word embedding, the 50 dimensional space can be split into two parts: The bias-direction $g$, and the remaining 49 dimensions, which we'll call $g_{\\perp}$. In linear algebra, we say that the 49 dimensional $g_{\\perp}$ is perpendicular (or \"orthogonal\") to $g$, meaning it is at 90 degrees to $g$. The neutralization step takes a vector such as $e_{receptionist}$ and zeros out the component in the direction of $g$, giving us $e_{receptionist}^{debiased}$. \n",
    "\n",
    "Even though $g_{\\perp}$ is 49 dimensional, given the limitations of what we can draw on a screen, we illustrate it using a 1 dimensional axis below. \n",
    "\n",
    "\n",
    "![](images/neutral.png)\n",
    "\n",
    "\n",
    "<caption><center> <b>Figure 2</b>: The word vector for \"receptionist\" represented before and after applying the neutralize operation. </center></caption>\n",
    "\n",
    "**TASK 10**: Implement `neutralize()` to remove the bias of words such as \"receptionist\" or \"scientist\". Given an input embedding $e$, you can use the following formulas to compute $e^{debiased}$: \n",
    "\n",
    "\n",
    "\\begin{equation}\n",
    "e^{bias\\_component} = \\frac{e \\cdot g}{||g||_2^2} * g\\tag{2}\n",
    "\\end{equation}\n",
    "\n",
    "\\begin{equation}\n",
    "e^{debiased} = e - e^{bias\\_component}\\tag{3}\n",
    "\\end{equation}\n",
    "\n",
    "If you are an expert in linear algebra, you may recognize $e^{bias\\_component}$ as the projection of $e$ onto the direction $g$. If you're not an expert in linear algebra, don't worry about this.\n",
    "\n",
    "<!-- \n",
    "**Reminder**: a vector $u$ can be split into two parts: its projection over a vector-axis $v_B$ and its projection over the axis orthogonal to $v$:\n",
    "$$u = u_B + u_{\\perp}$$\n",
    "where : $u_B = $ and $ u_{\\perp} = u - u_B $\n",
    "!--> \n",
    "***"
   ]
  },
  {
   "cell_type": "code",
   "execution_count": 21,
   "metadata": {},
   "outputs": [],
   "source": [
    "# TASK 10\n",
    "# GRADED neutralize\n",
    "\n",
    "def neutralize(word, g, word_to_vec_map):\n",
    "    \"\"\"\n",
    "    Removes the bias of \"word\" by projecting it on the space orthogonal to the bias axis. \n",
    "    This function ensures that gender neutral words are zero in the gender subspace.\n",
    "    \n",
    "    Arguments:\n",
    "        word -- string indicating the word to debias\n",
    "        g -- numpy-array of shape (50,), corresponding to the bias axis (such as gender)\n",
    "        word_to_vec_map -- dictionary mapping words to their corresponding vectors.\n",
    "    \n",
    "    Returns:\n",
    "        e_debiased -- neutralized word vector representation of the input \"word\"\n",
    "    \"\"\"\n",
    "    e1 = word_to_vec_map.get(word)\n",
    "    e_dot_g = np.dot(e1, g)\n",
    "    sq_g = np.square(g) \n",
    "    g_length_squared = np.sum(sq_g)\n",
    "    e_bias_component = np.multiply(np.divide(e_dot_g, g_length_squared), g)\n",
    "    e_debiased = e1 - e_bias_component \n",
    "    return e_debiased\n",
    "    "
   ]
  },
  {
   "cell_type": "code",
   "execution_count": 22,
   "metadata": {},
   "outputs": [
    {
     "data": {
      "text/markdown": [
       "<p style='color:firebrick;font-weight:bold;font-family:verdana'>cosine similarity between receptionist and g, before neutralizing: 0.330779</p>"
      ],
      "text/plain": [
       "<IPython.core.display.Markdown object>"
      ]
     },
     "metadata": {},
     "output_type": "display_data"
    },
    {
     "data": {
      "text/markdown": [
       "<p style='color:firebrick;font-weight:bold;font-family:verdana'>cosine similarity between receptionist and g, after neutralizing: -2.920516166121757e-17</p>"
      ],
      "text/plain": [
       "<IPython.core.display.Markdown object>"
      ]
     },
     "metadata": {},
     "output_type": "display_data"
    }
   ],
   "source": [
    "e = \"receptionist\"\n",
    "if checkIfWordExistsInDictionary(e):\n",
    "    cs_before = cosine_similarity(word_to_vec_map.get(e), g)\n",
    "    printp(\"cosine similarity between \" + e + \" and g, before neutralizing: %f\"%cs_before)\n",
    "\n",
    "    e_debiased = neutralize(e, g, word_to_vec_map)\n",
    "    cs_after = cosine_similarity(e_debiased, g)\n",
    "    printp(\"cosine similarity between \" + e + \" and g, after neutralizing: %s\"%str(cs_after))\n",
    "else:\n",
    "    printp('One or all the words in %s do not exists in the mapping dictionary. Check if the words are correctly spelled'%n)"
   ]
  },
  {
   "cell_type": "markdown",
   "metadata": {},
   "source": [
    "<div style=\"background-color:#B5C689\"  class=\"alert alert-block alert-info\">\n",
    "<p style=\"color:#0C374D; fontsize:80px\">\n",
    "Observation<br>\n",
    "We can see after debiasing 'receptionist' it's cosine similarity became almost 0. This shows that 'receptionist' vector is now orthogonal to gender bias vector g. We almost reduced the gender bias associated with 'receptionist'\n",
    "</p>\n",
    "</div>"
   ]
  },
  {
   "cell_type": "markdown",
   "metadata": {},
   "source": [
    "<br>"
   ]
  },
  {
   "cell_type": "markdown",
   "metadata": {},
   "source": [
    "# Equalization algorithm for gender-specific words\n",
    "\n",
    "Next, lets see how debiasing can also be applied to word pairs such as \"actress\" and \"actor.\" Equalization is applied to pairs of words that you might want to have differ only through the gender property. As a concrete example, suppose that \"actress\" is closer to \"babysit\" than \"actor.\" By applying neutralizing to \"babysit\" we can reduce the gender-stereotype associated with babysitting. But this still does not guarantee that \"actor\" and \"actress\" are equidistant from \"babysit.\" The equalization algorithm takes care of this. \n",
    "\n",
    "The key idea behind equalization is to make sure that a particular pair of words are equi-distant from the 49-dimensional $g_\\perp$. The equalization step also ensures that the two equalized steps are now the same distance from $e_{receptionist}^{debiased}$, or from any other word that has been neutralized. In pictures, this is how equalization works: \n",
    "\n",
    "\n",
    "![](images/equalize10.png)\n",
    "\n",
    "\n",
    "\n",
    "The derivation of the linear algebra to do this is a bit more complex. (See Bolukbasi et al., 2016 for details.) But the key equations are: \n",
    "\n",
    "\\begin{equation}\n",
    "\\mu = \\frac{e_{w1} + e_{w2}}{2}\\tag{4}\n",
    "\\end{equation}\n",
    "\n",
    "\\begin{equation}\n",
    "\\mu_{B} = \\frac {\\mu \\cdot bias\\_axis}{||bias\\_axis||_2^2} *bias\\_axis\n",
    "\\tag{5}\n",
    "\\end{equation}\n",
    "\n",
    "\\begin{equation}\n",
    "\\mu_{\\perp} = \\mu - \\mu_{B} \\tag{6}\n",
    "\\end{equation}\n",
    "\n",
    "\\begin{equation}\n",
    "e_{w1B} = \\frac {e_{w1} \\cdot bias\\_axis}{||bias\\_axis||_2^2} *bias\\_axis\n",
    "\\tag{7}\n",
    "\\end{equation}\n",
    "\n",
    "\\begin{equation}\n",
    "e_{w2B} = \\frac {e_{w2} \\cdot bias\\_axis}{||bias\\_axis||_2^2} *bias\\_axis\n",
    "\\tag{8}\n",
    "\\end{equation}\n",
    "\n",
    "\\begin{equation}\n",
    "e_{w1B}^{corrected} = \\sqrt{ |{1 - ||\\mu_{\\perp} ||^2_2} |} * \\frac{e_{\\text{w1B}} - \\mu_B} {||(e_{w1} - \\mu_{\\perp}) - \\mu_B||} \\tag{9}\n",
    "\\end{equation}\n",
    "\n",
    "\\begin{equation}\n",
    "e_{w2B}^{corrected} = \\sqrt{ |{1 - ||\\mu_{\\perp} ||^2_2} |} * \\frac{e_{\\text{w2B}} - \\mu_B} {||(e_{w2} - \\mu_{\\perp}) - \\mu_B||} \\tag{10}\n",
    "\\end{equation}\n",
    "\n",
    "\\begin{equation}\n",
    "e_1 = e_{w1B}^{corrected} + \\mu_{\\perp} \\tag{11}\n",
    "\\end{equation}\n",
    "\n",
    "\\begin{equation}\n",
    "e_2 = e_{w2B}^{corrected} + \\mu_{\\perp} \\tag{12}\n",
    "\\end{equation}\n",
    "\n",
    "**TASK 11**: Implement the function below. Use the equations above to get the final equalized version of the pair of words. Good luck!\n",
    "\n",
    "***"
   ]
  },
  {
   "cell_type": "code",
   "execution_count": 23,
   "metadata": {},
   "outputs": [],
   "source": [
    "# TASK 11\n",
    "# GRADED equalize\n",
    "\n",
    "def equalize(pair, bias_axis, word_to_vec_map):\n",
    "    \"\"\"\n",
    "    Debias gender specific words by following the equalize method described in the figure above.\n",
    "    \n",
    "    Arguments:\n",
    "    pair -- pair of strings of gender specific words to debias, e.g. (\"actress\", \"actor\") \n",
    "    bias_axis -- numpy-array of shape (50,), vector corresponding to the bias axis, e.g. gender\n",
    "    word_to_vec_map -- dictionary mapping words to their corresponding vectors\n",
    "    \n",
    "    Returns\n",
    "    e_1 -- word vector corresponding to the first word\n",
    "    e_2 -- word vector corresponding to the second word\n",
    "    \"\"\"\n",
    "    w1, w2 = pair[0], pair[1]                                           # Unwrapping words\n",
    "    \n",
    "    e1 = word_to_vec_map.get(w1)                                        # Fetching word embedded vector from dict\n",
    "    e2 = word_to_vec_map.get(w2)                                        # Fetching word embedded vector from dict\n",
    "    \n",
    "    # STEP 1\n",
    "    mu = (e1 + e2) / 2                                                  # Calculating mu\n",
    "    \n",
    "    # STEP 2\n",
    "    dot_mb = np.dot(mu, bias_axis)                                      # Calculating dot product of mu and bias_axis\n",
    "    sq_bias_axis = np.square(bias_axis) \n",
    "    bias_axis_length_squared = np.sum(sq_bias_axis)                     # Calculation squared norm of bias axis\n",
    "    \n",
    "    muB = (dot_mb / bias_axis_length_squared) * bias_axis               # Calculating muB\n",
    "    \n",
    "    # STEP 3\n",
    "    mu_orth = mu - muB                                                  # Calculating resultant orthogonal mu\n",
    "    \n",
    "    # Step 4\n",
    "    dot_e1b = np.dot(e1, bias_axis)  \n",
    "    e1B = (dot_e1b / bias_axis_length_squared) * bias_axis\n",
    "    \n",
    "    # Step 5\n",
    "    dot_e2b = np.dot(e2, bias_axis)  \n",
    "    e2B = (dot_e2b / bias_axis_length_squared) * bias_axis\n",
    "    \n",
    "    # Step 6\n",
    "    sq_mu_orth = np.square(mu_orth) \n",
    "    mu_orth_length_squared = np.sum(sq_mu_orth) \n",
    "    denominator =  np.sum(e1 - mu_orth - muB)\n",
    "    right_side = np.sqrt(abs(1 - mu_orth_length_squared))\n",
    "    left_side = (e1B - muB) / denominator\n",
    "    e1B_corrected = right_side * left_side                             \n",
    "    \n",
    "    # Step 7\n",
    "    denominator1 =  np.sum(e2 - mu_orth - muB)\n",
    "    left_side1 = (e2B - muB) / denominator1\n",
    "    e2B_corrected = right_side * left_side1                             \n",
    "    \n",
    "    # STEP 8\n",
    "    e_1 = e1B_corrected + mu_orth                                      # Equalized w1\n",
    "    e_2 = e2B_corrected + mu_orth                                      # Equalized w2\n",
    "    \n",
    "    return e_1, e_2\n",
    "    "
   ]
  },
  {
   "cell_type": "code",
   "execution_count": 24,
   "metadata": {
    "scrolled": true
   },
   "outputs": [
    {
     "data": {
      "text/markdown": [
       "<p style='color:firebrick;font-weight:bold;font-family:verdana'>FOR man AND woman</p>"
      ],
      "text/plain": [
       "<IPython.core.display.Markdown object>"
      ]
     },
     "metadata": {},
     "output_type": "display_data"
    },
    {
     "data": {
      "text/markdown": [
       "<p style='color:firebrick;font-weight:bold;font-family:verdana'>before equalizing:</p>"
      ],
      "text/plain": [
       "<IPython.core.display.Markdown object>"
      ]
     },
     "metadata": {},
     "output_type": "display_data"
    },
    {
     "data": {
      "text/markdown": [
       "<p style='color:green;font-weight:bold;font-family:monaco'>cosine_similarity(man, gender) = -0.1171109576533683</p>"
      ],
      "text/plain": [
       "<IPython.core.display.Markdown object>"
      ]
     },
     "metadata": {},
     "output_type": "display_data"
    },
    {
     "data": {
      "text/markdown": [
       "<p style='color:green;font-weight:bold;font-family:monaco'>cosine_similarity(woman, gender) = 0.3566661884627037 </p>"
      ],
      "text/plain": [
       "<IPython.core.display.Markdown object>"
      ]
     },
     "metadata": {},
     "output_type": "display_data"
    },
    {
     "data": {
      "text/markdown": [
       "<p style='color:firebrick;font-weight:bold;font-family:verdana'>after equalizing:</p>"
      ],
      "text/plain": [
       "<IPython.core.display.Markdown object>"
      ]
     },
     "metadata": {},
     "output_type": "display_data"
    },
    {
     "data": {
      "text/markdown": [
       "<p style='color:green;font-weight:bold;font-family:monaco'>cosine_similarity(man_equalized, gender) = 0.9907112662166048</p>"
      ],
      "text/plain": [
       "<IPython.core.display.Markdown object>"
      ]
     },
     "metadata": {},
     "output_type": "display_data"
    },
    {
     "data": {
      "text/markdown": [
       "<p style='color:green;font-weight:bold;font-family:monaco'>cosine_similarity(woman_equalized, gender) = 0.9907112662166049</p>"
      ],
      "text/plain": [
       "<IPython.core.display.Markdown object>"
      ]
     },
     "metadata": {},
     "output_type": "display_data"
    },
    {
     "name": "stdout",
     "output_type": "stream",
     "text": [
      "\n",
      "\n"
     ]
    },
    {
     "data": {
      "text/markdown": [
       "<p style='color:firebrick;font-weight:bold;font-family:verdana'>FOR lion AND lioness</p>"
      ],
      "text/plain": [
       "<IPython.core.display.Markdown object>"
      ]
     },
     "metadata": {},
     "output_type": "display_data"
    },
    {
     "data": {
      "text/markdown": [
       "<p style='color:firebrick;font-weight:bold;font-family:verdana'>before equalizing:</p>"
      ],
      "text/plain": [
       "<IPython.core.display.Markdown object>"
      ]
     },
     "metadata": {},
     "output_type": "display_data"
    },
    {
     "data": {
      "text/markdown": [
       "<p style='color:green;font-weight:bold;font-family:monaco'>cosine_similarity(lion, gender) = -0.22226025527714985</p>"
      ],
      "text/plain": [
       "<IPython.core.display.Markdown object>"
      ]
     },
     "metadata": {},
     "output_type": "display_data"
    },
    {
     "data": {
      "text/markdown": [
       "<p style='color:green;font-weight:bold;font-family:monaco'>cosine_similarity(lioness, gender) = 0.1408917972977765 </p>"
      ],
      "text/plain": [
       "<IPython.core.display.Markdown object>"
      ]
     },
     "metadata": {},
     "output_type": "display_data"
    },
    {
     "data": {
      "text/markdown": [
       "<p style='color:firebrick;font-weight:bold;font-family:verdana'>after equalizing:</p>"
      ],
      "text/plain": [
       "<IPython.core.display.Markdown object>"
      ]
     },
     "metadata": {},
     "output_type": "display_data"
    },
    {
     "data": {
      "text/markdown": [
       "<p style='color:green;font-weight:bold;font-family:monaco'>cosine_similarity(lion_equalized, gender) = 0.3714858657643373</p>"
      ],
      "text/plain": [
       "<IPython.core.display.Markdown object>"
      ]
     },
     "metadata": {},
     "output_type": "display_data"
    },
    {
     "data": {
      "text/markdown": [
       "<p style='color:green;font-weight:bold;font-family:monaco'>cosine_similarity(lioness_equalized, gender) = 0.3714858657643371</p>"
      ],
      "text/plain": [
       "<IPython.core.display.Markdown object>"
      ]
     },
     "metadata": {},
     "output_type": "display_data"
    },
    {
     "name": "stdout",
     "output_type": "stream",
     "text": [
      "\n",
      "\n"
     ]
    },
    {
     "data": {
      "text/markdown": [
       "<p style='color:firebrick;font-weight:bold;font-family:verdana'>FOR cat AND tomcat</p>"
      ],
      "text/plain": [
       "<IPython.core.display.Markdown object>"
      ]
     },
     "metadata": {},
     "output_type": "display_data"
    },
    {
     "data": {
      "text/markdown": [
       "<p style='color:firebrick;font-weight:bold;font-family:verdana'>before equalizing:</p>"
      ],
      "text/plain": [
       "<IPython.core.display.Markdown object>"
      ]
     },
     "metadata": {},
     "output_type": "display_data"
    },
    {
     "data": {
      "text/markdown": [
       "<p style='color:green;font-weight:bold;font-family:monaco'>cosine_similarity(cat, gender) = -0.0019237288149024975</p>"
      ],
      "text/plain": [
       "<IPython.core.display.Markdown object>"
      ]
     },
     "metadata": {},
     "output_type": "display_data"
    },
    {
     "data": {
      "text/markdown": [
       "<p style='color:green;font-weight:bold;font-family:monaco'>cosine_similarity(tomcat, gender) = 0.01136414620047817 </p>"
      ],
      "text/plain": [
       "<IPython.core.display.Markdown object>"
      ]
     },
     "metadata": {},
     "output_type": "display_data"
    },
    {
     "data": {
      "text/markdown": [
       "<p style='color:firebrick;font-weight:bold;font-family:verdana'>after equalizing:</p>"
      ],
      "text/plain": [
       "<IPython.core.display.Markdown object>"
      ]
     },
     "metadata": {},
     "output_type": "display_data"
    },
    {
     "data": {
      "text/markdown": [
       "<p style='color:green;font-weight:bold;font-family:monaco'>cosine_similarity(cat_equalized, gender) = -0.014470160300786974</p>"
      ],
      "text/plain": [
       "<IPython.core.display.Markdown object>"
      ]
     },
     "metadata": {},
     "output_type": "display_data"
    },
    {
     "data": {
      "text/markdown": [
       "<p style='color:green;font-weight:bold;font-family:monaco'>cosine_similarity(tomcat_equalized, gender) = -0.014470160300786974</p>"
      ],
      "text/plain": [
       "<IPython.core.display.Markdown object>"
      ]
     },
     "metadata": {},
     "output_type": "display_data"
    },
    {
     "name": "stdout",
     "output_type": "stream",
     "text": [
      "\n",
      "\n"
     ]
    },
    {
     "data": {
      "text/markdown": [
       "<p style='color:firebrick;font-weight:bold;font-family:verdana'>FOR hen AND rooster</p>"
      ],
      "text/plain": [
       "<IPython.core.display.Markdown object>"
      ]
     },
     "metadata": {},
     "output_type": "display_data"
    },
    {
     "data": {
      "text/markdown": [
       "<p style='color:firebrick;font-weight:bold;font-family:verdana'>before equalizing:</p>"
      ],
      "text/plain": [
       "<IPython.core.display.Markdown object>"
      ]
     },
     "metadata": {},
     "output_type": "display_data"
    },
    {
     "data": {
      "text/markdown": [
       "<p style='color:green;font-weight:bold;font-family:monaco'>cosine_similarity(hen, gender) = -0.10422713010291924</p>"
      ],
      "text/plain": [
       "<IPython.core.display.Markdown object>"
      ]
     },
     "metadata": {},
     "output_type": "display_data"
    },
    {
     "data": {
      "text/markdown": [
       "<p style='color:green;font-weight:bold;font-family:monaco'>cosine_similarity(rooster, gender) = -0.1245949053980205 </p>"
      ],
      "text/plain": [
       "<IPython.core.display.Markdown object>"
      ]
     },
     "metadata": {},
     "output_type": "display_data"
    },
    {
     "data": {
      "text/markdown": [
       "<p style='color:firebrick;font-weight:bold;font-family:verdana'>after equalizing:</p>"
      ],
      "text/plain": [
       "<IPython.core.display.Markdown object>"
      ]
     },
     "metadata": {},
     "output_type": "display_data"
    },
    {
     "data": {
      "text/markdown": [
       "<p style='color:green;font-weight:bold;font-family:monaco'>cosine_similarity(hen_equalized, gender) = 0.005283859519852472</p>"
      ],
      "text/plain": [
       "<IPython.core.display.Markdown object>"
      ]
     },
     "metadata": {},
     "output_type": "display_data"
    },
    {
     "data": {
      "text/markdown": [
       "<p style='color:green;font-weight:bold;font-family:monaco'>cosine_similarity(rooster_equalized, gender) = 0.005283859519852582</p>"
      ],
      "text/plain": [
       "<IPython.core.display.Markdown object>"
      ]
     },
     "metadata": {},
     "output_type": "display_data"
    },
    {
     "name": "stdout",
     "output_type": "stream",
     "text": [
      "\n",
      "\n"
     ]
    },
    {
     "data": {
      "text/markdown": [
       "<p style='color:firebrick;font-weight:bold;font-family:verdana'>FOR tiger AND tigress</p>"
      ],
      "text/plain": [
       "<IPython.core.display.Markdown object>"
      ]
     },
     "metadata": {},
     "output_type": "display_data"
    },
    {
     "data": {
      "text/markdown": [
       "<p style='color:firebrick;font-weight:bold;font-family:verdana'>before equalizing:</p>"
      ],
      "text/plain": [
       "<IPython.core.display.Markdown object>"
      ]
     },
     "metadata": {},
     "output_type": "display_data"
    },
    {
     "data": {
      "text/markdown": [
       "<p style='color:green;font-weight:bold;font-family:monaco'>cosine_similarity(tiger, gender) = -0.2715448478765569</p>"
      ],
      "text/plain": [
       "<IPython.core.display.Markdown object>"
      ]
     },
     "metadata": {},
     "output_type": "display_data"
    },
    {
     "data": {
      "text/markdown": [
       "<p style='color:green;font-weight:bold;font-family:monaco'>cosine_similarity(tigress, gender) = 0.159232961574708 </p>"
      ],
      "text/plain": [
       "<IPython.core.display.Markdown object>"
      ]
     },
     "metadata": {},
     "output_type": "display_data"
    },
    {
     "data": {
      "text/markdown": [
       "<p style='color:firebrick;font-weight:bold;font-family:verdana'>after equalizing:</p>"
      ],
      "text/plain": [
       "<IPython.core.display.Markdown object>"
      ]
     },
     "metadata": {},
     "output_type": "display_data"
    },
    {
     "data": {
      "text/markdown": [
       "<p style='color:green;font-weight:bold;font-family:monaco'>cosine_similarity(tiger_equalized, gender) = 0.7483838947967763</p>"
      ],
      "text/plain": [
       "<IPython.core.display.Markdown object>"
      ]
     },
     "metadata": {},
     "output_type": "display_data"
    },
    {
     "data": {
      "text/markdown": [
       "<p style='color:green;font-weight:bold;font-family:monaco'>cosine_similarity(tigress_equalized, gender) = 0.7483838947967763</p>"
      ],
      "text/plain": [
       "<IPython.core.display.Markdown object>"
      ]
     },
     "metadata": {},
     "output_type": "display_data"
    },
    {
     "name": "stdout",
     "output_type": "stream",
     "text": [
      "\n",
      "\n"
     ]
    }
   ],
   "source": [
    "dictwords = {'man':'woman','lion':'lioness','cat':'tomcat','hen':'rooster','tiger':'tigress'}\n",
    "for k in dictwords.keys():\n",
    "    m = k\n",
    "    w = dictwords[k]\n",
    "    if checkIfWordExistsInDictionary(m) and checkIfWordExistsInDictionary(w):\n",
    "        printp('FOR %s AND %s'%(m,w))\n",
    "        printp(\"before equalizing:\")\n",
    "\n",
    "        man = cosine_similarity(word_to_vec_map[m], g)\n",
    "        printg(\"cosine_similarity(\"+m+\", gender) = %s\"%str(man))\n",
    "\n",
    "        woman = cosine_similarity(word_to_vec_map[w], g)\n",
    "        printg(\"cosine_similarity(\"+w+\", gender) = %s \"%str(woman))\n",
    "\n",
    "        e1, e2 = equalize((m, w), g, word_to_vec_map)                           # Equalizing woman, man around gender\n",
    "        printp(\"after equalizing:\")\n",
    "\n",
    "        e1g = cosine_similarity(e1, g)\n",
    "        printg(\"cosine_similarity(\"+m+\"_equalized, gender) = %s\"%str(e1g))\n",
    "\n",
    "        e2g = cosine_similarity(e2, g)\n",
    "        printg(\"cosine_similarity(\"+w+\"_equalized, gender) = %s\"%str(e2g))\n",
    "        print('\\n')\n",
    "    else:\n",
    "        printp('One or all the words in %s %s do not exists in the mapping dictionary. Check if the words are correctly spelled'%(m,w))\n",
    "        print('\\n')"
   ]
  },
  {
   "cell_type": "markdown",
   "metadata": {},
   "source": [
    "**TASK 12: What do you abserve?**\n",
    "\n",
    "***\n",
    "\n",
    "PLEASE ANSWER HERE!\n",
    "\n",
    "\n",
    "***"
   ]
  },
  {
   "cell_type": "markdown",
   "metadata": {},
   "source": [
    "<div style=\"background-color:#B5C689\"  class=\"alert alert-block alert-info\">\n",
    "<p style=\"color:#0C374D; fontsize:80px\">\n",
    "Observation<br>\n",
    "Before equalization the gender specific words were not equally similar w.r.t gender bias vector space. After equalization of these words, they are now equally similar w.r.t gender bias vector space. We should see what effect this equalization had on similarity of other words like 'receptionist' on which has gender bias. \n",
    "</p>\n",
    "</div>"
   ]
  },
  {
   "cell_type": "markdown",
   "metadata": {},
   "source": [
    "<div style=\"background-color:#B5C689\"  class=\"alert alert-block alert-info\">\n",
    "<p style=\"color:#0C374D; fontsize:80px\">\n",
    "Now, let's see what effect this equalization had on receptionist !!!\n",
    "</p>\n",
    "</div>"
   ]
  },
  {
   "cell_type": "code",
   "execution_count": 25,
   "metadata": {
    "scrolled": true
   },
   "outputs": [
    {
     "data": {
      "text/markdown": [
       "<p style='color:firebrick;font-weight:bold;font-family:verdana'>before equalizing:</p>"
      ],
      "text/plain": [
       "<IPython.core.display.Markdown object>"
      ]
     },
     "metadata": {},
     "output_type": "display_data"
    },
    {
     "data": {
      "text/markdown": [
       "<p style='color:green;font-weight:bold;font-family:monaco'>cosine_similarity(man, receptionist) = 0.3104243175079627</p>"
      ],
      "text/plain": [
       "<IPython.core.display.Markdown object>"
      ]
     },
     "metadata": {},
     "output_type": "display_data"
    },
    {
     "data": {
      "text/markdown": [
       "<p style='color:green;font-weight:bold;font-family:monaco'>cosine_similarity(woman, receptionist) = 0.4464364858934247 </p>"
      ],
      "text/plain": [
       "<IPython.core.display.Markdown object>"
      ]
     },
     "metadata": {},
     "output_type": "display_data"
    },
    {
     "data": {
      "text/markdown": [
       "<p style='color:firebrick;font-weight:bold;font-family:verdana'>after equalizing:</p>"
      ],
      "text/plain": [
       "<IPython.core.display.Markdown object>"
      ]
     },
     "metadata": {},
     "output_type": "display_data"
    },
    {
     "data": {
      "text/markdown": [
       "<p style='color:green;font-weight:bold;font-family:monaco'>cosine_similarity(man, receptionist) = 0.375515758178286</p>"
      ],
      "text/plain": [
       "<IPython.core.display.Markdown object>"
      ]
     },
     "metadata": {},
     "output_type": "display_data"
    },
    {
     "data": {
      "text/markdown": [
       "<p style='color:green;font-weight:bold;font-family:monaco'>cosine_similarity(woman, receptionist) = 0.3755157581782861 </p>"
      ],
      "text/plain": [
       "<IPython.core.display.Markdown object>"
      ]
     },
     "metadata": {},
     "output_type": "display_data"
    }
   ],
   "source": [
    "m = 'man'\n",
    "w = 'woman'\n",
    "r = 'receptionist'\n",
    "if checkIfWordExistsInDictionary(m) and checkIfWordExistsInDictionary(w) and checkIfWordExistsInDictionary(r):\n",
    "    printp(\"before equalizing:\")\n",
    "    mr = cosine_similarity(word_to_vec_map[m], word_to_vec_map[r])\n",
    "    printg(\"cosine_similarity(\"+m+\", receptionist) = %s\"%str(mr))\n",
    "\n",
    "    woman = cosine_similarity(word_to_vec_map[w], word_to_vec_map[r])\n",
    "    printg(\"cosine_similarity(\"+w+\", receptionist) = %s \"%str(woman))\n",
    "\n",
    "    e1, e2 = equalize((m, w), g, word_to_vec_map)                        # Equalizing woman, man around gender\n",
    "    printp(\"after equalizing:\")\n",
    "    mr = cosine_similarity(e1, word_to_vec_map[r])\n",
    "    printg(\"cosine_similarity(\"+m+\", receptionist) = %s\"%str(mr))\n",
    "\n",
    "    woman = cosine_similarity(e2, word_to_vec_map[r])\n",
    "    printg(\"cosine_similarity(\"+w+\", receptionist) = %s \"%str(woman))\n",
    "else:\n",
    "    printp('One or all the words in %s %s do not exists in the mapping dictionary. Check if the words are correctly spelled'%(m,w))"
   ]
  },
  {
   "cell_type": "markdown",
   "metadata": {},
   "source": [
    "<div style=\"background-color:#B5C689\"  class=\"alert alert-block alert-info\">\n",
    "<p style=\"color:#0C374D; fontsize:80px\">\n",
    "Now, let's take better estimation of g by averaging gender spaces of set of words.\n",
    "</p>\n",
    "</div>"
   ]
  },
  {
   "cell_type": "code",
   "execution_count": 26,
   "metadata": {},
   "outputs": [
    {
     "data": {
      "text/markdown": [
       "<p style='color:firebrick;font-weight:bold;font-family:verdana'>Lets check distance of man, woman and receptionist with new bias vector</p>"
      ],
      "text/plain": [
       "<IPython.core.display.Markdown object>"
      ]
     },
     "metadata": {},
     "output_type": "display_data"
    },
    {
     "data": {
      "text/markdown": [
       "<p style='color:firebrick;font-weight:bold;font-family:verdana'>before equalizing:</p>"
      ],
      "text/plain": [
       "<IPython.core.display.Markdown object>"
      ]
     },
     "metadata": {},
     "output_type": "display_data"
    },
    {
     "data": {
      "text/markdown": [
       "<p style='color:green;font-weight:bold;font-family:monaco'>cosine_similarity(man, gender bias) = -0.13383132990296484</p>"
      ],
      "text/plain": [
       "<IPython.core.display.Markdown object>"
      ]
     },
     "metadata": {},
     "output_type": "display_data"
    },
    {
     "data": {
      "text/markdown": [
       "<p style='color:green;font-weight:bold;font-family:monaco'>cosine_similarity(woman, gender bias) = 0.22047402726555493 </p>"
      ],
      "text/plain": [
       "<IPython.core.display.Markdown object>"
      ]
     },
     "metadata": {},
     "output_type": "display_data"
    },
    {
     "data": {
      "text/markdown": [
       "<p style='color:firebrick;font-weight:bold;font-family:verdana'>after equalizing:</p>"
      ],
      "text/plain": [
       "<IPython.core.display.Markdown object>"
      ]
     },
     "metadata": {},
     "output_type": "display_data"
    },
    {
     "data": {
      "text/markdown": [
       "<p style='color:green;font-weight:bold;font-family:monaco'>cosine_similarity(man, gender bias) = 0.9833248103943684</p>"
      ],
      "text/plain": [
       "<IPython.core.display.Markdown object>"
      ]
     },
     "metadata": {},
     "output_type": "display_data"
    },
    {
     "data": {
      "text/markdown": [
       "<p style='color:green;font-weight:bold;font-family:monaco'>cosine_similarity(woman, gender bias) = 0.9833248103943684 </p>"
      ],
      "text/plain": [
       "<IPython.core.display.Markdown object>"
      ]
     },
     "metadata": {},
     "output_type": "display_data"
    },
    {
     "data": {
      "text/markdown": [
       "<p style='color:green;font-weight:bold;font-family:monaco'>cosine_similarity(man, receptionist) = 0.388099587001532</p>"
      ],
      "text/plain": [
       "<IPython.core.display.Markdown object>"
      ]
     },
     "metadata": {},
     "output_type": "display_data"
    },
    {
     "data": {
      "text/markdown": [
       "<p style='color:green;font-weight:bold;font-family:monaco'>cosine_similarity(woman, receptionist) = 0.3880995870015321 </p>"
      ],
      "text/plain": [
       "<IPython.core.display.Markdown object>"
      ]
     },
     "metadata": {},
     "output_type": "display_data"
    }
   ],
   "source": [
    "m = 'man'\n",
    "w = 'woman'\n",
    "r = 'receptionist'\n",
    "\n",
    "dictOfWords = {'woman':'man', 'girl':'boy', 'female':'male', 'mother':'father', 'grandmother':'grandfather', 'sister':'brother'\\\n",
    "               ,'wife':'husband', 'lady':'lord', 'queen':'king', 'princess':'prince','aunty':'uncle','niece':'nephew'}\n",
    "\n",
    "g1 = 0\n",
    "\n",
    "for a in dictOfWords.keys():    \n",
    "    w1 = a\n",
    "    w2 = dictOfWords[a]\n",
    "    if checkIfWordExistsInDictionary(w1) and checkIfWordExistsInDictionary(w2):\n",
    "        e1 = word_to_vec_map[w1]\n",
    "        e2 = word_to_vec_map[w2]\n",
    "        g1 = g1 + (e1 - e2)\n",
    "    else:\n",
    "        printp('One or all the words in %s %s do not exists in the mapping dictionary. Check if the words are correctly spelled'%(m,w))\n",
    "        print(w)\n",
    "        print(a)\n",
    "        print(dictOfWords[a])\n",
    "\n",
    "g = g1 / len(dictOfWords)                                                   # Average gender bais vector\n",
    "\n",
    "printp('Lets check distance of man, woman and receptionist with new bias vector')\n",
    "printp(\"before equalizing:\")\n",
    "mr = cosine_similarity(word_to_vec_map[m], g)\n",
    "printg(\"cosine_similarity(\"+m+\", gender bias) = %s\"%str(mr))\n",
    "\n",
    "woman = cosine_similarity(word_to_vec_map[w], g)\n",
    "printg(\"cosine_similarity(\"+w+\", gender bias) = %s \"%str(woman))\n",
    "\n",
    "e1, e2 = equalize((m, w), g, word_to_vec_map)                              # Equalizing woman, man around gender\n",
    "printp(\"after equalizing:\")\n",
    "mr = cosine_similarity(e1, g)\n",
    "printg(\"cosine_similarity(\"+m+\", gender bias) = %s\"%str(mr))\n",
    "\n",
    "woman = cosine_similarity(e2, g)\n",
    "printg(\"cosine_similarity(\"+w+\", gender bias) = %s \"%str(woman))\n",
    "\n",
    "mr = cosine_similarity(e1, word_to_vec_map[r])\n",
    "printg(\"cosine_similarity(\"+m+\", receptionist) = %s\"%str(mr))\n",
    "\n",
    "woman = cosine_similarity(e2, word_to_vec_map[r])\n",
    "printg(\"cosine_similarity(\"+w+\", receptionist) = %s \"%str(woman))"
   ]
  },
  {
   "cell_type": "markdown",
   "metadata": {},
   "source": [
    "<br>"
   ]
  },
  {
   "cell_type": "markdown",
   "metadata": {},
   "source": [
    "<br>"
   ]
  },
  {
   "cell_type": "markdown",
   "metadata": {},
   "source": [
    "<div style=\"background-color:#B5C689\"  class=\"alert alert-block alert-info\">\n",
    "<p style=\"color:#0C374D; fontsize:80px\">\n",
    "Age Biased Words\n",
    "</p>\n",
    "</div>"
   ]
  },
  {
   "cell_type": "code",
   "execution_count": 27,
   "metadata": {
    "scrolled": true
   },
   "outputs": [
    {
     "data": {
      "text/markdown": [
       "<p style='color:firebrick;font-weight:bold;font-family:verdana'>Below is the resultant age bias vector of vector young and vector old </p>"
      ],
      "text/plain": [
       "<IPython.core.display.Markdown object>"
      ]
     },
     "metadata": {},
     "output_type": "display_data"
    },
    {
     "name": "stdout",
     "output_type": "stream",
     "text": [
      "[ 0.09793   -0.18399    0.299309  -0.72784    0.10094   -0.11091\n",
      "  0.2189    -0.125991  -0.52477    0.33089    0.213981   0.54913\n",
      "  0.656614   0.10779   -0.26219   -0.694882   1.05802   -0.12921\n",
      " -0.51308   -0.724884   0.1522     0.15397    1.38748    0.31858\n",
      "  0.28643    0.7563    -0.20041   -1.20299   -0.53337   -0.41608\n",
      "  0.071      1.30329    0.190959  -1.43544   -0.3196    -0.20773\n",
      " -0.29931   -0.55679   -0.5899578 -0.29469   -0.18698    0.00712\n",
      "  0.00762   -0.342021   0.75049   -0.73536   -0.22936   -0.07647\n",
      " -0.18104    1.03046  ]\n",
      "\n",
      "\n",
      "\n"
     ]
    },
    {
     "data": {
      "text/markdown": [
       "<p style='color:firebrick;font-weight:bold;font-family:verdana'>List of names and their similarities with constructed vector age:</p>"
      ],
      "text/plain": [
       "<IPython.core.display.Markdown object>"
      ]
     },
     "metadata": {},
     "output_type": "display_data"
    },
    {
     "data": {
      "text/html": [
       "<div>\n",
       "<style scoped>\n",
       "    .dataframe tbody tr th:only-of-type {\n",
       "        vertical-align: middle;\n",
       "    }\n",
       "\n",
       "    .dataframe tbody tr th {\n",
       "        vertical-align: top;\n",
       "    }\n",
       "\n",
       "    .dataframe thead th {\n",
       "        text-align: right;\n",
       "    }\n",
       "</style>\n",
       "<table border=\"1\" class=\"dataframe\">\n",
       "  <thead>\n",
       "    <tr style=\"text-align: right;\">\n",
       "      <th></th>\n",
       "      <th>Word</th>\n",
       "      <th>Cosine_similarity_with_age</th>\n",
       "    </tr>\n",
       "  </thead>\n",
       "  <tbody>\n",
       "    <tr>\n",
       "      <th>0</th>\n",
       "      <td>manager</td>\n",
       "      <td>-0.024268</td>\n",
       "    </tr>\n",
       "    <tr>\n",
       "      <th>1</th>\n",
       "      <td>assistant</td>\n",
       "      <td>0.002551</td>\n",
       "    </tr>\n",
       "  </tbody>\n",
       "</table>\n",
       "</div>"
      ],
      "text/plain": [
       "        Word  Cosine_similarity_with_age\n",
       "0    manager                   -0.024268\n",
       "1  assistant                    0.002551"
      ]
     },
     "metadata": {},
     "output_type": "display_data"
    }
   ],
   "source": [
    "w1 = 'young'\n",
    "w2 = 'old'\n",
    "\n",
    "u = word_to_vec_map.get(w1) \n",
    "v = word_to_vec_map.get(w2) \n",
    "age = np.subtract(u, v)\n",
    "\n",
    "printp('Below is the resultant age bias vector of vector young and vector old ')\n",
    "print(age)\n",
    "\n",
    "df = pd.DataFrame(columns = ['Word','Cosine_similarity_with_age'])\n",
    "\n",
    "name_list = ['manager', 'assistant']\n",
    "\n",
    "for n in name_list:\n",
    "    if checkIfWordExistsInDictionary(n):\n",
    "        u1 = word_to_vec_map.get(n) \n",
    "        cosine_similarity_score= cosine_similarity(u1, age)\n",
    "        df = df.append({'Word':n, 'Cosine_similarity_with_age':cosine_similarity_score}, ignore_index=True)\n",
    "    else:\n",
    "        printp('One or all the words in %s do not exists in the mapping dictionary. Check if the words are correctly spelled'%n)\n",
    "print('\\n\\n')\n",
    "printp('List of names and their similarities with constructed vector age:')\n",
    "display(df)"
   ]
  },
  {
   "cell_type": "markdown",
   "metadata": {},
   "source": [
    "<div style=\"background-color:#B5C689\"  class=\"alert alert-block alert-info\">\n",
    "<p style=\"color:#0C374D; fontsize:80px\">\n",
    "Observation - <br>\n",
    "From above results we can see that 'manager' is more closer to 'old' whereas 'assistant' is more closer to 'young'. This is not always true in real world scenarios and can thus be considered as biased. Let's equlize 'young' and 'old' around age.\n",
    "</p>\n",
    "</div>"
   ]
  },
  {
   "cell_type": "code",
   "execution_count": 28,
   "metadata": {},
   "outputs": [
    {
     "data": {
      "text/markdown": [
       "<p style='color:firebrick;font-weight:bold;font-family:verdana'>FOR young AND old</p>"
      ],
      "text/plain": [
       "<IPython.core.display.Markdown object>"
      ]
     },
     "metadata": {},
     "output_type": "display_data"
    },
    {
     "data": {
      "text/markdown": [
       "<p style='color:firebrick;font-weight:bold;font-family:verdana'>before equalizing:</p>"
      ],
      "text/plain": [
       "<IPython.core.display.Markdown object>"
      ]
     },
     "metadata": {},
     "output_type": "display_data"
    },
    {
     "data": {
      "text/markdown": [
       "<p style='color:green;font-weight:bold;font-family:monaco'>cosine_similarity(young, gender) = 0.3464061089377554</p>"
      ],
      "text/plain": [
       "<IPython.core.display.Markdown object>"
      ]
     },
     "metadata": {},
     "output_type": "display_data"
    },
    {
     "data": {
      "text/markdown": [
       "<p style='color:green;font-weight:bold;font-family:monaco'>cosine_similarity(old, gender) = -0.42129240017943104 </p>"
      ],
      "text/plain": [
       "<IPython.core.display.Markdown object>"
      ]
     },
     "metadata": {},
     "output_type": "display_data"
    },
    {
     "data": {
      "text/markdown": [
       "<p style='color:firebrick;font-weight:bold;font-family:verdana'>after equalizing:</p>"
      ],
      "text/plain": [
       "<IPython.core.display.Markdown object>"
      ]
     },
     "metadata": {},
     "output_type": "display_data"
    },
    {
     "data": {
      "text/markdown": [
       "<p style='color:green;font-weight:bold;font-family:monaco'>cosine_similarity(young_equalized, gender) = -0.9136070807663154</p>"
      ],
      "text/plain": [
       "<IPython.core.display.Markdown object>"
      ]
     },
     "metadata": {},
     "output_type": "display_data"
    },
    {
     "data": {
      "text/markdown": [
       "<p style='color:green;font-weight:bold;font-family:monaco'>cosine_similarity(old_equalized, gender) = -0.9136070807663156</p>"
      ],
      "text/plain": [
       "<IPython.core.display.Markdown object>"
      ]
     },
     "metadata": {},
     "output_type": "display_data"
    },
    {
     "name": "stdout",
     "output_type": "stream",
     "text": [
      "\n",
      "\n"
     ]
    }
   ],
   "source": [
    "dictwords = {'young':'old'}\n",
    "for k in dictwords.keys():\n",
    "    m = k\n",
    "    w = dictwords[k]\n",
    "    if checkIfWordExistsInDictionary(m) and checkIfWordExistsInDictionary(w):\n",
    "        printp('FOR %s AND %s'%(m,w))\n",
    "        printp(\"before equalizing:\")\n",
    "\n",
    "        manager = cosine_similarity(word_to_vec_map[m], age)\n",
    "        printg(\"cosine_similarity(\"+m+\", gender) = %s\"%str(manager))\n",
    "\n",
    "        assit = cosine_similarity(word_to_vec_map[w], age)\n",
    "        printg(\"cosine_similarity(\"+w+\", gender) = %s \"%str(assit))\n",
    "\n",
    "        e1, e2 = equalize((m, w), age, word_to_vec_map)                   # Equalizing young, old around age\n",
    "        printp(\"after equalizing:\")\n",
    "\n",
    "        e1g = cosine_similarity(e1, age)\n",
    "        printg(\"cosine_similarity(\"+m+\"_equalized, gender) = %s\"%str(e1g))\n",
    "\n",
    "        e2g = cosine_similarity(e2, age)\n",
    "        printg(\"cosine_similarity(\"+w+\"_equalized, gender) = %s\"%str(e2g))\n",
    "        print('\\n')\n",
    "    else:\n",
    "        printp('One or all the words in %s %s do not exists in the mapping dictionary. Check if the words are correctly spelled'%(m,w))\n",
    "        print('\\n')"
   ]
  },
  {
   "cell_type": "markdown",
   "metadata": {},
   "source": [
    "<div style=\"background-color:#B5C689\"  class=\"alert alert-block alert-info\">\n",
    "<p style=\"color:#0C374D; fontsize:80px\">\n",
    "Now, let's see if manager is equidistance from young and old\n",
    "</p>\n",
    "</div>"
   ]
  },
  {
   "cell_type": "code",
   "execution_count": 29,
   "metadata": {},
   "outputs": [
    {
     "data": {
      "text/markdown": [
       "<p style='color:firebrick;font-weight:bold;font-family:verdana'>before equalizing:</p>"
      ],
      "text/plain": [
       "<IPython.core.display.Markdown object>"
      ]
     },
     "metadata": {},
     "output_type": "display_data"
    },
    {
     "data": {
      "text/markdown": [
       "<p style='color:green;font-weight:bold;font-family:monaco'>cosine_similarity(young, manager) = 0.43696476970959663</p>"
      ],
      "text/plain": [
       "<IPython.core.display.Markdown object>"
      ]
     },
     "metadata": {},
     "output_type": "display_data"
    },
    {
     "data": {
      "text/markdown": [
       "<p style='color:green;font-weight:bold;font-family:monaco'>cosine_similarity(old, manager) = 0.4408017196155107 </p>"
      ],
      "text/plain": [
       "<IPython.core.display.Markdown object>"
      ]
     },
     "metadata": {},
     "output_type": "display_data"
    },
    {
     "data": {
      "text/markdown": [
       "<p style='color:firebrick;font-weight:bold;font-family:verdana'>after equalizing:</p>"
      ],
      "text/plain": [
       "<IPython.core.display.Markdown object>"
      ]
     },
     "metadata": {},
     "output_type": "display_data"
    },
    {
     "data": {
      "text/markdown": [
       "<p style='color:green;font-weight:bold;font-family:monaco'>cosine_similarity(young, manager) = 0.21521080327992223</p>"
      ],
      "text/plain": [
       "<IPython.core.display.Markdown object>"
      ]
     },
     "metadata": {},
     "output_type": "display_data"
    },
    {
     "data": {
      "text/markdown": [
       "<p style='color:green;font-weight:bold;font-family:monaco'>cosine_similarity(old, manager) = 0.21521080327992234 </p>"
      ],
      "text/plain": [
       "<IPython.core.display.Markdown object>"
      ]
     },
     "metadata": {},
     "output_type": "display_data"
    }
   ],
   "source": [
    "m = 'young'\n",
    "w = 'old'\n",
    "r = 'manager'\n",
    "if checkIfWordExistsInDictionary(m) and checkIfWordExistsInDictionary(w) and checkIfWordExistsInDictionary(r):\n",
    "    printp(\"before equalizing:\")\n",
    "    mr = cosine_similarity(word_to_vec_map[m], word_to_vec_map[r])\n",
    "    printg(\"cosine_similarity(\"+m+\", manager) = %s\"%str(mr))\n",
    "\n",
    "    woman = cosine_similarity(word_to_vec_map[w], word_to_vec_map[r])\n",
    "    printg(\"cosine_similarity(\"+w+\", manager) = %s \"%str(woman))\n",
    "\n",
    "    e1, e2 = equalize((m, w), age, word_to_vec_map)                       # Equalizing young, old around age\n",
    "    printp(\"after equalizing:\")\n",
    "    mr = cosine_similarity(e1, word_to_vec_map[r])\n",
    "    printg(\"cosine_similarity(\"+m+\", manager) = %s\"%str(mr))\n",
    "\n",
    "    woman = cosine_similarity(e2, word_to_vec_map[r])\n",
    "    printg(\"cosine_similarity(\"+w+\", manager) = %s \"%str(woman))\n",
    "else:\n",
    "    printp('One or all the words in %s do not exists in the mapping dictionary. Check if the words are correctly spelled'%n)"
   ]
  },
  {
   "cell_type": "markdown",
   "metadata": {},
   "source": [
    "<br>"
   ]
  },
  {
   "cell_type": "markdown",
   "metadata": {},
   "source": [
    "<br>"
   ]
  },
  {
   "cell_type": "markdown",
   "metadata": {},
   "source": [
    "<div style=\"background-color:#B5C689\"  class=\"alert alert-block alert-info\">\n",
    "<p style=\"color:#0C374D; fontsize:80px\">\n",
    "Religion Biased Words\n",
    "</p>\n",
    "</div>"
   ]
  },
  {
   "cell_type": "code",
   "execution_count": 30,
   "metadata": {},
   "outputs": [
    {
     "data": {
      "text/markdown": [
       "<p style='color:firebrick;font-weight:bold;font-family:verdana'>Below is the resultant religion bias vector of vector christian and vector atheist </p>"
      ],
      "text/plain": [
       "<IPython.core.display.Markdown object>"
      ]
     },
     "metadata": {},
     "output_type": "display_data"
    },
    {
     "name": "stdout",
     "output_type": "stream",
     "text": [
      "[ 0.712627   0.151391  -1.49459   -0.73336    0.75447   -0.28789\n",
      " -0.83355   -0.41619    0.62702   -0.4091     0.18549   -0.2057\n",
      " -1.18275   -0.75755   -0.334219  -0.44822    0.74648   -1.11407\n",
      " -0.514853  -1.01931    0.31253    0.1217    -0.690095   0.33906\n",
      " -1.02617   -0.20596   -0.44337   -0.31579   -0.86402   -0.242325\n",
      "  2.02514    1.16612   -0.0071    -0.22619    0.63633    0.44659\n",
      " -0.70565    0.07801    0.1968311  0.93174    0.54729    1.56226\n",
      " -0.84974   -1.407781   0.167824   1.07936    0.80377    0.2047\n",
      " -0.92335   -0.585644 ]\n",
      "\n",
      "\n",
      "\n"
     ]
    },
    {
     "data": {
      "text/markdown": [
       "<p style='color:firebrick;font-weight:bold;font-family:verdana'>List of names and their similarities with constructed vector religion:</p>"
      ],
      "text/plain": [
       "<IPython.core.display.Markdown object>"
      ]
     },
     "metadata": {},
     "output_type": "display_data"
    },
    {
     "data": {
      "text/html": [
       "<div>\n",
       "<style scoped>\n",
       "    .dataframe tbody tr th:only-of-type {\n",
       "        vertical-align: middle;\n",
       "    }\n",
       "\n",
       "    .dataframe tbody tr th {\n",
       "        vertical-align: top;\n",
       "    }\n",
       "\n",
       "    .dataframe thead th {\n",
       "        text-align: right;\n",
       "    }\n",
       "</style>\n",
       "<table border=\"1\" class=\"dataframe\">\n",
       "  <thead>\n",
       "    <tr style=\"text-align: right;\">\n",
       "      <th></th>\n",
       "      <th>Word</th>\n",
       "      <th>Cosine_similarity_with_religion</th>\n",
       "    </tr>\n",
       "  </thead>\n",
       "  <tbody>\n",
       "    <tr>\n",
       "      <th>0</th>\n",
       "      <td>john</td>\n",
       "      <td>0.412841</td>\n",
       "    </tr>\n",
       "    <tr>\n",
       "      <th>1</th>\n",
       "      <td>rahul</td>\n",
       "      <td>-0.007393</td>\n",
       "    </tr>\n",
       "  </tbody>\n",
       "</table>\n",
       "</div>"
      ],
      "text/plain": [
       "    Word  Cosine_similarity_with_religion\n",
       "0   john                         0.412841\n",
       "1  rahul                        -0.007393"
      ]
     },
     "metadata": {},
     "output_type": "display_data"
    }
   ],
   "source": [
    "w1 = 'christian'\n",
    "w2 = 'atheist'\n",
    "\n",
    "u = word_to_vec_map.get(w1) \n",
    "v = word_to_vec_map.get(w2) \n",
    "religion = np.subtract(u, v)\n",
    "\n",
    "printp('Below is the resultant religion bias vector of vector christian and vector atheist ')\n",
    "print(religion)\n",
    "\n",
    "df = pd.DataFrame(columns = ['Word','Cosine_similarity_with_religion'])\n",
    "\n",
    "name_list = ['john', 'rahul']\n",
    "\n",
    "for n in name_list:\n",
    "    if checkIfWordExistsInDictionary(n):\n",
    "        u1 = word_to_vec_map.get(n) \n",
    "        cosine_similarity_score= cosine_similarity(u1, religion)\n",
    "        df = df.append({'Word':n, 'Cosine_similarity_with_religion':cosine_similarity_score}, ignore_index=True)\n",
    "    else:\n",
    "        printp('One or all the words in %s do not exists in the mapping dictionary. Check if the words are correctly spelled'%n)\n",
    "print('\\n\\n')\n",
    "printp('List of names and their similarities with constructed vector religion:')\n",
    "display(df)"
   ]
  },
  {
   "cell_type": "markdown",
   "metadata": {},
   "source": [
    "<div style=\"background-color:#B5C689\"  class=\"alert alert-block alert-info\">\n",
    "<p style=\"color:#0C374D; fontsize:80px\">\n",
    "Observation - <br>\n",
    "From above results we can see that 'john' is more closer to 'christian' whereas 'rahul' is more closer to 'atheist'. This is not always true in real world scenarios and can thus be considered as biased. Let's equlize 'christian' and 'atheist' around religion.\n",
    "</p>\n",
    "</div>"
   ]
  },
  {
   "cell_type": "code",
   "execution_count": 31,
   "metadata": {},
   "outputs": [
    {
     "data": {
      "text/markdown": [
       "<p style='color:firebrick;font-weight:bold;font-family:verdana'>FOR christian AND atheist</p>"
      ],
      "text/plain": [
       "<IPython.core.display.Markdown object>"
      ]
     },
     "metadata": {},
     "output_type": "display_data"
    },
    {
     "data": {
      "text/markdown": [
       "<p style='color:firebrick;font-weight:bold;font-family:verdana'>before equalizing:</p>"
      ],
      "text/plain": [
       "<IPython.core.display.Markdown object>"
      ]
     },
     "metadata": {},
     "output_type": "display_data"
    },
    {
     "data": {
      "text/markdown": [
       "<p style='color:green;font-weight:bold;font-family:monaco'>cosine_similarity(christian, religion) = 0.5872275887463786</p>"
      ],
      "text/plain": [
       "<IPython.core.display.Markdown object>"
      ]
     },
     "metadata": {},
     "output_type": "display_data"
    },
    {
     "data": {
      "text/markdown": [
       "<p style='color:green;font-weight:bold;font-family:monaco'>cosine_similarity(atheist, religion) = -0.4623048412507701 </p>"
      ],
      "text/plain": [
       "<IPython.core.display.Markdown object>"
      ]
     },
     "metadata": {},
     "output_type": "display_data"
    },
    {
     "data": {
      "text/markdown": [
       "<p style='color:firebrick;font-weight:bold;font-family:verdana'>after equalizing:</p>"
      ],
      "text/plain": [
       "<IPython.core.display.Markdown object>"
      ]
     },
     "metadata": {},
     "output_type": "display_data"
    },
    {
     "data": {
      "text/markdown": [
       "<p style='color:green;font-weight:bold;font-family:monaco'>cosine_similarity(christian_equalized, religion) = -0.7668560263802137</p>"
      ],
      "text/plain": [
       "<IPython.core.display.Markdown object>"
      ]
     },
     "metadata": {},
     "output_type": "display_data"
    },
    {
     "data": {
      "text/markdown": [
       "<p style='color:green;font-weight:bold;font-family:monaco'>cosine_similarity(atheist_equalized, religion) = -0.7668560263802137</p>"
      ],
      "text/plain": [
       "<IPython.core.display.Markdown object>"
      ]
     },
     "metadata": {},
     "output_type": "display_data"
    },
    {
     "name": "stdout",
     "output_type": "stream",
     "text": [
      "\n",
      "\n"
     ]
    }
   ],
   "source": [
    "dictwords = {'christian':'atheist'}\n",
    "for k in dictwords.keys():\n",
    "    m = k\n",
    "    w = dictwords[k]\n",
    "    if checkIfWordExistsInDictionary(m) and checkIfWordExistsInDictionary(w):\n",
    "        printp('FOR %s AND %s'%(m,w))\n",
    "        printp(\"before equalizing:\")\n",
    "\n",
    "        manager = cosine_similarity(word_to_vec_map[m], religion)\n",
    "        printg(\"cosine_similarity(\"+m+\", religion) = %s\"%str(manager))\n",
    "\n",
    "        assit = cosine_similarity(word_to_vec_map[w], religion)\n",
    "        printg(\"cosine_similarity(\"+w+\", religion) = %s \"%str(assit))\n",
    "\n",
    "        e1, e2 = equalize((m, w), religion, word_to_vec_map)                 # Equalizing christian and atheist around religion\n",
    "        printp(\"after equalizing:\")\n",
    "\n",
    "        e1g = cosine_similarity(e1, religion)\n",
    "        printg(\"cosine_similarity(\"+m+\"_equalized, religion) = %s\"%str(e1g))\n",
    "\n",
    "        e2g = cosine_similarity(e2, religion)\n",
    "        printg(\"cosine_similarity(\"+w+\"_equalized, religion) = %s\"%str(e2g))\n",
    "        print('\\n')\n",
    "    else:\n",
    "        printp('One or all the words in %s %s do not exists in the mapping dictionary. Check if the words are correctly spelled'%(m,w))\n",
    "        print('\\n')"
   ]
  },
  {
   "cell_type": "markdown",
   "metadata": {},
   "source": [
    "<div style=\"background-color:#B5C689\"  class=\"alert alert-block alert-info\">\n",
    "<p style=\"color:#0C374D; fontsize:80px\">\n",
    "Now, let's see if rahul is equidistance from christian and atheist\n",
    "</p>\n",
    "</div>"
   ]
  },
  {
   "cell_type": "code",
   "execution_count": 32,
   "metadata": {
    "scrolled": true
   },
   "outputs": [
    {
     "data": {
      "text/markdown": [
       "<p style='color:firebrick;font-weight:bold;font-family:verdana'>before equalizing:</p>"
      ],
      "text/plain": [
       "<IPython.core.display.Markdown object>"
      ]
     },
     "metadata": {},
     "output_type": "display_data"
    },
    {
     "data": {
      "text/markdown": [
       "<p style='color:green;font-weight:bold;font-family:monaco'>cosine_similarity(christian, rahul) = 0.02795644159168636</p>"
      ],
      "text/plain": [
       "<IPython.core.display.Markdown object>"
      ]
     },
     "metadata": {},
     "output_type": "display_data"
    },
    {
     "data": {
      "text/markdown": [
       "<p style='color:green;font-weight:bold;font-family:monaco'>cosine_similarity(atheist, rahul) = 0.038799801860380304 </p>"
      ],
      "text/plain": [
       "<IPython.core.display.Markdown object>"
      ]
     },
     "metadata": {},
     "output_type": "display_data"
    },
    {
     "data": {
      "text/markdown": [
       "<p style='color:firebrick;font-weight:bold;font-family:verdana'>after equalizing:</p>"
      ],
      "text/plain": [
       "<IPython.core.display.Markdown object>"
      ]
     },
     "metadata": {},
     "output_type": "display_data"
    },
    {
     "data": {
      "text/markdown": [
       "<p style='color:green;font-weight:bold;font-family:monaco'>cosine_similarity(christian, rahul) = 0.03127916471614878</p>"
      ],
      "text/plain": [
       "<IPython.core.display.Markdown object>"
      ]
     },
     "metadata": {},
     "output_type": "display_data"
    },
    {
     "data": {
      "text/markdown": [
       "<p style='color:green;font-weight:bold;font-family:monaco'>cosine_similarity(atheist, rahul) = 0.03127916471614876 </p>"
      ],
      "text/plain": [
       "<IPython.core.display.Markdown object>"
      ]
     },
     "metadata": {},
     "output_type": "display_data"
    }
   ],
   "source": [
    "m = 'christian'\n",
    "w = 'atheist'\n",
    "r = 'rahul'\n",
    "if checkIfWordExistsInDictionary(m) and checkIfWordExistsInDictionary(w) and checkIfWordExistsInDictionary(r):\n",
    "    printp(\"before equalizing:\")\n",
    "    mr = cosine_similarity(word_to_vec_map[m], word_to_vec_map[r])\n",
    "    printg(\"cosine_similarity(\"+m+\", rahul) = %s\"%str(mr))\n",
    "\n",
    "    woman = cosine_similarity(word_to_vec_map[w], word_to_vec_map[r])\n",
    "    printg(\"cosine_similarity(\"+w+\", rahul) = %s \"%str(woman))\n",
    "\n",
    "    e1, e2 = equalize((m, w), religion, word_to_vec_map)                 # Equalizing christian and atheist around religion\n",
    "    printp(\"after equalizing:\")\n",
    "    mr = cosine_similarity(e1, word_to_vec_map[r])\n",
    "    printg(\"cosine_similarity(\"+m+\", rahul) = %s\"%str(mr))\n",
    "\n",
    "    woman = cosine_similarity(e2, word_to_vec_map[r])\n",
    "    printg(\"cosine_similarity(\"+w+\", rahul) = %s \"%str(woman))\n",
    "else:\n",
    "    printp('One or all the words in %s %s do not exists in the mapping dictionary. Check if the words are correctly spelled'%(m,w))"
   ]
  },
  {
   "cell_type": "markdown",
   "metadata": {},
   "source": [
    "<br>"
   ]
  },
  {
   "cell_type": "markdown",
   "metadata": {
    "collapsed": true
   },
   "source": [
    "Please feel free to play with the input words in the cell above, to apply equalization to other pairs of words. \n",
    "\n",
    "These debiasing algorithms are very helpful for reducing bias, but are not perfect and do not eliminate all traces of bias. For example, one weakness of this implementation was that the bias direction $g$ was defined using only the pair of words _woman_ and _man_. As discussed earlier, if $g$ were defined by computing $g_1 = e_{woman} - e_{man}$; $g_2 = e_{mother} - e_{father}$; $g_3 = e_{girl} - e_{boy}$; and so on and averaging over them, you would obtain a better estimate of the \"gender\" dimension in the 50 dimensional word embedding space. Feel free to play with such variants as well.  \n",
    "                     "
   ]
  },
  {
   "cell_type": "markdown",
   "metadata": {},
   "source": [
    "# Congratulations!\n",
    "\n",
    "You've come to the end of this assignment, and have seen a lot of the ways that word vectors can be used as well as  modified. Here are the main points you should remember:\n",
    "\n",
    "- Cosine similarity a good way to compare similarity between pairs of word vectors. (Though L2 distance works too.) \n",
    "- For NLP applications, using a pre-trained set of word vectors from the internet is often a good way to get started. \n",
    "- Bias in data is an important problem.\n",
    "- Neutralize and equalize allow to reduce bias in the data.\n",
    "\n",
    "Congratulations on finishing this notebook! \n",
    "\n"
   ]
  },
  {
   "cell_type": "markdown",
   "metadata": {},
   "source": [
    "# References\n",
    "- The debiasing algorithm is from Bolukbasi et al., 2016, [Man is to Computer Programmer as Woman is to\n",
    "Homemaker? Debiasing Word Embeddings](https://papers.nips.cc/paper/6228-man-is-to-computer-programmer-as-woman-is-to-homemaker-debiasing-word-embeddings.pdf)\n",
    "- The GloVe word embeddings were due to Jeffrey Pennington, Richard Socher, and Christopher D. Manning. (https://nlp.stanford.edu/projects/glove/)\n"
   ]
  }
 ],
 "metadata": {
  "coursera": {
   "course_slug": "nlp-sequence-models",
   "graded_item_id": "8hb5s",
   "launcher_item_id": "5NrJ6"
  },
  "kernelspec": {
   "display_name": "Python 3",
   "language": "python",
   "name": "python3"
  },
  "language_info": {
   "codemirror_mode": {
    "name": "ipython",
    "version": 3
   },
   "file_extension": ".py",
   "mimetype": "text/x-python",
   "name": "python",
   "nbconvert_exporter": "python",
   "pygments_lexer": "ipython3",
   "version": "3.7.6"
  }
 },
 "nbformat": 4,
 "nbformat_minor": 2
}
