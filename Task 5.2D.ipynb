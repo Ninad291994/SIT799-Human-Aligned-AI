{
 "cells": [
  {
   "cell_type": "markdown",
   "metadata": {
    "colab_type": "text",
    "id": "xPUjp1Gon49a"
   },
   "source": [
    "GitHub: https://github.com/MYUSER/MYPROJECT/"
   ]
  },
  {
   "cell_type": "markdown",
   "metadata": {
    "colab_type": "text",
    "id": "REwNDNz8n49f"
   },
   "source": [
    "\n",
    "Welcome to your assignment this week! \n",
    "\n",
    "To better understand the adverse use of AI, in this assignment, we will look at a Natural Language Processing use case.\n",
    "\n",
    "\n",
    "Natural Language Pocessing (NLP) is a branch of Artificial Intelligence (AI) that helps computers to understand, to interpret and to manipulate natural (i.e. human) language.\n",
    "Imagine NLP-powered machines as black boxes that are capable of understanding and evaluating the context of the input documents (i.e. collection of words), outputting meaningful results that depend on the task the machine is designed for.\n",
    "\n",
    "\n",
    "![](imgs/1_3zMvUnPzYZF9CSHdj6hT5A.png)\n",
    "\n",
    "<caption><center> Documents are fed into magic NLP model capable to get, for instance, the sentiment of the original content</center></caption>\n",
    "\n",
    "\n",
    "In this notebook, you will implement a model that uses an LSTM to generate fake tweets and comments. You will also be able to try it to generate your own fake text. \n",
    "\n",
    "**You will learn to:**\n",
    "- Apply an LSTM to generate fake comments.\n",
    "- Generate your own fake text with deep learning.\n",
    "\n",
    "Please run the following cell to load all the packages required in this assignment. This may take a few minutes. \n"
   ]
  },
  {
   "cell_type": "code",
   "execution_count": 1,
   "metadata": {
    "colab": {},
    "colab_type": "code",
    "id": "p4dMhfnDn49i"
   },
   "outputs": [],
   "source": [
    "#!pip install numpy\n",
    "#!pip install keras\n",
    "#!pip install tensorflow"
   ]
  },
  {
   "cell_type": "markdown",
   "metadata": {
    "colab_type": "text",
    "id": "5jsz0I2Yn494"
   },
   "source": [
    "Run the following cell to load the packages you will need."
   ]
  },
  {
   "cell_type": "code",
   "execution_count": 2,
   "metadata": {
    "colab": {},
    "colab_type": "code",
    "id": "21HQSzyRn497"
   },
   "outputs": [],
   "source": [
    "import time\n",
    "from tensorflow.keras.preprocessing.sequence import pad_sequences\n",
    "from tensorflow.keras.layers import Embedding, LSTM, Dense, Dropout, Bidirectional\n",
    "from tensorflow.keras.preprocessing.text import Tokenizer\n",
    "from tensorflow.keras.models import Sequential\n",
    "from tensorflow.keras.optimizers import Adam\n",
    "from tensorflow.keras import regularizers\n",
    "import tensorflow.keras.utils as ku \n",
    "import keras.backend as K\n",
    "import matplotlib.pyplot as plt\n",
    "import numpy as np"
   ]
  },
  {
   "cell_type": "markdown",
   "metadata": {
    "colab_type": "text",
    "id": "4qYCYDFRn4-I"
   },
   "source": [
    "# Build the model"
   ]
  },
  {
   "cell_type": "markdown",
   "metadata": {
    "colab_type": "text",
    "id": "pFqQZGGln4-K"
   },
   "source": [
    "Let's define a tokenizer and read the data from disk."
   ]
  },
  {
   "cell_type": "code",
   "execution_count": 3,
   "metadata": {
    "colab": {},
    "colab_type": "code",
    "id": "XGNJxCFQn4-N"
   },
   "outputs": [],
   "source": [
    "tokenizer = Tokenizer(filters='\"#$%&()*+-/:;<=>@[\\\\]^_`{|}~\\t\\n')\n",
    "data = open('covid19_fake.txt').read().replace(\".\", \" . \").replace(\",\", \" , \").replace(\"?\", \" ? \").replace(\"!\", \" ! \")"
   ]
  },
  {
   "cell_type": "markdown",
   "metadata": {
    "colab_type": "text",
    "id": "B90vwHi4n4-Z"
   },
   "source": [
    "Now, let's splits the data into tweets  where each line of the input file is a fake tweets.\n",
    "\n",
    "We also extract the vocabulary of the data."
   ]
  },
  {
   "cell_type": "code",
   "execution_count": 4,
   "metadata": {
    "colab": {},
    "colab_type": "code",
    "id": "NpMa3rqjn4-c"
   },
   "outputs": [],
   "source": [
    "corpus = data.lower().split(\"\\n\")\n",
    "tokenizer.fit_on_texts(corpus)\n",
    "total_words = len(tokenizer.word_index) + 1"
   ]
  },
  {
   "cell_type": "markdown",
   "metadata": {
    "colab_type": "text",
    "id": "-Qy083lcn4-m"
   },
   "source": [
    "You've loaded:\n",
    "- `corpus`: an array where each entry is a fake post.\n",
    "- `tokenizer`: which is the object that we will use to vectorize our dataset. This object also contains our word index.\n",
    "- `total_words`: is the total number of words in the vacabulary.\n"
   ]
  },
  {
   "cell_type": "code",
   "execution_count": 5,
   "metadata": {
    "colab": {
     "base_uri": "https://localhost:8080/",
     "height": 90
    },
    "colab_type": "code",
    "id": "iNU2AVcQn4-n",
    "outputId": "f3d689e3-c9df-483b-a416-941cc58fb208"
   },
   "outputs": [
    {
     "name": "stdout",
     "output_type": "stream",
     "text": [
      "Example of fake tweets:  ['there is already a vaccine to treat covid19 . ', 'cleaning hands do not help to prevent covid19 . ']\n",
      "Size of the vocabulary =  1257\n",
      "Example of our word index =  [('.', 1), ('the', 2), ('covid19', 3), ('in', 4), ('to', 5), ('a', 6), ('of', 7), (',', 8), ('coronavirus', 9), ('and', 10)]\n"
     ]
    }
   ],
   "source": [
    "print(\"Example of fake tweets: \",corpus[:2])\n",
    "print(\"Size of the vocabulary = \", total_words)\n",
    "index = [(k, v) for k, v in tokenizer.word_index.items()]\n",
    "print(\"Example of our word index = \", index[0:10])"
   ]
  },
  {
   "cell_type": "markdown",
   "metadata": {
    "colab_type": "text",
    "id": "trchTs2Dn4-u"
   },
   "source": [
    "The next step aims to generate the training set of n_grams sequences."
   ]
  },
  {
   "cell_type": "code",
   "execution_count": 6,
   "metadata": {
    "colab": {},
    "colab_type": "code",
    "id": "r3OC9CHGn4-v"
   },
   "outputs": [],
   "source": [
    "input_sequences = []\n",
    "for line in corpus:\n",
    "    token_list = tokenizer.texts_to_sequences([line])[0]\n",
    "    for i in range(1, len(token_list)):\n",
    "        n_gram_sequence = token_list[:i+1]\n",
    "        input_sequences.append(n_gram_sequence)"
   ]
  },
  {
   "cell_type": "markdown",
   "metadata": {
    "colab_type": "text",
    "id": "eZtI8pZLn4-1"
   },
   "source": [
    "You've create:\n",
    "- `input_sequences`: which is a list of n_grams sequences."
   ]
  },
  {
   "cell_type": "code",
   "execution_count": 7,
   "metadata": {
    "colab": {
     "base_uri": "https://localhost:8080/",
     "height": 87
    },
    "colab_type": "code",
    "id": "Cs4PN-jln4-2",
    "outputId": "0530f2f5-3eb3-4bbd-8b6d-97953089b779"
   },
   "outputs": [
    {
     "name": "stdout",
     "output_type": "stream",
     "text": [
      "The entry  20  in 'input_sequences' is: \n",
      "[2, 3, 12, 187, 34, 188]\n",
      " and it corresponds to:\n",
      "the covid19 is same as sars "
     ]
    }
   ],
   "source": [
    "sample = 20\n",
    "reverse_word_map = dict(map(reversed, tokenizer.word_index.items()))\n",
    "print(\"The entry \",sample,\" in 'input_sequences' is: \")\n",
    "print(input_sequences[sample])\n",
    "print(\" and it corresponds to:\")\n",
    "for i in input_sequences[sample]:\n",
    "    print(reverse_word_map[i], end=' ')\n",
    "                        "
   ]
  },
  {
   "cell_type": "markdown",
   "metadata": {
    "colab_type": "text",
    "id": "R-8XcNFZn4-6"
   },
   "source": [
    "Next, we padd our training set to the max length in order to be able to make a batch processing."
   ]
  },
  {
   "cell_type": "code",
   "execution_count": 8,
   "metadata": {
    "colab": {},
    "colab_type": "code",
    "id": "-kZh492ln4-7"
   },
   "outputs": [],
   "source": [
    "max_sequence_len = max([len(x) for x in input_sequences])\n",
    "input_sequences = np.array(pad_sequences(input_sequences, maxlen=max_sequence_len, padding='pre'))"
   ]
  },
  {
   "cell_type": "markdown",
   "metadata": {
    "colab_type": "text",
    "id": "YbC8Fh7tn4--"
   },
   "source": [
    "Run the following to see the containt of the padded 'input_sequences' object."
   ]
  },
  {
   "cell_type": "code",
   "execution_count": 9,
   "metadata": {
    "colab": {
     "base_uri": "https://localhost:8080/",
     "height": 161
    },
    "colab_type": "code",
    "id": "K6NaKgDEn4-_",
    "outputId": "565f100e-5773-4b06-c5cf-eb2750871f05"
   },
   "outputs": [
    {
     "name": "stdout",
     "output_type": "stream",
     "text": [
      "The entry  20  in 'input_sequences' is: \n",
      "[  0   0   0   0   0   0   0   0   0   0   0   0   0   0   0   0   0   0\n",
      "   0   0   0   0   0   0   0   0   0   0   0   0   0   0   0   0   0   0\n",
      "   0   0   0   0   0   0   0   0   0   0   0   0   0   0   0   0   0   0\n",
      "   0   2   3  12 187  34 188]\n",
      " and it corresponds to:\n",
      "[ __ __ __ __ __ __ __ __ __ __ __ __ __ __ __ __ __ __ __ __ __ __ __ __ __ __ __ __ __ __ __ __ __ __ __ __ __ __ __ __ __ __ __ __ __ __ __ __ __ __ __ __ __ __ __ the covid19 is same as sars ]\n"
     ]
    }
   ],
   "source": [
    "reverse_word_map = dict(map(reversed, tokenizer.word_index.items()))\n",
    "print(\"The entry \",sample,\" in 'input_sequences' is: \")\n",
    "print(input_sequences[sample])\n",
    "print(\" and it corresponds to:\")\n",
    "print(\"[\", end=' ')\n",
    "for i in input_sequences[sample]:\n",
    "    if i in reverse_word_map:\n",
    "        print(reverse_word_map[i], end=' ')\n",
    "    else:\n",
    "        print(\"__\", end=' ')\n",
    "print(\"]\")\n",
    "                "
   ]
  },
  {
   "cell_type": "markdown",
   "metadata": {
    "colab_type": "text",
    "id": "9VhsMw8Gn4_E"
   },
   "source": [
    "Given a sentence like **\"the covid19 is same as \"**, we want to design a model that can predict the next word -- in the case the word **\"sars\"**.\n",
    "\n",
    "Therefore, the next code prepares our input and output to our model consequently."
   ]
  },
  {
   "cell_type": "code",
   "execution_count": 10,
   "metadata": {
    "colab": {},
    "colab_type": "code",
    "id": "CCoycSmEn4_F"
   },
   "outputs": [],
   "source": [
    "input_to_model, label = input_sequences[:,:-1],input_sequences[:,-1]\n"
   ]
  },
  {
   "cell_type": "code",
   "execution_count": 11,
   "metadata": {
    "colab": {
     "base_uri": "https://localhost:8080/",
     "height": 212
    },
    "colab_type": "code",
    "id": "M8expSVVn4_I",
    "outputId": "1654aa45-6e75-473b-d4c3-37c89a09f6d6"
   },
   "outputs": [
    {
     "name": "stdout",
     "output_type": "stream",
     "text": [
      "The entry  20  in 'input_sequences' is: \n",
      "[  0   0   0   0   0   0   0   0   0   0   0   0   0   0   0   0   0   0\n",
      "   0   0   0   0   0   0   0   0   0   0   0   0   0   0   0   0   0   0\n",
      "   0   0   0   0   0   0   0   0   0   0   0   0   0   0   0   0   0   0\n",
      "   0   2   3  12 187  34 188]\n",
      ", it corresponds to the following input to our model:\n",
      "[  0   0   0   0   0   0   0   0   0   0   0   0   0   0   0   0   0   0\n",
      "   0   0   0   0   0   0   0   0   0   0   0   0   0   0   0   0   0   0\n",
      "   0   0   0   0   0   0   0   0   0   0   0   0   0   0   0   0   0   0\n",
      "   0   2   3  12 187  34]\n",
      " and the following output:  188\n"
     ]
    }
   ],
   "source": [
    "print(\"The entry \",sample,\" in 'input_sequences' is: \")\n",
    "print(input_sequences[sample])\n",
    "print(\", it corresponds to the following input to our model:\")\n",
    "print(input_to_model[sample])\n",
    "print(\" and the following output: \", label[sample])\n"
   ]
  },
  {
   "cell_type": "markdown",
   "metadata": {
    "colab_type": "text",
    "id": "am241lMfn4_L"
   },
   "source": [
    "Finally, we convert our label to categorical labels for being processed by our model."
   ]
  },
  {
   "cell_type": "code",
   "execution_count": 12,
   "metadata": {
    "colab": {},
    "colab_type": "code",
    "id": "quOXCZidn4_L"
   },
   "outputs": [],
   "source": [
    "label = ku.to_categorical(label, num_classes=total_words)"
   ]
  },
  {
   "cell_type": "markdown",
   "metadata": {
    "colab_type": "text",
    "id": "ubli_WVKn4_N"
   },
   "source": [
    "Here is the architecture of the model we will use:\n",
    "\n",
    "![](imgs/text_generation.png)\n",
    "\n"
   ]
  },
  {
   "cell_type": "markdown",
   "metadata": {
    "colab_type": "text",
    "id": "V9E8Vkdsn4_O"
   },
   "source": [
    " \n",
    "**Task 1**: Implement `deep_fake_comment_model()`. You will need to carry out 5 steps:\n",
    "\n",
    "1. Create a sequencial model using the `Sequential` class\n",
    "2. Add an embedding layer to the model using the `Embedding` class of size 128\n",
    "3. Add an LSTM layer to the model using the `LSTM` class of size 128\n",
    "4. Add a Dense layer to the model using the `Dense` class with a `softmax` activation\n",
    "5. Set a `categorical_crossentropy` loss function to the model and optimize `accuracy`.\n"
   ]
  },
  {
   "cell_type": "code",
   "execution_count": 13,
   "metadata": {
    "colab": {},
    "colab_type": "code",
    "id": "1wN8JoWDn4_P"
   },
   "outputs": [],
   "source": [
    "#TASK 1\n",
    "# deep_fake_comment_model\n",
    "size = 128\n",
    "def deep_fake_comment_model():\n",
    "    ### START CODE HERE ### \n",
    "    model = Sequential()\n",
    "    model.add(Embedding(1257, size, input_length=60))\n",
    "    model.add(LSTM(size))\n",
    "    model.add(Dropout(0.2))\n",
    "    model.add(Dense(1257, activation='softmax'))\n",
    "    model.compile(optimizer='adam', loss='categorical_crossentropy', metrics=['accuracy'])\n",
    "    return model\n",
    "    ### END CODE HERE ### \n",
    "    \n",
    "#Print details of the model.\n",
    "model = deep_fake_comment_model()\n"
   ]
  },
  {
   "cell_type": "markdown",
   "metadata": {
    "colab_type": "text",
    "id": "WROAEd7fn4_R"
   },
   "source": [
    "Now, let's start our training."
   ]
  },
  {
   "cell_type": "code",
   "execution_count": 14,
   "metadata": {
    "colab": {
     "base_uri": "https://localhost:8080/",
     "height": 1000
    },
    "colab_type": "code",
    "id": "oz9wmvGZn4_R",
    "outputId": "722d947a-f008-4e40-d629-894bd07d723d"
   },
   "outputs": [
    {
     "name": "stdout",
     "output_type": "stream",
     "text": [
      "Epoch 1/200\n",
      "126/126 [==============================] - 1s 10ms/step - loss: 6.3508 - accuracy: 0.0695\n",
      "Epoch 2/200\n",
      "126/126 [==============================] - 1s 9ms/step - loss: 5.8868 - accuracy: 0.0759\n",
      "Epoch 3/200\n",
      "126/126 [==============================] - 1s 8ms/step - loss: 5.7512 - accuracy: 0.0811\n",
      "Epoch 4/200\n",
      "126/126 [==============================] - 1s 8ms/step - loss: 5.6440 - accuracy: 0.1032\n",
      "Epoch 5/200\n",
      "126/126 [==============================] - 1s 8ms/step - loss: 5.4931 - accuracy: 0.1241\n",
      "Epoch 6/200\n",
      "126/126 [==============================] - 1s 8ms/step - loss: 5.3109 - accuracy: 0.1404\n",
      "Epoch 7/200\n",
      "126/126 [==============================] - 1s 9ms/step - loss: 5.1229 - accuracy: 0.1578\n",
      "Epoch 8/200\n",
      "126/126 [==============================] - 1s 9ms/step - loss: 4.9436 - accuracy: 0.1682\n",
      "Epoch 9/200\n",
      "126/126 [==============================] - 1s 9ms/step - loss: 4.7736 - accuracy: 0.1821\n",
      "Epoch 10/200\n",
      "126/126 [==============================] - 1s 9ms/step - loss: 4.6009 - accuracy: 0.1940\n",
      "Epoch 11/200\n",
      "126/126 [==============================] - 1s 9ms/step - loss: 4.4358 - accuracy: 0.2057\n",
      "Epoch 12/200\n",
      "126/126 [==============================] - 1s 9ms/step - loss: 4.2865 - accuracy: 0.2097\n",
      "Epoch 13/200\n",
      "126/126 [==============================] - 1s 9ms/step - loss: 4.1190 - accuracy: 0.2243\n",
      "Epoch 14/200\n",
      "126/126 [==============================] - 1s 9ms/step - loss: 3.9686 - accuracy: 0.2432\n",
      "Epoch 15/200\n",
      "126/126 [==============================] - 1s 9ms/step - loss: 3.8318 - accuracy: 0.2538\n",
      "Epoch 16/200\n",
      "126/126 [==============================] - 1s 9ms/step - loss: 3.6768 - accuracy: 0.2730\n",
      "Epoch 17/200\n",
      "126/126 [==============================] - 1s 9ms/step - loss: 3.5424 - accuracy: 0.2958\n",
      "Epoch 18/200\n",
      "126/126 [==============================] - 1s 9ms/step - loss: 3.4023 - accuracy: 0.3114\n",
      "Epoch 19/200\n",
      "126/126 [==============================] - 1s 9ms/step - loss: 3.2651 - accuracy: 0.3313\n",
      "Epoch 20/200\n",
      "126/126 [==============================] - 1s 9ms/step - loss: 3.1151 - accuracy: 0.3499\n",
      "Epoch 21/200\n",
      "126/126 [==============================] - 1s 8ms/step - loss: 2.9814 - accuracy: 0.3747\n",
      "Epoch 22/200\n",
      "126/126 [==============================] - 1s 8ms/step - loss: 2.8607 - accuracy: 0.3913\n",
      "Epoch 23/200\n",
      "126/126 [==============================] - 1s 8ms/step - loss: 2.7332 - accuracy: 0.4208\n",
      "Epoch 24/200\n",
      "126/126 [==============================] - 1s 8ms/step - loss: 2.5996 - accuracy: 0.4427\n",
      "Epoch 25/200\n",
      "126/126 [==============================] - 1s 9ms/step - loss: 2.4733 - accuracy: 0.4784\n",
      "Epoch 26/200\n",
      "126/126 [==============================] - 1s 9ms/step - loss: 2.3626 - accuracy: 0.5027\n",
      "Epoch 27/200\n",
      "126/126 [==============================] - 1s 9ms/step - loss: 2.2453 - accuracy: 0.5186\n",
      "Epoch 28/200\n",
      "126/126 [==============================] - 1s 9ms/step - loss: 2.1253 - accuracy: 0.5556\n",
      "Epoch 29/200\n",
      "126/126 [==============================] - 1s 9ms/step - loss: 2.0232 - accuracy: 0.5821\n",
      "Epoch 30/200\n",
      "126/126 [==============================] - 1s 9ms/step - loss: 1.9060 - accuracy: 0.6127\n",
      "Epoch 31/200\n",
      "126/126 [==============================] - 1s 9ms/step - loss: 1.8227 - accuracy: 0.6303\n",
      "Epoch 32/200\n",
      "126/126 [==============================] - 1s 9ms/step - loss: 1.7287 - accuracy: 0.6531\n",
      "Epoch 33/200\n",
      "126/126 [==============================] - 1s 9ms/step - loss: 1.6393 - accuracy: 0.6635\n",
      "Epoch 34/200\n",
      "126/126 [==============================] - 1s 9ms/step - loss: 1.5468 - accuracy: 0.7030\n",
      "Epoch 35/200\n",
      "126/126 [==============================] - 1s 9ms/step - loss: 1.4674 - accuracy: 0.7065\n",
      "Epoch 36/200\n",
      "126/126 [==============================] - 1s 9ms/step - loss: 1.3873 - accuracy: 0.7328\n",
      "Epoch 37/200\n",
      "126/126 [==============================] - 1s 9ms/step - loss: 1.3313 - accuracy: 0.7434\n",
      "Epoch 38/200\n",
      "126/126 [==============================] - 1s 9ms/step - loss: 1.2401 - accuracy: 0.7638\n",
      "Epoch 39/200\n",
      "126/126 [==============================] - 1s 9ms/step - loss: 1.1855 - accuracy: 0.7737\n",
      "Epoch 40/200\n",
      "126/126 [==============================] - 1s 9ms/step - loss: 1.1217 - accuracy: 0.7831\n",
      "Epoch 41/200\n",
      "126/126 [==============================] - 1s 9ms/step - loss: 1.0793 - accuracy: 0.7950\n",
      "Epoch 42/200\n",
      "126/126 [==============================] - 1s 9ms/step - loss: 1.0340 - accuracy: 0.8040\n",
      "Epoch 43/200\n",
      "126/126 [==============================] - 1s 9ms/step - loss: 0.9812 - accuracy: 0.8134\n",
      "Epoch 44/200\n",
      "126/126 [==============================] - 1s 9ms/step - loss: 0.9274 - accuracy: 0.8208\n",
      "Epoch 45/200\n",
      "126/126 [==============================] - 1s 8ms/step - loss: 0.8923 - accuracy: 0.8337\n",
      "Epoch 46/200\n",
      "126/126 [==============================] - 1s 9ms/step - loss: 0.8528 - accuracy: 0.8380\n",
      "Epoch 47/200\n",
      "126/126 [==============================] - 1s 9ms/step - loss: 0.8166 - accuracy: 0.8474\n",
      "Epoch 48/200\n",
      "126/126 [==============================] - 1s 9ms/step - loss: 0.7811 - accuracy: 0.8479\n",
      "Epoch 49/200\n",
      "126/126 [==============================] - 1s 9ms/step - loss: 0.7414 - accuracy: 0.8563\n",
      "Epoch 50/200\n",
      "126/126 [==============================] - 1s 9ms/step - loss: 0.7058 - accuracy: 0.8658\n",
      "Epoch 51/200\n",
      "126/126 [==============================] - 1s 9ms/step - loss: 0.6923 - accuracy: 0.8655\n",
      "Epoch 52/200\n",
      "126/126 [==============================] - 1s 9ms/step - loss: 0.6691 - accuracy: 0.8705\n",
      "Epoch 53/200\n",
      "126/126 [==============================] - 1s 9ms/step - loss: 0.6239 - accuracy: 0.8811\n",
      "Epoch 54/200\n",
      "126/126 [==============================] - 1s 9ms/step - loss: 0.6034 - accuracy: 0.8859\n",
      "Epoch 55/200\n",
      "126/126 [==============================] - 1s 9ms/step - loss: 0.5842 - accuracy: 0.8849\n",
      "Epoch 56/200\n",
      "126/126 [==============================] - 1s 9ms/step - loss: 0.5558 - accuracy: 0.8918\n",
      "Epoch 57/200\n",
      "126/126 [==============================] - 1s 9ms/step - loss: 0.5335 - accuracy: 0.8995\n",
      "Epoch 58/200\n",
      "126/126 [==============================] - 1s 9ms/step - loss: 0.5149 - accuracy: 0.9017\n",
      "Epoch 59/200\n",
      "126/126 [==============================] - 1s 9ms/step - loss: 0.5042 - accuracy: 0.9022\n",
      "Epoch 60/200\n",
      "126/126 [==============================] - 1s 8ms/step - loss: 0.4795 - accuracy: 0.9022\n",
      "Epoch 61/200\n",
      "126/126 [==============================] - 1s 8ms/step - loss: 0.4706 - accuracy: 0.9022\n",
      "Epoch 62/200\n",
      "126/126 [==============================] - 1s 8ms/step - loss: 0.4502 - accuracy: 0.9079\n",
      "Epoch 63/200\n",
      "126/126 [==============================] - 1s 8ms/step - loss: 0.4395 - accuracy: 0.9112\n",
      "Epoch 64/200\n",
      "126/126 [==============================] - 1s 8ms/step - loss: 0.4236 - accuracy: 0.9102\n",
      "Epoch 65/200\n",
      "126/126 [==============================] - 1s 8ms/step - loss: 0.4063 - accuracy: 0.9146\n",
      "Epoch 66/200\n",
      "126/126 [==============================] - 1s 8ms/step - loss: 0.3944 - accuracy: 0.9159\n",
      "Epoch 67/200\n",
      "126/126 [==============================] - 1s 8ms/step - loss: 0.3877 - accuracy: 0.9189\n",
      "Epoch 68/200\n",
      "126/126 [==============================] - 1s 8ms/step - loss: 0.3782 - accuracy: 0.9208\n",
      "Epoch 69/200\n",
      "126/126 [==============================] - 1s 8ms/step - loss: 0.3672 - accuracy: 0.9248\n",
      "Epoch 70/200\n",
      "126/126 [==============================] - 1s 8ms/step - loss: 0.3527 - accuracy: 0.9273\n",
      "Epoch 71/200\n",
      "126/126 [==============================] - 1s 9ms/step - loss: 0.3425 - accuracy: 0.9268\n",
      "Epoch 72/200\n",
      "126/126 [==============================] - 1s 8ms/step - loss: 0.3302 - accuracy: 0.9280\n",
      "Epoch 73/200\n",
      "126/126 [==============================] - 1s 8ms/step - loss: 0.3261 - accuracy: 0.9315\n",
      "Epoch 74/200\n",
      "126/126 [==============================] - 1s 8ms/step - loss: 0.3110 - accuracy: 0.9305\n",
      "Epoch 75/200\n",
      "126/126 [==============================] - 1s 9ms/step - loss: 0.3146 - accuracy: 0.9298\n",
      "Epoch 76/200\n",
      "126/126 [==============================] - 1s 8ms/step - loss: 0.3120 - accuracy: 0.9290\n",
      "Epoch 77/200\n",
      "126/126 [==============================] - 1s 8ms/step - loss: 0.2982 - accuracy: 0.9300\n",
      "Epoch 78/200\n",
      "126/126 [==============================] - 1s 8ms/step - loss: 0.2878 - accuracy: 0.9337\n",
      "Epoch 79/200\n",
      "126/126 [==============================] - 1s 8ms/step - loss: 0.2879 - accuracy: 0.9308\n",
      "Epoch 80/200\n",
      "126/126 [==============================] - 1s 9ms/step - loss: 0.2810 - accuracy: 0.9377\n",
      "Epoch 81/200\n",
      "126/126 [==============================] - 1s 9ms/step - loss: 0.2832 - accuracy: 0.9355\n",
      "Epoch 82/200\n",
      "126/126 [==============================] - 1s 9ms/step - loss: 0.2676 - accuracy: 0.9362\n",
      "Epoch 83/200\n",
      "126/126 [==============================] - 1s 9ms/step - loss: 0.2660 - accuracy: 0.9390\n",
      "Epoch 84/200\n",
      "126/126 [==============================] - 1s 9ms/step - loss: 0.2622 - accuracy: 0.9347\n",
      "Epoch 85/200\n",
      "126/126 [==============================] - 1s 8ms/step - loss: 0.2623 - accuracy: 0.9340\n",
      "Epoch 86/200\n",
      "126/126 [==============================] - 1s 9ms/step - loss: 0.2547 - accuracy: 0.9372\n",
      "Epoch 87/200\n",
      "126/126 [==============================] - 1s 9ms/step - loss: 0.2458 - accuracy: 0.9387\n",
      "Epoch 88/200\n",
      "126/126 [==============================] - 1s 9ms/step - loss: 0.2467 - accuracy: 0.9402\n",
      "Epoch 89/200\n",
      "126/126 [==============================] - 1s 8ms/step - loss: 0.2435 - accuracy: 0.9370\n",
      "Epoch 90/200\n",
      "126/126 [==============================] - 1s 8ms/step - loss: 0.2423 - accuracy: 0.9350\n",
      "Epoch 91/200\n",
      "126/126 [==============================] - 1s 8ms/step - loss: 0.2311 - accuracy: 0.9409\n",
      "Epoch 92/200\n",
      "126/126 [==============================] - 1s 8ms/step - loss: 0.2340 - accuracy: 0.9432\n",
      "Epoch 93/200\n",
      "126/126 [==============================] - 1s 8ms/step - loss: 0.2266 - accuracy: 0.9434\n",
      "Epoch 94/200\n",
      "126/126 [==============================] - 1s 8ms/step - loss: 0.2289 - accuracy: 0.9404\n",
      "Epoch 95/200\n",
      "126/126 [==============================] - 1s 8ms/step - loss: 0.2249 - accuracy: 0.9424\n",
      "Epoch 96/200\n",
      "126/126 [==============================] - 1s 8ms/step - loss: 0.2150 - accuracy: 0.9414\n",
      "Epoch 97/200\n",
      "126/126 [==============================] - 1s 9ms/step - loss: 0.2154 - accuracy: 0.9442\n",
      "Epoch 98/200\n",
      "126/126 [==============================] - 1s 8ms/step - loss: 0.2183 - accuracy: 0.9395\n",
      "Epoch 99/200\n",
      "126/126 [==============================] - 1s 8ms/step - loss: 0.2108 - accuracy: 0.9427\n",
      "Epoch 100/200\n",
      "126/126 [==============================] - 1s 9ms/step - loss: 0.2073 - accuracy: 0.9437\n",
      "Epoch 101/200\n",
      "126/126 [==============================] - 1s 8ms/step - loss: 0.2087 - accuracy: 0.9457\n",
      "Epoch 102/200\n",
      "126/126 [==============================] - 1s 9ms/step - loss: 0.2056 - accuracy: 0.9427\n",
      "Epoch 103/200\n",
      "126/126 [==============================] - 1s 8ms/step - loss: 0.1937 - accuracy: 0.9511\n",
      "Epoch 104/200\n",
      "126/126 [==============================] - 1s 9ms/step - loss: 0.2021 - accuracy: 0.9447\n",
      "Epoch 105/200\n",
      "126/126 [==============================] - 1s 8ms/step - loss: 0.1966 - accuracy: 0.9469\n",
      "Epoch 106/200\n",
      "126/126 [==============================] - 1s 8ms/step - loss: 0.1952 - accuracy: 0.9449\n",
      "Epoch 107/200\n",
      "126/126 [==============================] - 1s 8ms/step - loss: 0.1964 - accuracy: 0.9439\n",
      "Epoch 108/200\n",
      "126/126 [==============================] - 1s 8ms/step - loss: 0.1938 - accuracy: 0.9462\n",
      "Epoch 109/200\n",
      "126/126 [==============================] - 1s 9ms/step - loss: 0.1939 - accuracy: 0.9459\n",
      "Epoch 110/200\n",
      "126/126 [==============================] - 1s 8ms/step - loss: 0.1960 - accuracy: 0.9427\n",
      "Epoch 111/200\n",
      "126/126 [==============================] - 1s 8ms/step - loss: 0.1946 - accuracy: 0.9457\n",
      "Epoch 112/200\n",
      "126/126 [==============================] - 1s 8ms/step - loss: 0.1864 - accuracy: 0.9481\n",
      "Epoch 113/200\n",
      "126/126 [==============================] - 1s 8ms/step - loss: 0.1836 - accuracy: 0.9481\n",
      "Epoch 114/200\n",
      "126/126 [==============================] - 1s 8ms/step - loss: 0.1826 - accuracy: 0.9464\n",
      "Epoch 115/200\n",
      "126/126 [==============================] - 1s 8ms/step - loss: 0.1834 - accuracy: 0.9457\n",
      "Epoch 116/200\n",
      "126/126 [==============================] - 1s 8ms/step - loss: 0.1873 - accuracy: 0.9432\n",
      "Epoch 117/200\n",
      "126/126 [==============================] - 1s 8ms/step - loss: 0.1872 - accuracy: 0.9459\n",
      "Epoch 118/200\n",
      "126/126 [==============================] - 1s 9ms/step - loss: 0.1801 - accuracy: 0.9452\n",
      "Epoch 119/200\n",
      "126/126 [==============================] - 1s 9ms/step - loss: 0.1783 - accuracy: 0.9467\n",
      "Epoch 120/200\n",
      "126/126 [==============================] - 1s 9ms/step - loss: 0.1748 - accuracy: 0.9479\n",
      "Epoch 121/200\n",
      "126/126 [==============================] - 1s 9ms/step - loss: 0.1761 - accuracy: 0.9467\n",
      "Epoch 122/200\n",
      "126/126 [==============================] - 1s 9ms/step - loss: 0.1766 - accuracy: 0.9481\n",
      "Epoch 123/200\n",
      "126/126 [==============================] - 1s 9ms/step - loss: 0.1811 - accuracy: 0.9452\n",
      "Epoch 124/200\n",
      "126/126 [==============================] - 1s 9ms/step - loss: 0.1688 - accuracy: 0.9479\n",
      "Epoch 125/200\n",
      "126/126 [==============================] - 1s 9ms/step - loss: 0.1726 - accuracy: 0.9471\n",
      "Epoch 126/200\n",
      "126/126 [==============================] - 1s 9ms/step - loss: 0.1743 - accuracy: 0.9462\n",
      "Epoch 127/200\n",
      "126/126 [==============================] - 1s 9ms/step - loss: 0.1729 - accuracy: 0.9481\n",
      "Epoch 128/200\n",
      "126/126 [==============================] - 1s 8ms/step - loss: 0.1717 - accuracy: 0.9462\n",
      "Epoch 129/200\n",
      "126/126 [==============================] - 1s 9ms/step - loss: 0.1688 - accuracy: 0.9462\n",
      "Epoch 130/200\n",
      "126/126 [==============================] - 1s 8ms/step - loss: 0.1684 - accuracy: 0.9469\n",
      "Epoch 131/200\n",
      "126/126 [==============================] - 1s 8ms/step - loss: 0.1666 - accuracy: 0.9462\n",
      "Epoch 132/200\n",
      "126/126 [==============================] - 1s 8ms/step - loss: 0.1683 - accuracy: 0.9499\n",
      "Epoch 133/200\n",
      "126/126 [==============================] - 1s 8ms/step - loss: 0.1637 - accuracy: 0.9481\n",
      "Epoch 134/200\n",
      "126/126 [==============================] - 1s 8ms/step - loss: 0.1621 - accuracy: 0.9474\n",
      "Epoch 135/200\n",
      "126/126 [==============================] - 1s 9ms/step - loss: 0.1632 - accuracy: 0.9501\n",
      "Epoch 136/200\n",
      "126/126 [==============================] - 1s 8ms/step - loss: 0.1653 - accuracy: 0.9474\n",
      "Epoch 137/200\n",
      "126/126 [==============================] - 1s 8ms/step - loss: 0.1577 - accuracy: 0.9519\n",
      "Epoch 138/200\n",
      "126/126 [==============================] - 1s 9ms/step - loss: 0.1666 - accuracy: 0.9474\n",
      "Epoch 139/200\n",
      "126/126 [==============================] - 1s 9ms/step - loss: 0.1673 - accuracy: 0.9444\n",
      "Epoch 140/200\n",
      "126/126 [==============================] - 1s 8ms/step - loss: 0.1652 - accuracy: 0.9481\n",
      "Epoch 141/200\n",
      "126/126 [==============================] - 1s 8ms/step - loss: 0.1606 - accuracy: 0.9499\n",
      "Epoch 142/200\n",
      "126/126 [==============================] - 1s 8ms/step - loss: 0.1641 - accuracy: 0.9484\n",
      "Epoch 143/200\n",
      "126/126 [==============================] - 1s 8ms/step - loss: 0.1587 - accuracy: 0.9509\n",
      "Epoch 144/200\n",
      "126/126 [==============================] - 1s 8ms/step - loss: 0.1627 - accuracy: 0.9471\n",
      "Epoch 145/200\n",
      "126/126 [==============================] - 1s 8ms/step - loss: 0.1627 - accuracy: 0.9476\n",
      "Epoch 146/200\n",
      "126/126 [==============================] - 1s 8ms/step - loss: 0.1580 - accuracy: 0.9479\n",
      "Epoch 147/200\n",
      "126/126 [==============================] - 1s 8ms/step - loss: 0.1604 - accuracy: 0.9481\n",
      "Epoch 148/200\n",
      "126/126 [==============================] - 1s 8ms/step - loss: 0.1569 - accuracy: 0.9494\n",
      "Epoch 149/200\n",
      "126/126 [==============================] - 1s 8ms/step - loss: 0.1608 - accuracy: 0.9484\n",
      "Epoch 150/200\n",
      "126/126 [==============================] - 1s 8ms/step - loss: 0.1629 - accuracy: 0.9474\n",
      "Epoch 151/200\n",
      "126/126 [==============================] - 1s 8ms/step - loss: 0.1577 - accuracy: 0.9476\n",
      "Epoch 152/200\n",
      "126/126 [==============================] - 1s 8ms/step - loss: 0.1552 - accuracy: 0.9484\n",
      "Epoch 153/200\n",
      "126/126 [==============================] - 1s 8ms/step - loss: 0.1577 - accuracy: 0.9484\n",
      "Epoch 154/200\n",
      "126/126 [==============================] - 1s 9ms/step - loss: 0.1557 - accuracy: 0.9476\n",
      "Epoch 155/200\n",
      "126/126 [==============================] - 1s 9ms/step - loss: 0.1630 - accuracy: 0.9439\n",
      "Epoch 156/200\n",
      "126/126 [==============================] - 1s 8ms/step - loss: 0.1595 - accuracy: 0.9476\n",
      "Epoch 157/200\n",
      "126/126 [==============================] - 1s 8ms/step - loss: 0.1562 - accuracy: 0.9464\n",
      "Epoch 158/200\n",
      "126/126 [==============================] - 1s 8ms/step - loss: 0.1542 - accuracy: 0.9476\n",
      "Epoch 159/200\n",
      "126/126 [==============================] - 1s 9ms/step - loss: 0.1507 - accuracy: 0.9496\n",
      "Epoch 160/200\n",
      "126/126 [==============================] - 1s 9ms/step - loss: 0.1468 - accuracy: 0.9514\n",
      "Epoch 161/200\n",
      "126/126 [==============================] - 1s 9ms/step - loss: 0.1536 - accuracy: 0.9494\n",
      "Epoch 162/200\n",
      "126/126 [==============================] - 1s 9ms/step - loss: 0.1491 - accuracy: 0.9481\n",
      "Epoch 163/200\n",
      "126/126 [==============================] - 1s 9ms/step - loss: 0.1575 - accuracy: 0.9471\n",
      "Epoch 164/200\n",
      "126/126 [==============================] - 1s 8ms/step - loss: 0.1492 - accuracy: 0.9504\n",
      "Epoch 165/200\n",
      "126/126 [==============================] - 1s 8ms/step - loss: 0.1537 - accuracy: 0.9496\n",
      "Epoch 166/200\n",
      "126/126 [==============================] - 1s 8ms/step - loss: 0.1552 - accuracy: 0.9474\n",
      "Epoch 167/200\n",
      "126/126 [==============================] - 1s 8ms/step - loss: 0.1546 - accuracy: 0.9486\n",
      "Epoch 168/200\n",
      "126/126 [==============================] - 1s 9ms/step - loss: 0.1522 - accuracy: 0.9474\n",
      "Epoch 169/200\n",
      "126/126 [==============================] - 1s 8ms/step - loss: 0.1520 - accuracy: 0.9479\n",
      "Epoch 170/200\n",
      "126/126 [==============================] - 1s 8ms/step - loss: 0.1493 - accuracy: 0.9521\n",
      "Epoch 171/200\n",
      "126/126 [==============================] - 1s 8ms/step - loss: 0.1497 - accuracy: 0.9489\n",
      "Epoch 172/200\n",
      "126/126 [==============================] - 1s 8ms/step - loss: 0.1458 - accuracy: 0.9496\n",
      "Epoch 173/200\n",
      "126/126 [==============================] - 1s 8ms/step - loss: 0.1463 - accuracy: 0.9506\n",
      "Epoch 174/200\n",
      "126/126 [==============================] - 1s 8ms/step - loss: 0.1609 - accuracy: 0.9474\n",
      "Epoch 175/200\n",
      "126/126 [==============================] - 1s 9ms/step - loss: 0.1652 - accuracy: 0.9432\n",
      "Epoch 176/200\n",
      "126/126 [==============================] - 1s 8ms/step - loss: 0.1550 - accuracy: 0.9474\n",
      "Epoch 177/200\n",
      "126/126 [==============================] - 1s 8ms/step - loss: 0.1527 - accuracy: 0.9471\n",
      "Epoch 178/200\n",
      "126/126 [==============================] - 1s 8ms/step - loss: 0.1470 - accuracy: 0.9494\n",
      "Epoch 179/200\n",
      "126/126 [==============================] - 1s 8ms/step - loss: 0.1475 - accuracy: 0.9509\n",
      "Epoch 180/200\n",
      "126/126 [==============================] - 1s 8ms/step - loss: 0.1495 - accuracy: 0.9459\n",
      "Epoch 181/200\n",
      "126/126 [==============================] - 1s 8ms/step - loss: 0.1517 - accuracy: 0.9501\n",
      "Epoch 182/200\n",
      "126/126 [==============================] - 1s 9ms/step - loss: 0.1503 - accuracy: 0.9481\n",
      "Epoch 183/200\n",
      "126/126 [==============================] - 1s 9ms/step - loss: 0.1493 - accuracy: 0.9471\n",
      "Epoch 184/200\n",
      "126/126 [==============================] - 1s 9ms/step - loss: 0.1453 - accuracy: 0.9506\n",
      "Epoch 185/200\n",
      "126/126 [==============================] - 1s 9ms/step - loss: 0.1448 - accuracy: 0.9504\n",
      "Epoch 186/200\n",
      "126/126 [==============================] - 1s 9ms/step - loss: 0.1472 - accuracy: 0.9504\n",
      "Epoch 187/200\n",
      "126/126 [==============================] - 1s 9ms/step - loss: 0.1479 - accuracy: 0.9506\n",
      "Epoch 188/200\n",
      "126/126 [==============================] - 1s 8ms/step - loss: 0.1486 - accuracy: 0.9474\n",
      "Epoch 189/200\n",
      "126/126 [==============================] - 1s 8ms/step - loss: 0.1417 - accuracy: 0.9511\n",
      "Epoch 190/200\n",
      "126/126 [==============================] - 1s 8ms/step - loss: 0.1447 - accuracy: 0.9499\n",
      "Epoch 191/200\n",
      "126/126 [==============================] - 1s 8ms/step - loss: 0.1493 - accuracy: 0.9494\n",
      "Epoch 192/200\n",
      "126/126 [==============================] - 1s 8ms/step - loss: 0.1426 - accuracy: 0.9516\n",
      "Epoch 193/200\n",
      "126/126 [==============================] - 1s 8ms/step - loss: 0.1489 - accuracy: 0.9474\n",
      "Epoch 194/200\n",
      "126/126 [==============================] - 1s 8ms/step - loss: 0.1452 - accuracy: 0.9491\n",
      "Epoch 195/200\n",
      "126/126 [==============================] - 1s 8ms/step - loss: 0.1423 - accuracy: 0.9501\n",
      "Epoch 196/200\n",
      "126/126 [==============================] - 1s 8ms/step - loss: 0.1445 - accuracy: 0.9484\n",
      "Epoch 197/200\n",
      "126/126 [==============================] - 1s 8ms/step - loss: 0.1401 - accuracy: 0.9516\n",
      "Epoch 198/200\n",
      "126/126 [==============================] - 1s 8ms/step - loss: 0.1450 - accuracy: 0.9489\n",
      "Epoch 199/200\n",
      "126/126 [==============================] - 1s 8ms/step - loss: 0.1473 - accuracy: 0.9496\n",
      "Epoch 200/200\n",
      "126/126 [==============================] - 1s 8ms/step - loss: 0.1431 - accuracy: 0.9491\n"
     ]
    }
   ],
   "source": [
    "history = model.fit(input_to_model, label, epochs=200, batch_size=32, verbose=1)"
   ]
  },
  {
   "cell_type": "markdown",
   "metadata": {
    "colab_type": "text",
    "id": "E2_J0wuQn4_T"
   },
   "source": [
    "Let's plot details of our training."
   ]
  },
  {
   "cell_type": "code",
   "execution_count": 15,
   "metadata": {
    "colab": {
     "base_uri": "https://localhost:8080/",
     "height": 544
    },
    "colab_type": "code",
    "id": "UcFNM7imn4_U",
    "outputId": "b135e707-8a97-48f9-da42-62cb49e82e1b"
   },
   "outputs": [
    {
     "data": {
      "image/png": "[encoded data removed]",
      "text/plain": [
       "<Figure size 432x288 with 1 Axes>"
      ]
     },
     "metadata": {
      "needs_background": "light",
      "tags": []
     },
     "output_type": "display_data"
    },
    {
     "data": {
      "image/png": "[encoded data removed]",
      "text/plain": [
       "<Figure size 432x288 with 1 Axes>"
      ]
     },
     "metadata": {
      "needs_background": "light",
      "tags": []
     },
     "output_type": "display_data"
    }
   ],
   "source": [
    "acc = history.history['accuracy']\n",
    "loss = history.history['loss']\n",
    "epochs = range(len(acc))\n",
    "plt.plot(epochs, acc, 'b', label='Training accuracy')\n",
    "plt.title('Training accuracy')\n",
    "plt.figure()\n",
    "plt.plot(epochs, loss, 'b', label='Training Loss')\n",
    "plt.title('Training loss')\n",
    "plt.legend()\n",
    "plt.show()"
   ]
  },
  {
   "cell_type": "markdown",
   "metadata": {
    "colab_type": "text",
    "id": "N28e9LOPn4_W"
   },
   "source": [
    "# Generating fake comments\n",
    "\n",
    "To generate fake tweets, we use the below architecture:\n",
    "\n",
    "![](imgs/text_gen.png)\n",
    "\n",
    "The idea is to give one or more starting token(s) to our model, and generate the next tokens until we generate `.`.\n",
    "\n",
    "At each step, we select the token with the highest probability as our next token and generate the next one similartly using `model.predict_classes()`. \n",
    "\n",
    "**Note:** The model takes as input the activation `a` from the previous state of the LSTM and the token chosen, forward propagate by one step, and get a new output activation `a`. The new activation `a` can then be used to generate the output, using the `dense` layer with `softmax` activation as before. \n",
    "\n"
   ]
  },
  {
   "cell_type": "markdown",
   "metadata": {
    "colab_type": "text",
    "id": "0oktWaXcn4_W"
   },
   "source": [
    "**Task 2**: Implement `generate()`. \n",
    "\n",
    "***"
   ]
  },
  {
   "cell_type": "code",
   "execution_count": 16,
   "metadata": {
    "colab": {},
    "colab_type": "code",
    "id": "WBQKtBhin4_X"
   },
   "outputs": [],
   "source": [
    "#TASK 2\n",
    "# Implement the generate() function\n",
    "\n",
    "def generate(seed_text):\n",
    "    ### START CODE HERE ### \n",
    "    tokenizer = Tokenizer(filters='\"#$%&()*+-/:;<=>@[\\\\]^_`{|}~\\t\\n')\n",
    "    sentence = seed_text\n",
    "    a = ''\n",
    "    while a != '.':\n",
    "      \n",
    "        corpus = sentence.lower().split(\"\\n\")\n",
    "\n",
    "        tokenizer.fit_on_texts(corpus)\n",
    "    \n",
    "        input_sequences = []\n",
    "        for l in corpus:\n",
    "            token_list = tokenizer.texts_to_sequences([l])[0]\n",
    "                #for i in range(1, len(token_list)):\n",
    "                   # n_gram_sequence = token_list[:i+1]\n",
    "                   # print(n_gram_sequence)\n",
    "            input_sequences.append(token_list)\n",
    "        \n",
    "        input_sequences = np.array(pad_sequences(input_sequences, maxlen=max_sequence_len-1, padding='pre'))\n",
    "        prediction = model.predict_classes(input_sequences, verbose=0)\n",
    "        if prediction[0] != 0:\n",
    "          w = reverse_word_map[prediction[0]]\n",
    "        sentence += ' '+ w\n",
    "        a = w\n",
    "    return sentence\n",
    "    ### END CODE HERE ### \n"
   ]
  },
  {
   "cell_type": "markdown",
   "metadata": {
    "colab_type": "text",
    "id": "m-Wd0L_zn4_Z"
   },
   "source": [
    "**Let's test it:**"
   ]
  },
  {
   "cell_type": "code",
   "execution_count": 35,
   "metadata": {
    "colab": {
     "base_uri": "https://localhost:8080/",
     "height": 427
    },
    "colab_type": "code",
    "id": "JIL3TYRPn4_Z",
    "outputId": "d477255a-e1c8-4a38-90fc-45afdd4823bd"
   },
   "outputs": [
    {
     "name": "stdout",
     "output_type": "stream",
     "text": [
      "\n",
      "\n",
      "COVID19 virus covid19 of virus covid19 because a kill covid19 test it for your on the the the government the military of the .\n",
      "\n",
      "\n",
      "\n",
      "COVID19 is the outbreak senegal be 7 test for on on at the home the the the all like get getting of to in the , can so the and should so the all and is is .\n",
      "\n",
      "\n",
      "\n",
      "The usa is outbreak senegal be 7 test for on on at the home the home the , coronavirus states covid19 of the , two are the , up can so the and should cvd that them door at down citizens up , .\n",
      "\n",
      "\n",
      "\n",
      "The new virus outbreak senegal be 7 test for on on at the home the home the , coronavirus states covid19 of the , two are the , up can so the and should cvd that them door at down citizens up , .\n",
      "\n",
      "\n",
      "\n",
      "China has covid19 outbreak senegal be 7 test for on on at the the the the on disease coronavirus kill the of and to have the are can , the and to in kills a that not door for it very have the coronavirus means city .\n",
      "\n",
      "\n",
      "\n"
     ]
    }
   ],
   "source": [
    "print('\\n')\n",
    "print(generate(\"COVID19 virus\"))\n",
    "print('\\n\\n')\n",
    "print(generate(\"COVID19 is the\"))\n",
    "print('\\n\\n')\n",
    "print(generate(\"The usa is\"))\n",
    "print('\\n\\n')\n",
    "print(generate(\"The new virus\"))\n",
    "print('\\n\\n')\n",
    "print(generate(\"China has\"))\n",
    "print('\\n\\n')"
   ]
  },
  {
   "cell_type": "markdown",
   "metadata": {
    "colab_type": "text",
    "id": "VW2b9IFXn4_b"
   },
   "source": [
    "**Let's test it in an interactive mode:**"
   ]
  },
  {
   "cell_type": "code",
   "execution_count": 18,
   "metadata": {
    "colab": {
     "base_uri": "https://localhost:8080/",
     "height": 52
    },
    "colab_type": "code",
    "id": "Bwk5nsIon4_c",
    "outputId": "7b77d2af-e2ab-4632-8196-60fec04b6233"
   },
   "outputs": [
    {
     "name": "stdout",
     "output_type": "stream",
     "text": [
      "Write the beginning of your tweet, the algorithm machine will complete it. Your input is: covid19 was\n",
      "covid19 was covid19 of virus a be covid19 test a kill for . "
     ]
    }
   ],
   "source": [
    "usr_input = input(\"Write the beginning of your tweet, the algorithm machine will complete it. Your input is: \")\n",
    "for w in generate(usr_input).split():    \n",
    "    print(w, end =\" \")\n",
    "    time.sleep(0.4)\n"
   ]
  },
  {
   "cell_type": "markdown",
   "metadata": {
    "colab_type": "text",
    "id": "Nk3xpTyIn4_e"
   },
   "source": [
    "# Generating text by sampling\n",
    "\n",
    "The previous part is generating text by choosing the token with the highest probability. Now, we sill generate text by sampling as shown in the architecture below:\n",
    "\n",
    "![](imgs/text_gen_sample.png)\n",
    "\n",
    "\n",
    "**TASK 3:** Implement the `generate_sample()` function. To sample a token from the output at each timestep, you need to use the following two functions:\n",
    "- `model.predict_proba()`: To get probabilities from the output layer.\n",
    "- `np.random.choice()`: To sample from the token list using the probaility array of each token.\n",
    "\n",
    "***"
   ]
  },
  {
   "cell_type": "code",
   "execution_count": 20,
   "metadata": {
    "colab": {},
    "colab_type": "code",
    "id": "nos5GwA7n4_e"
   },
   "outputs": [],
   "source": [
    "#TASK 3\n",
    "# Implement the generate_sample() function\n",
    "def generate_sample(seed_text):\n",
    "    \n",
    "   ### START CODE HERE ### \n",
    "    tokenizer = Tokenizer(filters='\"#$%&()*+-/:;<=>@[\\\\]^_`{|}~\\t\\n')\n",
    "    sentence = seed_text\n",
    "    a = ''\n",
    "    count = 0\n",
    "    while a != '.':\n",
    "      \n",
    "        corpus = sentence.lower().split(\"\\n\")\n",
    "\n",
    "        tokenizer.fit_on_texts(corpus)\n",
    "    \n",
    "        input_sequences = []\n",
    "        for l in corpus:\n",
    "            token_list = tokenizer.texts_to_sequences([l])[0]\n",
    "            input_sequences.append(token_list)\n",
    "        \n",
    "        input_sequences = np.array(pad_sequences(input_sequences, maxlen=max_sequence_len-1, padding='pre'))\n",
    "        prediction = model.predict_proba(input_sequences, verbose=0)\n",
    "        p = np.random.choice(prediction[0])\n",
    "        p = np.where(prediction[0] == p)\n",
    "        if p[0][0] != 0:\n",
    "          w = reverse_word_map[p[0][0]]\n",
    "        sentence += ' '+ w\n",
    "        a = w\n",
    "        count+=1\n",
    "        if(count == 50):\n",
    "          break\n",
    "\n",
    "    return sentence\n",
    "    ### END CODE HERE ### "
   ]
  },
  {
   "cell_type": "markdown",
   "metadata": {
    "colab_type": "text",
    "id": "MSalPA6on4_g"
   },
   "source": [
    "**Let's test it in an interactive mode:**"
   ]
  },
  {
   "cell_type": "code",
   "execution_count": 37,
   "metadata": {
    "colab": {
     "base_uri": "https://localhost:8080/",
     "height": 107
    },
    "colab_type": "code",
    "id": "GESrNBckn4_g",
    "outputId": "0f760865-bf87-4c05-e441-ce63970bb892"
   },
   "outputs": [
    {
     "name": "stdout",
     "output_type": "stream",
     "text": [
      "Write the beginning of your tweet, the algorithm machine will complete it. Your input is: kids cant\n",
      "\n",
      "\n",
      "kids cant chronic tweeted food prophesied across go own medical against center that exposed clorox reduces february covid19 lotteries agendas your never whitmer risk lemon sunlight terrorism kill released economy see hell disease gunpoint use… banner weapon already spread bought knocks agreed you suggests whole mobile these governors vaping cattle italy chance "
     ]
    }
   ],
   "source": [
    "usr_input = input(\"Write the beginning of your tweet, the algorithm machine will complete it. Your input is: \")\n",
    "print('\\n') \n",
    "for w in generate_sample(usr_input).split():   \n",
    "    print(w, end =\" \")\n",
    "    time.sleep(0.4)\n"
   ]
  },
  {
   "cell_type": "markdown",
   "metadata": {
    "colab_type": "text",
    "id": "FzCfm-6In4_i"
   },
   "source": [
    "# Generate your own text \n",
    "\n",
    "Below, use you own data to generate content for a different application:"
   ]
  },
  {
   "cell_type": "code",
   "execution_count": 33,
   "metadata": {
    "colab": {
     "base_uri": "https://localhost:8080/",
     "height": 87
    },
    "colab_type": "code",
    "id": "LRVCOm-An5AR",
    "outputId": "cdc2e0a4-3650-4163-8adb-98123c33b363"
   },
   "outputs": [
    {
     "name": "stdout",
     "output_type": "stream",
     "text": [
      "Example of fake tweets:  ['to sherlock holmes she is always _the_ woman  .', '  i have seldom heard him\\nmention her under any other name  .']\n",
      "Size of the vocabulary =  324\n",
      "Example of our word index =  [(',', 1), ('the', 2), ('and', 3), ('of', 4), ('his', 5), ('to', 6), ('was', 7), ('a', 8), ('in', 9), ('i', 10)]\n",
      "(636,)\n"
     ]
    }
   ],
   "source": [
    "tokenizer = Tokenizer(filters='\"#$%&()*+-/:;<=>@[\\\\]^_`{|}~\\t\\n')\n",
    "data = open('Sherlock.txt').read().replace(\".\", \" . \").replace(\",\", \" , \").replace(\"?\", \" ? \").replace(\"!\", \" ! \")\n",
    "\n",
    "corpus = data.lower().split(\".\")\n",
    "tokenizer.fit_on_texts(corpus)\n",
    "total_words = len(tokenizer.word_index) + 1\n",
    "\n",
    "c=[]\n",
    "for l in corpus:\n",
    "    c.append(l + ' .')\n",
    "\n",
    "print(\"Example of fake tweets: \",c[:2])\n",
    "print(\"Size of the vocabulary = \", total_words)\n",
    "index = [(k, v) for k, v in tokenizer.word_index.items()]\n",
    "print(\"Example of our word index = \", index[0:10])\n",
    "\n",
    "input_sequences = []\n",
    "for line in c:\n",
    "    token_list = tokenizer.texts_to_sequences([line])[0]\n",
    "    for i in range(1, len(token_list)):\n",
    "        n_gram_sequence = token_list[:i+1]\n",
    "        input_sequences.append(n_gram_sequence)\n",
    "\n",
    "\n",
    "max_sequence_len = max([len(x) for x in input_sequences])\n",
    "input_sequences = np.array(pad_sequences(input_sequences, maxlen=max_sequence_len, padding='pre'))\n",
    "\n",
    "input_to_model, label = input_sequences[:,:-1],input_sequences[:,-1]\n",
    "print(label.shape)\n",
    "\n",
    "label = ku.to_categorical(label)"
   ]
  },
  {
   "cell_type": "code",
   "execution_count": 23,
   "metadata": {
    "colab": {
     "base_uri": "https://localhost:8080/",
     "height": 70
    },
    "colab_type": "code",
    "id": "vHbygoUBXAfa",
    "outputId": "78a02435-8f54-4dcd-c0c7-93962c6ed272"
   },
   "outputs": [
    {
     "name": "stdout",
     "output_type": "stream",
     "text": [
      "(636, 88)\n",
      "(636, 324)\n",
      "(636, 89)\n"
     ]
    }
   ],
   "source": [
    "print(input_to_model.shape)\n",
    "print(label.shape)\n",
    "print(input_sequences.shape)"
   ]
  },
  {
   "cell_type": "code",
   "execution_count": 24,
   "metadata": {
    "colab": {},
    "colab_type": "code",
    "id": "Ft91Vrp4XAfc"
   },
   "outputs": [],
   "source": [
    "size = 128\n",
    "def deep_fake_comment_model1():\n",
    "    ### START CODE HERE ### \n",
    "    model1 = Sequential()\n",
    "    model1.add(Embedding(324, size, input_length=88))\n",
    "    model1.add(LSTM(size))\n",
    "    model1.add(Dropout(0.1))\n",
    "    model1.add(Dense(324, activation='softmax'))\n",
    "    model1.compile(optimizer='adam', loss='categorical_crossentropy', metrics=['accuracy'])\n",
    "    return model1\n",
    "    ### END CODE HERE ### \n",
    "    \n",
    "#Print details of the model.\n",
    "model1 = deep_fake_comment_model1()"
   ]
  },
  {
   "cell_type": "code",
   "execution_count": 25,
   "metadata": {
    "colab": {
     "base_uri": "https://localhost:8080/",
     "height": 1000
    },
    "colab_type": "code",
    "id": "LlOKlgAZXAfe",
    "outputId": "e8ee940d-2af8-4f90-fe19-8b7db8962edb"
   },
   "outputs": [
    {
     "name": "stdout",
     "output_type": "stream",
     "text": [
      "Epoch 1/200\n",
      "20/20 [==============================] - 0s 11ms/step - loss: 5.6789 - accuracy: 0.0487\n",
      "Epoch 2/200\n",
      "20/20 [==============================] - 0s 9ms/step - loss: 5.2698 - accuracy: 0.0692\n",
      "Epoch 3/200\n",
      "20/20 [==============================] - 0s 9ms/step - loss: 5.1677 - accuracy: 0.0519\n",
      "Epoch 4/200\n",
      "20/20 [==============================] - 0s 8ms/step - loss: 5.1255 - accuracy: 0.0692\n",
      "Epoch 5/200\n",
      "20/20 [==============================] - 0s 8ms/step - loss: 5.1049 - accuracy: 0.0676\n",
      "Epoch 6/200\n",
      "20/20 [==============================] - 0s 8ms/step - loss: 5.0675 - accuracy: 0.0708\n",
      "Epoch 7/200\n",
      "20/20 [==============================] - 0s 8ms/step - loss: 5.0303 - accuracy: 0.0802\n",
      "Epoch 8/200\n",
      "20/20 [==============================] - 0s 7ms/step - loss: 4.9644 - accuracy: 0.0723\n",
      "Epoch 9/200\n",
      "20/20 [==============================] - 0s 9ms/step - loss: 4.8665 - accuracy: 0.0912\n",
      "Epoch 10/200\n",
      "20/20 [==============================] - 0s 8ms/step - loss: 4.7560 - accuracy: 0.1179\n",
      "Epoch 11/200\n",
      "20/20 [==============================] - 0s 8ms/step - loss: 4.6268 - accuracy: 0.1368\n",
      "Epoch 12/200\n",
      "20/20 [==============================] - 0s 7ms/step - loss: 4.4869 - accuracy: 0.1572\n",
      "Epoch 13/200\n",
      "20/20 [==============================] - 0s 7ms/step - loss: 4.3209 - accuracy: 0.1698\n",
      "Epoch 14/200\n",
      "20/20 [==============================] - 0s 9ms/step - loss: 4.1597 - accuracy: 0.1871\n",
      "Epoch 15/200\n",
      "20/20 [==============================] - 0s 8ms/step - loss: 4.0063 - accuracy: 0.1997\n",
      "Epoch 16/200\n",
      "20/20 [==============================] - 0s 7ms/step - loss: 3.8251 - accuracy: 0.2280\n",
      "Epoch 17/200\n",
      "20/20 [==============================] - 0s 8ms/step - loss: 3.6740 - accuracy: 0.2437\n",
      "Epoch 18/200\n",
      "20/20 [==============================] - 0s 7ms/step - loss: 3.5219 - accuracy: 0.2594\n",
      "Epoch 19/200\n",
      "20/20 [==============================] - 0s 7ms/step - loss: 3.3613 - accuracy: 0.2783\n",
      "Epoch 20/200\n",
      "20/20 [==============================] - 0s 7ms/step - loss: 3.2146 - accuracy: 0.3050\n",
      "Epoch 21/200\n",
      "20/20 [==============================] - 0s 8ms/step - loss: 3.0589 - accuracy: 0.3223\n",
      "Epoch 22/200\n",
      "20/20 [==============================] - 0s 7ms/step - loss: 2.9148 - accuracy: 0.3365\n",
      "Epoch 23/200\n",
      "20/20 [==============================] - 0s 8ms/step - loss: 2.7734 - accuracy: 0.3711\n",
      "Epoch 24/200\n",
      "20/20 [==============================] - 0s 7ms/step - loss: 2.6390 - accuracy: 0.4104\n",
      "Epoch 25/200\n",
      "20/20 [==============================] - 0s 7ms/step - loss: 2.5063 - accuracy: 0.4450\n",
      "Epoch 26/200\n",
      "20/20 [==============================] - 0s 7ms/step - loss: 2.3719 - accuracy: 0.4796\n",
      "Epoch 27/200\n",
      "20/20 [==============================] - 0s 8ms/step - loss: 2.2295 - accuracy: 0.5126\n",
      "Epoch 28/200\n",
      "20/20 [==============================] - 0s 7ms/step - loss: 2.0907 - accuracy: 0.5833\n",
      "Epoch 29/200\n",
      "20/20 [==============================] - 0s 8ms/step - loss: 1.9966 - accuracy: 0.6242\n",
      "Epoch 30/200\n",
      "20/20 [==============================] - 0s 8ms/step - loss: 1.8809 - accuracy: 0.6604\n",
      "Epoch 31/200\n",
      "20/20 [==============================] - 0s 7ms/step - loss: 1.7531 - accuracy: 0.7044\n",
      "Epoch 32/200\n",
      "20/20 [==============================] - 0s 7ms/step - loss: 1.6589 - accuracy: 0.7531\n",
      "Epoch 33/200\n",
      "20/20 [==============================] - 0s 8ms/step - loss: 1.5469 - accuracy: 0.7767\n",
      "Epoch 34/200\n",
      "20/20 [==============================] - 0s 8ms/step - loss: 1.4584 - accuracy: 0.8255\n",
      "Epoch 35/200\n",
      "20/20 [==============================] - 0s 7ms/step - loss: 1.3693 - accuracy: 0.8270\n",
      "Epoch 36/200\n",
      "20/20 [==============================] - 0s 8ms/step - loss: 1.2624 - accuracy: 0.8711\n",
      "Epoch 37/200\n",
      "20/20 [==============================] - 0s 7ms/step - loss: 1.1947 - accuracy: 0.8962\n",
      "Epoch 38/200\n",
      "20/20 [==============================] - 0s 7ms/step - loss: 1.1183 - accuracy: 0.8884\n",
      "Epoch 39/200\n",
      "20/20 [==============================] - 0s 8ms/step - loss: 1.0564 - accuracy: 0.9057\n",
      "Epoch 40/200\n",
      "20/20 [==============================] - 0s 7ms/step - loss: 0.9793 - accuracy: 0.9245\n",
      "Epoch 41/200\n",
      "20/20 [==============================] - 0s 7ms/step - loss: 0.9300 - accuracy: 0.9403\n",
      "Epoch 42/200\n",
      "20/20 [==============================] - 0s 8ms/step - loss: 0.8731 - accuracy: 0.9450\n",
      "Epoch 43/200\n",
      "20/20 [==============================] - 0s 7ms/step - loss: 0.8206 - accuracy: 0.9528\n",
      "Epoch 44/200\n",
      "20/20 [==============================] - 0s 7ms/step - loss: 0.7762 - accuracy: 0.9575\n",
      "Epoch 45/200\n",
      "20/20 [==============================] - 0s 8ms/step - loss: 0.7397 - accuracy: 0.9607\n",
      "Epoch 46/200\n",
      "20/20 [==============================] - 0s 7ms/step - loss: 0.6828 - accuracy: 0.9670\n",
      "Epoch 47/200\n",
      "20/20 [==============================] - 0s 8ms/step - loss: 0.6475 - accuracy: 0.9623\n",
      "Epoch 48/200\n",
      "20/20 [==============================] - 0s 8ms/step - loss: 0.6098 - accuracy: 0.9733\n",
      "Epoch 49/200\n",
      "20/20 [==============================] - 0s 8ms/step - loss: 0.5775 - accuracy: 0.9733\n",
      "Epoch 50/200\n",
      "20/20 [==============================] - 0s 7ms/step - loss: 0.5472 - accuracy: 0.9764\n",
      "Epoch 51/200\n",
      "20/20 [==============================] - 0s 8ms/step - loss: 0.5152 - accuracy: 0.9843\n",
      "Epoch 52/200\n",
      "20/20 [==============================] - 0s 7ms/step - loss: 0.4858 - accuracy: 0.9717\n",
      "Epoch 53/200\n",
      "20/20 [==============================] - 0s 8ms/step - loss: 0.4674 - accuracy: 0.9796\n",
      "Epoch 54/200\n",
      "20/20 [==============================] - 0s 8ms/step - loss: 0.4377 - accuracy: 0.9843\n",
      "Epoch 55/200\n",
      "20/20 [==============================] - 0s 7ms/step - loss: 0.4127 - accuracy: 0.9811\n",
      "Epoch 56/200\n",
      "20/20 [==============================] - 0s 8ms/step - loss: 0.3988 - accuracy: 0.9827\n",
      "Epoch 57/200\n",
      "20/20 [==============================] - 0s 7ms/step - loss: 0.3811 - accuracy: 0.9843\n",
      "Epoch 58/200\n",
      "20/20 [==============================] - 0s 8ms/step - loss: 0.3660 - accuracy: 0.9858\n",
      "Epoch 59/200\n",
      "20/20 [==============================] - 0s 7ms/step - loss: 0.3443 - accuracy: 0.9843\n",
      "Epoch 60/200\n",
      "20/20 [==============================] - 0s 8ms/step - loss: 0.3240 - accuracy: 0.9811\n",
      "Epoch 61/200\n",
      "20/20 [==============================] - 0s 8ms/step - loss: 0.3111 - accuracy: 0.9811\n",
      "Epoch 62/200\n",
      "20/20 [==============================] - 0s 8ms/step - loss: 0.2974 - accuracy: 0.9874\n",
      "Epoch 63/200\n",
      "20/20 [==============================] - 0s 7ms/step - loss: 0.2880 - accuracy: 0.9811\n",
      "Epoch 64/200\n",
      "20/20 [==============================] - 0s 8ms/step - loss: 0.2740 - accuracy: 0.9874\n",
      "Epoch 65/200\n",
      "20/20 [==============================] - 0s 8ms/step - loss: 0.2717 - accuracy: 0.9811\n",
      "Epoch 66/200\n",
      "20/20 [==============================] - 0s 8ms/step - loss: 0.2498 - accuracy: 0.9858\n",
      "Epoch 67/200\n",
      "20/20 [==============================] - 0s 9ms/step - loss: 0.2472 - accuracy: 0.9843\n",
      "Epoch 68/200\n",
      "20/20 [==============================] - 0s 7ms/step - loss: 0.2373 - accuracy: 0.9827\n",
      "Epoch 69/200\n",
      "20/20 [==============================] - 0s 9ms/step - loss: 0.2284 - accuracy: 0.9827\n",
      "Epoch 70/200\n",
      "20/20 [==============================] - 0s 9ms/step - loss: 0.2208 - accuracy: 0.9811\n",
      "Epoch 71/200\n",
      "20/20 [==============================] - 0s 8ms/step - loss: 0.2109 - accuracy: 0.9811\n",
      "Epoch 72/200\n",
      "20/20 [==============================] - 0s 9ms/step - loss: 0.2081 - accuracy: 0.9843\n",
      "Epoch 73/200\n",
      "20/20 [==============================] - 0s 8ms/step - loss: 0.1986 - accuracy: 0.9827\n",
      "Epoch 74/200\n",
      "20/20 [==============================] - 0s 8ms/step - loss: 0.1959 - accuracy: 0.9843\n",
      "Epoch 75/200\n",
      "20/20 [==============================] - 0s 8ms/step - loss: 0.1823 - accuracy: 0.9921\n",
      "Epoch 76/200\n",
      "20/20 [==============================] - 0s 8ms/step - loss: 0.1842 - accuracy: 0.9796\n",
      "Epoch 77/200\n",
      "20/20 [==============================] - 0s 7ms/step - loss: 0.1784 - accuracy: 0.9843\n",
      "Epoch 78/200\n",
      "20/20 [==============================] - 0s 8ms/step - loss: 0.1748 - accuracy: 0.9858\n",
      "Epoch 79/200\n",
      "20/20 [==============================] - 0s 7ms/step - loss: 0.1669 - accuracy: 0.9827\n",
      "Epoch 80/200\n",
      "20/20 [==============================] - 0s 8ms/step - loss: 0.1649 - accuracy: 0.9796\n",
      "Epoch 81/200\n",
      "20/20 [==============================] - 0s 7ms/step - loss: 0.1521 - accuracy: 0.9890\n",
      "Epoch 82/200\n",
      "20/20 [==============================] - 0s 8ms/step - loss: 0.1488 - accuracy: 0.9874\n",
      "Epoch 83/200\n",
      "20/20 [==============================] - 0s 7ms/step - loss: 0.1443 - accuracy: 0.9827\n",
      "Epoch 84/200\n",
      "20/20 [==============================] - 0s 8ms/step - loss: 0.1476 - accuracy: 0.9811\n",
      "Epoch 85/200\n",
      "20/20 [==============================] - 0s 8ms/step - loss: 0.1398 - accuracy: 0.9827\n",
      "Epoch 86/200\n",
      "20/20 [==============================] - 0s 7ms/step - loss: 0.1404 - accuracy: 0.9796\n",
      "Epoch 87/200\n",
      "20/20 [==============================] - 0s 8ms/step - loss: 0.1280 - accuracy: 0.9843\n",
      "Epoch 88/200\n",
      "20/20 [==============================] - 0s 8ms/step - loss: 0.1348 - accuracy: 0.9811\n",
      "Epoch 89/200\n",
      "20/20 [==============================] - 0s 7ms/step - loss: 0.1346 - accuracy: 0.9827\n",
      "Epoch 90/200\n",
      "20/20 [==============================] - 0s 7ms/step - loss: 0.1275 - accuracy: 0.9827\n",
      "Epoch 91/200\n",
      "20/20 [==============================] - 0s 8ms/step - loss: 0.1228 - accuracy: 0.9811\n",
      "Epoch 92/200\n",
      "20/20 [==============================] - 0s 7ms/step - loss: 0.1240 - accuracy: 0.9858\n",
      "Epoch 93/200\n",
      "20/20 [==============================] - 0s 8ms/step - loss: 0.1145 - accuracy: 0.9811\n",
      "Epoch 94/200\n",
      "20/20 [==============================] - 0s 8ms/step - loss: 0.1137 - accuracy: 0.9796\n",
      "Epoch 95/200\n",
      "20/20 [==============================] - 0s 7ms/step - loss: 0.1078 - accuracy: 0.9827\n",
      "Epoch 96/200\n",
      "20/20 [==============================] - 0s 8ms/step - loss: 0.1074 - accuracy: 0.9827\n",
      "Epoch 97/200\n",
      "20/20 [==============================] - 0s 8ms/step - loss: 0.1034 - accuracy: 0.9874\n",
      "Epoch 98/200\n",
      "20/20 [==============================] - 0s 7ms/step - loss: 0.1031 - accuracy: 0.9874\n",
      "Epoch 99/200\n",
      "20/20 [==============================] - 0s 8ms/step - loss: 0.1037 - accuracy: 0.9843\n",
      "Epoch 100/200\n",
      "20/20 [==============================] - 0s 8ms/step - loss: 0.0983 - accuracy: 0.9827\n",
      "Epoch 101/200\n",
      "20/20 [==============================] - 0s 8ms/step - loss: 0.0972 - accuracy: 0.9858\n",
      "Epoch 102/200\n",
      "20/20 [==============================] - 0s 7ms/step - loss: 0.0964 - accuracy: 0.9827\n",
      "Epoch 103/200\n",
      "20/20 [==============================] - 0s 8ms/step - loss: 0.0962 - accuracy: 0.9858\n",
      "Epoch 104/200\n",
      "20/20 [==============================] - 0s 7ms/step - loss: 0.0949 - accuracy: 0.9843\n",
      "Epoch 105/200\n",
      "20/20 [==============================] - 0s 8ms/step - loss: 0.0928 - accuracy: 0.9843\n",
      "Epoch 106/200\n",
      "20/20 [==============================] - 0s 8ms/step - loss: 0.0962 - accuracy: 0.9843\n",
      "Epoch 107/200\n",
      "20/20 [==============================] - 0s 8ms/step - loss: 0.0901 - accuracy: 0.9874\n",
      "Epoch 108/200\n",
      "20/20 [==============================] - 0s 7ms/step - loss: 0.0892 - accuracy: 0.9843\n",
      "Epoch 109/200\n",
      "20/20 [==============================] - 0s 8ms/step - loss: 0.0878 - accuracy: 0.9858\n",
      "Epoch 110/200\n",
      "20/20 [==============================] - 0s 7ms/step - loss: 0.0851 - accuracy: 0.9843\n",
      "Epoch 111/200\n",
      "20/20 [==============================] - 0s 8ms/step - loss: 0.0839 - accuracy: 0.9858\n",
      "Epoch 112/200\n",
      "20/20 [==============================] - 0s 8ms/step - loss: 0.0853 - accuracy: 0.9827\n",
      "Epoch 113/200\n",
      "20/20 [==============================] - 0s 8ms/step - loss: 0.0814 - accuracy: 0.9843\n",
      "Epoch 114/200\n",
      "20/20 [==============================] - 0s 8ms/step - loss: 0.0789 - accuracy: 0.9874\n",
      "Epoch 115/200\n",
      "20/20 [==============================] - 0s 8ms/step - loss: 0.0778 - accuracy: 0.9858\n",
      "Epoch 116/200\n",
      "20/20 [==============================] - 0s 8ms/step - loss: 0.0786 - accuracy: 0.9827\n",
      "Epoch 117/200\n",
      "20/20 [==============================] - 0s 8ms/step - loss: 0.0784 - accuracy: 0.9843\n",
      "Epoch 118/200\n",
      "20/20 [==============================] - 0s 8ms/step - loss: 0.0767 - accuracy: 0.9827\n",
      "Epoch 119/200\n",
      "20/20 [==============================] - 0s 7ms/step - loss: 0.0741 - accuracy: 0.9811\n",
      "Epoch 120/200\n",
      "20/20 [==============================] - 0s 7ms/step - loss: 0.0759 - accuracy: 0.9858\n",
      "Epoch 121/200\n",
      "20/20 [==============================] - 0s 8ms/step - loss: 0.0792 - accuracy: 0.9827\n",
      "Epoch 122/200\n",
      "20/20 [==============================] - 0s 8ms/step - loss: 0.0728 - accuracy: 0.9827\n",
      "Epoch 123/200\n",
      "20/20 [==============================] - 0s 8ms/step - loss: 0.0755 - accuracy: 0.9796\n",
      "Epoch 124/200\n",
      "20/20 [==============================] - 0s 7ms/step - loss: 0.0675 - accuracy: 0.9843\n",
      "Epoch 125/200\n",
      "20/20 [==============================] - 0s 8ms/step - loss: 0.0700 - accuracy: 0.9827\n",
      "Epoch 126/200\n",
      "20/20 [==============================] - 0s 7ms/step - loss: 0.0658 - accuracy: 0.9874\n",
      "Epoch 127/200\n",
      "20/20 [==============================] - 0s 8ms/step - loss: 0.0676 - accuracy: 0.9843\n",
      "Epoch 128/200\n",
      "20/20 [==============================] - 0s 8ms/step - loss: 0.0657 - accuracy: 0.9858\n",
      "Epoch 129/200\n",
      "20/20 [==============================] - 0s 8ms/step - loss: 0.0698 - accuracy: 0.9827\n",
      "Epoch 130/200\n",
      "20/20 [==============================] - 0s 7ms/step - loss: 0.0635 - accuracy: 0.9858\n",
      "Epoch 131/200\n",
      "20/20 [==============================] - 0s 8ms/step - loss: 0.0676 - accuracy: 0.9827\n",
      "Epoch 132/200\n",
      "20/20 [==============================] - 0s 8ms/step - loss: 0.0680 - accuracy: 0.9843\n",
      "Epoch 133/200\n",
      "20/20 [==============================] - 0s 8ms/step - loss: 0.0625 - accuracy: 0.9843\n",
      "Epoch 134/200\n",
      "20/20 [==============================] - 0s 9ms/step - loss: 0.0618 - accuracy: 0.9843\n",
      "Epoch 135/200\n",
      "20/20 [==============================] - 0s 8ms/step - loss: 0.0644 - accuracy: 0.9843\n",
      "Epoch 136/200\n",
      "20/20 [==============================] - 0s 7ms/step - loss: 0.0594 - accuracy: 0.9874\n",
      "Epoch 137/200\n",
      "20/20 [==============================] - 0s 8ms/step - loss: 0.0621 - accuracy: 0.9827\n",
      "Epoch 138/200\n",
      "20/20 [==============================] - 0s 7ms/step - loss: 0.0590 - accuracy: 0.9827\n",
      "Epoch 139/200\n",
      "20/20 [==============================] - 0s 7ms/step - loss: 0.0603 - accuracy: 0.9827\n",
      "Epoch 140/200\n",
      "20/20 [==============================] - 0s 8ms/step - loss: 0.0591 - accuracy: 0.9843\n",
      "Epoch 141/200\n",
      "20/20 [==============================] - 0s 8ms/step - loss: 0.0548 - accuracy: 0.9890\n",
      "Epoch 142/200\n",
      "20/20 [==============================] - 0s 8ms/step - loss: 0.0559 - accuracy: 0.9858\n",
      "Epoch 143/200\n",
      "20/20 [==============================] - 0s 8ms/step - loss: 0.0574 - accuracy: 0.9843\n",
      "Epoch 144/200\n",
      "20/20 [==============================] - 0s 7ms/step - loss: 0.0594 - accuracy: 0.9827\n",
      "Epoch 145/200\n",
      "20/20 [==============================] - 0s 7ms/step - loss: 0.0574 - accuracy: 0.9858\n",
      "Epoch 146/200\n",
      "20/20 [==============================] - 0s 8ms/step - loss: 0.0588 - accuracy: 0.9858\n",
      "Epoch 147/200\n",
      "20/20 [==============================] - 0s 8ms/step - loss: 0.0617 - accuracy: 0.9827\n",
      "Epoch 148/200\n",
      "20/20 [==============================] - 0s 8ms/step - loss: 0.0617 - accuracy: 0.9827\n",
      "Epoch 149/200\n",
      "20/20 [==============================] - 0s 8ms/step - loss: 0.0553 - accuracy: 0.9843\n",
      "Epoch 150/200\n",
      "20/20 [==============================] - 0s 7ms/step - loss: 0.0516 - accuracy: 0.9843\n",
      "Epoch 151/200\n",
      "20/20 [==============================] - 0s 7ms/step - loss: 0.0536 - accuracy: 0.9843\n",
      "Epoch 152/200\n",
      "20/20 [==============================] - 0s 7ms/step - loss: 0.0537 - accuracy: 0.9811\n",
      "Epoch 153/200\n",
      "20/20 [==============================] - 0s 8ms/step - loss: 0.0554 - accuracy: 0.9843\n",
      "Epoch 154/200\n",
      "20/20 [==============================] - 0s 8ms/step - loss: 0.0562 - accuracy: 0.9843\n",
      "Epoch 155/200\n",
      "20/20 [==============================] - 0s 8ms/step - loss: 0.0540 - accuracy: 0.9843\n",
      "Epoch 156/200\n",
      "20/20 [==============================] - 0s 8ms/step - loss: 0.0547 - accuracy: 0.9843\n",
      "Epoch 157/200\n",
      "20/20 [==============================] - 0s 7ms/step - loss: 0.0520 - accuracy: 0.9811\n",
      "Epoch 158/200\n",
      "20/20 [==============================] - 0s 8ms/step - loss: 0.0517 - accuracy: 0.9811\n",
      "Epoch 159/200\n",
      "20/20 [==============================] - 0s 8ms/step - loss: 0.0504 - accuracy: 0.9843\n",
      "Epoch 160/200\n",
      "20/20 [==============================] - 0s 7ms/step - loss: 0.0545 - accuracy: 0.9843\n",
      "Epoch 161/200\n",
      "20/20 [==============================] - 0s 8ms/step - loss: 0.0509 - accuracy: 0.9858\n",
      "Epoch 162/200\n",
      "20/20 [==============================] - 0s 8ms/step - loss: 0.0511 - accuracy: 0.9827\n",
      "Epoch 163/200\n",
      "20/20 [==============================] - 0s 7ms/step - loss: 0.0526 - accuracy: 0.9811\n",
      "Epoch 164/200\n",
      "20/20 [==============================] - 0s 8ms/step - loss: 0.0498 - accuracy: 0.9843\n",
      "Epoch 165/200\n",
      "20/20 [==============================] - 0s 8ms/step - loss: 0.0528 - accuracy: 0.9811\n",
      "Epoch 166/200\n",
      "20/20 [==============================] - 0s 7ms/step - loss: 0.0516 - accuracy: 0.9827\n",
      "Epoch 167/200\n",
      "20/20 [==============================] - 0s 8ms/step - loss: 0.0476 - accuracy: 0.9858\n",
      "Epoch 168/200\n",
      "20/20 [==============================] - 0s 7ms/step - loss: 0.0493 - accuracy: 0.9827\n",
      "Epoch 169/200\n",
      "20/20 [==============================] - 0s 7ms/step - loss: 0.0475 - accuracy: 0.9858\n",
      "Epoch 170/200\n",
      "20/20 [==============================] - 0s 8ms/step - loss: 0.0476 - accuracy: 0.9827\n",
      "Epoch 171/200\n",
      "20/20 [==============================] - 0s 8ms/step - loss: 0.0483 - accuracy: 0.9843\n",
      "Epoch 172/200\n",
      "20/20 [==============================] - 0s 8ms/step - loss: 0.0483 - accuracy: 0.9843\n",
      "Epoch 173/200\n",
      "20/20 [==============================] - 0s 8ms/step - loss: 0.0471 - accuracy: 0.9811\n",
      "Epoch 174/200\n",
      "20/20 [==============================] - 0s 8ms/step - loss: 0.0493 - accuracy: 0.9843\n",
      "Epoch 175/200\n",
      "20/20 [==============================] - 0s 7ms/step - loss: 0.0445 - accuracy: 0.9843\n",
      "Epoch 176/200\n",
      "20/20 [==============================] - 0s 7ms/step - loss: 0.0401 - accuracy: 0.9890\n",
      "Epoch 177/200\n",
      "20/20 [==============================] - 0s 8ms/step - loss: 0.0454 - accuracy: 0.9874\n",
      "Epoch 178/200\n",
      "20/20 [==============================] - 0s 7ms/step - loss: 0.0445 - accuracy: 0.9874\n",
      "Epoch 179/200\n",
      "20/20 [==============================] - 0s 7ms/step - loss: 0.0457 - accuracy: 0.9843\n",
      "Epoch 180/200\n",
      "20/20 [==============================] - 0s 9ms/step - loss: 0.0435 - accuracy: 0.9811\n",
      "Epoch 181/200\n",
      "20/20 [==============================] - 0s 7ms/step - loss: 0.0481 - accuracy: 0.9843\n",
      "Epoch 182/200\n",
      "20/20 [==============================] - 0s 7ms/step - loss: 0.0441 - accuracy: 0.9858\n",
      "Epoch 183/200\n",
      "20/20 [==============================] - 0s 7ms/step - loss: 0.0435 - accuracy: 0.9858\n",
      "Epoch 184/200\n",
      "20/20 [==============================] - 0s 8ms/step - loss: 0.0414 - accuracy: 0.9858\n",
      "Epoch 185/200\n",
      "20/20 [==============================] - 0s 8ms/step - loss: 0.0420 - accuracy: 0.9858\n",
      "Epoch 186/200\n",
      "20/20 [==============================] - 0s 8ms/step - loss: 0.0400 - accuracy: 0.9874\n",
      "Epoch 187/200\n",
      "20/20 [==============================] - 0s 7ms/step - loss: 0.0422 - accuracy: 0.9858\n",
      "Epoch 188/200\n",
      "20/20 [==============================] - 0s 7ms/step - loss: 0.0412 - accuracy: 0.9843\n",
      "Epoch 189/200\n",
      "20/20 [==============================] - 0s 7ms/step - loss: 0.0455 - accuracy: 0.9811\n",
      "Epoch 190/200\n",
      "20/20 [==============================] - 0s 8ms/step - loss: 0.0456 - accuracy: 0.9811\n",
      "Epoch 191/200\n",
      "20/20 [==============================] - 0s 8ms/step - loss: 0.0410 - accuracy: 0.9874\n",
      "Epoch 192/200\n",
      "20/20 [==============================] - 0s 8ms/step - loss: 0.0423 - accuracy: 0.9811\n",
      "Epoch 193/200\n",
      "20/20 [==============================] - 0s 8ms/step - loss: 0.0389 - accuracy: 0.9858\n",
      "Epoch 194/200\n",
      "20/20 [==============================] - 0s 8ms/step - loss: 0.0449 - accuracy: 0.9827\n",
      "Epoch 195/200\n",
      "20/20 [==============================] - 0s 7ms/step - loss: 0.0434 - accuracy: 0.9858\n",
      "Epoch 196/200\n",
      "20/20 [==============================] - 0s 8ms/step - loss: 0.0405 - accuracy: 0.9843\n",
      "Epoch 197/200\n",
      "20/20 [==============================] - 0s 7ms/step - loss: 0.0432 - accuracy: 0.9874\n",
      "Epoch 198/200\n",
      "20/20 [==============================] - 0s 8ms/step - loss: 0.0392 - accuracy: 0.9874\n",
      "Epoch 199/200\n",
      "20/20 [==============================] - 0s 7ms/step - loss: 0.0381 - accuracy: 0.9890\n",
      "Epoch 200/200\n",
      "20/20 [==============================] - 0s 7ms/step - loss: 0.0398 - accuracy: 0.9858\n"
     ]
    }
   ],
   "source": [
    "history = model1.fit(input_to_model, label, epochs=200, batch_size=32, verbose=1)"
   ]
  },
  {
   "cell_type": "code",
   "execution_count": 26,
   "metadata": {
    "colab": {
     "base_uri": "https://localhost:8080/",
     "height": 544
    },
    "colab_type": "code",
    "id": "3Zzav3MZXAff",
    "outputId": "46640e0b-705e-4939-9874-3518c24d79b7"
   },
   "outputs": [
    {
     "data": {
      "image/png": "[encoded data removed]",
      "text/plain": [
       "<Figure size 432x288 with 1 Axes>"
      ]
     },
     "metadata": {
      "needs_background": "light",
      "tags": []
     },
     "output_type": "display_data"
    },
    {
     "data": {
      "image/png": "[encoded data removed]",
      "text/plain": [
       "<Figure size 432x288 with 1 Axes>"
      ]
     },
     "metadata": {
      "needs_background": "light",
      "tags": []
     },
     "output_type": "display_data"
    }
   ],
   "source": [
    "acc = history.history['accuracy']\n",
    "loss = history.history['loss']\n",
    "epochs = range(len(acc))\n",
    "plt.plot(epochs, acc, 'b', label='Training accuracy')\n",
    "plt.title('Training accuracy')\n",
    "plt.figure()\n",
    "plt.plot(epochs, loss, 'b', label='Training Loss')\n",
    "plt.title('Training loss')\n",
    "plt.legend()\n",
    "plt.show()"
   ]
  },
  {
   "cell_type": "code",
   "execution_count": 29,
   "metadata": {
    "colab": {},
    "colab_type": "code",
    "id": "kfEJbJpRXAfh"
   },
   "outputs": [],
   "source": [
    "def generate_sample1(seed_text):\n",
    "    ### START CODE HERE ### \n",
    "    tokenizer = Tokenizer(filters='\"#$%&()*+-/:;<=>@[\\\\]^_`{|}~\\t\\n')\n",
    "    sentence = seed_text\n",
    "    a = ''\n",
    "    while a != '.':\n",
    "      \n",
    "        corpus = sentence.lower().split(\"\\n\")\n",
    "\n",
    "        tokenizer.fit_on_texts(corpus)\n",
    "    \n",
    "        input_sequences = []\n",
    "        for l in corpus:\n",
    "            token_list = tokenizer.texts_to_sequences([l])[0]\n",
    "            input_sequences.append(token_list)\n",
    "        input_sequences = np.array(pad_sequences(input_sequences, maxlen=max_sequence_len-1, padding='pre'))\n",
    "        prediction = model1.predict_classes(input_sequences, verbose=0)\n",
    "        if prediction[0] != 0:\n",
    "          w = reverse_word_map[prediction[0]]\n",
    "        sentence += ' ' + w\n",
    "        a = w\n",
    "    return sentence\n",
    "    ### END CODE HERE ### "
   ]
  },
  {
   "cell_type": "code",
   "execution_count": 38,
   "metadata": {
    "colab": {
     "base_uri": "https://localhost:8080/",
     "height": 107
    },
    "colab_type": "code",
    "id": "zwrRM-KsXAfk",
    "outputId": "52154e18-b9e5-45b3-a1ae-b5307e3e251e"
   },
   "outputs": [
    {
     "name": "stdout",
     "output_type": "stream",
     "text": [
      "Write the beginning of your tweet, the algorithm machine will complete it. Your input is: My marriage had drifted\n",
      "\n",
      "\n",
      "My marriage had drifted the flu has flu have her invented years that can it home that reports italy spread it it , , , it the days it days from viruses folks the the the the the the folks which out lot should should a . "
     ]
    }
   ],
   "source": [
    "\"\"\"\n",
    "Use - 'My marriage had drifted'))\n",
    "\"\"\"\n",
    "usr_input = input(\"Write the beginning of your tweet, the algorithm machine will complete it. Your input is: \")\n",
    "print('\\n')\n",
    "for w in generate_sample1(usr_input).split():    \n",
    "    print(w, end =\" \")\n",
    "    time.sleep(0.4)"
   ]
  },
  {
   "cell_type": "markdown",
   "metadata": {
    "colab_type": "text",
    "id": "DqHwr58Bn5AX"
   },
   "source": [
    "# Congratulations!\n",
    "\n",
    "You've come to the end of this assignment, and have seen how to build a deep learning architecture that generate fake tweets/comments. \n",
    "\n",
    "Congratulations on finishing this notebook! \n",
    "\n"
   ]
  }
 ],
 "metadata": {
  "accelerator": "GPU",
  "colab": {
   "collapsed_sections": [],
   "name": "1.ipynb",
   "provenance": []
  },
  "kernelspec": {
   "display_name": "Python 3",
   "language": "python",
   "name": "python3"
  },
  "language_info": {
   "codemirror_mode": {
    "name": "ipython",
    "version": 3
   },
   "file_extension": ".py",
   "mimetype": "text/x-python",
   "name": "python",
   "nbconvert_exporter": "python",
   "pygments_lexer": "ipython3",
   "version": "3.7.7"
  }
 },
 "nbformat": 4,
 "nbformat_minor": 1
}
